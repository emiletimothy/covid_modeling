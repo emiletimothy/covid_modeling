{
  "nbformat": 4,
  "nbformat_minor": 0,
  "metadata": {
    "colab": {
      "name": "SIRModel2.ipynb",
      "provenance": [],
      "collapsed_sections": [
        "7WijYQXcfmOk",
        "ym1JZgPwf0Hj",
        "36SovuL6osH4"
      ]
    },
    "kernelspec": {
      "name": "python3",
      "display_name": "Python 3"
    },
    "language_info": {
      "name": "python"
    }
  },
  "cells": [
    {
      "cell_type": "markdown",
      "metadata": {
        "id": "-l48f9Mq8gzo"
      },
      "source": [
        "For organizational purposes, all the data used for training SIR models on this\n",
        "Colab uses data in the US as a whole"
      ]
    },
    {
      "cell_type": "code",
      "metadata": {
        "id": "cSwLFIy-fbV2"
      },
      "source": [
        "import pandas as pd\n",
        "import matplotlib.pyplot as plt\n",
        "import numpy as np"
      ],
      "execution_count": null,
      "outputs": []
    },
    {
      "cell_type": "markdown",
      "metadata": {
        "id": "rCO5IugSeENF"
      },
      "source": [
        "# Load Data"
      ]
    },
    {
      "cell_type": "markdown",
      "metadata": {
        "id": "7WijYQXcfmOk"
      },
      "source": [
        "## Variants (Need to Update)"
      ]
    },
    {
      "cell_type": "code",
      "metadata": {
        "id": "pi6uueZuduX_"
      },
      "source": [
        "# Read from now deprecated variants database\n",
        "df = pd.read_csv('https://raw.githubusercontent.com/USATODAY/covid-variants/master/!combined.csv')"
      ],
      "execution_count": null,
      "outputs": []
    },
    {
      "cell_type": "code",
      "metadata": {
        "id": "eE3vgdwUeIzW"
      },
      "source": [
        "# Parse\n",
        "df.columns = ['Date', 'State', 'B.1.1.7', 'P.1', 'B.1.351', 'Total']\n",
        "dates = list(set(df['Date'].to_list()))\n",
        "dates.sort()\n",
        "\n",
        "data_per_date = {}\n",
        "for date in dates:\n",
        "  data_per_date[date] = df[df['Date'] == date]\n",
        "  data_per_date[date] = data_per_date[date].reset_index(drop=True)"
      ],
      "execution_count": null,
      "outputs": []
    },
    {
      "cell_type": "code",
      "metadata": {
        "id": "q1lj69BPYTDW"
      },
      "source": [
        "states = list(set(df['State'].to_list()))\n",
        "states.sort()\n",
        "\n",
        "var_totals = {}\n",
        "for date in dates:\n",
        "  b117 = 0\n",
        "  p1 = 0\n",
        "  b351 = 0\n",
        "  day = data_per_date[date]\n",
        "  for state in states:\n",
        "    b117 += int(day[day['State'] == state]['B.1.1.7'])\n",
        "    p1 += int(day[day['State'] == state]['P.1'])\n",
        "    b351 += int(day[day['State'] == state]['B.1.351'])\n",
        "  var_totals[date] = (b117, p1, b351)"
      ],
      "execution_count": null,
      "outputs": []
    },
    {
      "cell_type": "markdown",
      "metadata": {
        "id": "ym1JZgPwf0Hj"
      },
      "source": [
        "## General Vaccine Number"
      ]
    },
    {
      "cell_type": "code",
      "metadata": {
        "id": "1Y1jdeDzgHME"
      },
      "source": [
        "df = pd.read_csv('https://raw.githubusercontent.com/owid/covid-19-data/master/public/data/vaccinations/us_state_vaccinations.csv')"
      ],
      "execution_count": null,
      "outputs": []
    },
    {
      "cell_type": "code",
      "metadata": {
        "id": "b6xjt8VHgPsz"
      },
      "source": [
        "us_df = df[df['location'] == 'United States']\n",
        "\n",
        "dates = list(set(us_df['date'].to_list()))\n",
        "dates.sort()\n",
        "\n",
        "vaccine_data_per_date = {}\n",
        "for date in dates:\n",
        "  day = us_df[us_df['date'] == date]\n",
        "  if np.isnan(day['total_vaccinations'].item()):\n",
        "    continue\n",
        "  vaccine_data_per_date[date] = int(day['total_vaccinations'])\n"
      ],
      "execution_count": null,
      "outputs": []
    },
    {
      "cell_type": "markdown",
      "metadata": {
        "id": "36SovuL6osH4"
      },
      "source": [
        "## Total Covid Cases"
      ]
    },
    {
      "cell_type": "code",
      "metadata": {
        "id": "OiWJMQhehvqw",
        "colab": {
          "base_uri": "https://localhost:8080/"
        },
        "outputId": "8fcc773b-211a-428e-b2e9-094a3300ae71"
      },
      "source": [
        "df = pd.read_csv('https://raw.githubusercontent.com/nytimes/covid-19-data/master/us.csv')\n",
        "df"
      ],
      "execution_count": null,
      "outputs": [
        {
          "output_type": "execute_result",
          "data": {
            "text/html": [
              "<div>\n",
              "<style scoped>\n",
              "    .dataframe tbody tr th:only-of-type {\n",
              "        vertical-align: middle;\n",
              "    }\n",
              "\n",
              "    .dataframe tbody tr th {\n",
              "        vertical-align: top;\n",
              "    }\n",
              "\n",
              "    .dataframe thead th {\n",
              "        text-align: right;\n",
              "    }\n",
              "</style>\n",
              "<table border=\"1\" class=\"dataframe\">\n",
              "  <thead>\n",
              "    <tr style=\"text-align: right;\">\n",
              "      <th></th>\n",
              "      <th>date</th>\n",
              "      <th>cases</th>\n",
              "      <th>deaths</th>\n",
              "    </tr>\n",
              "  </thead>\n",
              "  <tbody>\n",
              "    <tr>\n",
              "      <th>0</th>\n",
              "      <td>2020-01-21</td>\n",
              "      <td>1</td>\n",
              "      <td>0</td>\n",
              "    </tr>\n",
              "    <tr>\n",
              "      <th>1</th>\n",
              "      <td>2020-01-22</td>\n",
              "      <td>1</td>\n",
              "      <td>0</td>\n",
              "    </tr>\n",
              "    <tr>\n",
              "      <th>2</th>\n",
              "      <td>2020-01-23</td>\n",
              "      <td>1</td>\n",
              "      <td>0</td>\n",
              "    </tr>\n",
              "    <tr>\n",
              "      <th>3</th>\n",
              "      <td>2020-01-24</td>\n",
              "      <td>2</td>\n",
              "      <td>0</td>\n",
              "    </tr>\n",
              "    <tr>\n",
              "      <th>4</th>\n",
              "      <td>2020-01-25</td>\n",
              "      <td>3</td>\n",
              "      <td>0</td>\n",
              "    </tr>\n",
              "    <tr>\n",
              "      <th>...</th>\n",
              "      <td>...</td>\n",
              "      <td>...</td>\n",
              "      <td>...</td>\n",
              "    </tr>\n",
              "    <tr>\n",
              "      <th>463</th>\n",
              "      <td>2021-04-28</td>\n",
              "      <td>32258020</td>\n",
              "      <td>573900</td>\n",
              "    </tr>\n",
              "    <tr>\n",
              "      <th>464</th>\n",
              "      <td>2021-04-29</td>\n",
              "      <td>32315986</td>\n",
              "      <td>574777</td>\n",
              "    </tr>\n",
              "    <tr>\n",
              "      <th>465</th>\n",
              "      <td>2021-04-30</td>\n",
              "      <td>32374368</td>\n",
              "      <td>575635</td>\n",
              "    </tr>\n",
              "    <tr>\n",
              "      <th>466</th>\n",
              "      <td>2021-05-01</td>\n",
              "      <td>32419050</td>\n",
              "      <td>576337</td>\n",
              "    </tr>\n",
              "    <tr>\n",
              "      <th>467</th>\n",
              "      <td>2021-05-02</td>\n",
              "      <td>32448586</td>\n",
              "      <td>576636</td>\n",
              "    </tr>\n",
              "  </tbody>\n",
              "</table>\n",
              "<p>468 rows × 3 columns</p>\n",
              "</div>"
            ],
            "text/plain": [
              "           date     cases  deaths\n",
              "0    2020-01-21         1       0\n",
              "1    2020-01-22         1       0\n",
              "2    2020-01-23         1       0\n",
              "3    2020-01-24         2       0\n",
              "4    2020-01-25         3       0\n",
              "..          ...       ...     ...\n",
              "463  2021-04-28  32258020  573900\n",
              "464  2021-04-29  32315986  574777\n",
              "465  2021-04-30  32374368  575635\n",
              "466  2021-05-01  32419050  576337\n",
              "467  2021-05-02  32448586  576636\n",
              "\n",
              "[468 rows x 3 columns]"
            ]
          },
          "metadata": {
            "tags": []
          },
          "execution_count": 7
        }
      ]
    },
    {
      "cell_type": "code",
      "metadata": {
        "id": "h_R89hBhhyiA"
      },
      "source": [
        "dates = list(set(df['date'].to_list()))\n",
        "dates.sort()\n",
        "\n",
        "case_data_per_date = {}\n",
        "for date in dates:\n",
        "  day = df[df['date'] == date]\n",
        "  case_data_per_date[date] = int(day['cases'])"
      ],
      "execution_count": null,
      "outputs": []
    },
    {
      "cell_type": "markdown",
      "metadata": {
        "id": "dpfePpeZlIsj"
      },
      "source": [
        "## Convert to Time Series for SIR Model"
      ]
    },
    {
      "cell_type": "code",
      "metadata": {
        "id": "vmacdbV8nLC4"
      },
      "source": [
        "# Start Date for data recording\n",
        "from datetime import datetime\n",
        "from datetime import date\n",
        "\n",
        "start_date = date(2021, 2, 1)"
      ],
      "execution_count": null,
      "outputs": []
    },
    {
      "cell_type": "code",
      "metadata": {
        "colab": {
          "base_uri": "https://localhost:8080/"
        },
        "id": "AgVCei-ZlNsi",
        "outputId": "09418173-8934-4f99-c7bc-a4cb5fe5ef5e"
      },
      "source": [
        "vac_t = {}\n",
        "\n",
        "for date in vaccine_data_per_date:\n",
        "  cur_date = datetime.strptime(date, \"%Y-%m-%d\").date()\n",
        "  diff = cur_date - start_date\n",
        "  vac_t[diff.days] = vaccine_data_per_date[date]\n",
        "\n",
        "print(vac_t)"
      ],
      "execution_count": null,
      "outputs": [
        {
          "output_type": "stream",
          "text": [
            "{-43: 556208, -42: 614117, -40: 1008025, -37: 1944585, -35: 2127143, -33: 2794588, -30: 4225756, -28: 4563260, -27: 4836469, -26: 5306797, -25: 5919418, -24: 6688231, -21: 8987322, -20: 9327138, -19: 10278462, -18: 11148991, -17: 12279180, -13: 15707588, -12: 16525281, -11: 17546374, -10: 19107959, -9: 20537990, -8: 21848655, -7: 22734243, -6: 23540994, -5: 24652634, -4: 26193682, -3: 27884661, -2: 29577902, -1: 31123299, 0: 32222402, 1: 32780860, 2: 33878254, 3: 35203710, 4: 36819212, 5: 39037964, 6: 41210937, 7: 42417617, 8: 43206190, 9: 44769970, 10: 46390270, 11: 48410558, 12: 50641884, 13: 52884356, 15: 55220364, 16: 56281827, 17: 57737767, 18: 59585043, 19: 61289500, 20: 63090634, 21: 64177474, 22: 65032083, 23: 66464947, 24: 68274117, 25: 70454064, 26: 72806180, 27: 75236003, 28: 76899987, 29: 78631601, 30: 80540474, 31: 82572848, 32: 85008094, 33: 87912323, 34: 90351750, 35: 92089852, 36: 93692598, 37: 95721290, 38: 98203893, 39: 101128005, 40: 105703501, 41: 107060274, 42: 109081860, 43: 110737856, 44: 113037627, 45: 115730008, 46: 118313818, 47: 121441497, 48: 124481412, 49: 126509736, 50: 128217029, 51: 130473853, 52: 133305295, 53: 136684688, 54: 140180735, 55: 143462691, 56: 145812835, 57: 147602345, 58: 150273292, 59: 153631404, 60: 157606463, 61: 161688422, 62: 165053746, 63: 167187795, 64: 168592075, 65: 171476655, 66: 174879716, 67: 178837781, 68: 183467709, 69: 187047131, 70: 189692045, 71: 192282781, 72: 194791836, 73: 198317040, 74: 202282923, 75: 205871913, 76: 209406814, 77: 211581309, 78: 213388238, 79: 215951909, 80: 218947643, 81: 222322230, 82: 225640460, 83: 228661408, 84: 230768454, 85: 232407669, 86: 234639414, 87: 237360493, 88: 240159677, 89: 243463471, 90: 245591469, 91: 246780203}\n"
          ],
          "name": "stdout"
        }
      ]
    },
    {
      "cell_type": "code",
      "metadata": {
        "colab": {
          "base_uri": "https://localhost:8080/"
        },
        "id": "letpxuePnHIh",
        "outputId": "1bb84ae6-ee1f-4b29-8d86-2a58c8717f5f"
      },
      "source": [
        "var_t = {}\n",
        "\n",
        "for date in var_totals:\n",
        "  cur_date = datetime.strptime(date, \"%Y-%m-%d\").date()\n",
        "  diff = cur_date - start_date\n",
        "  var_t[diff.days] = var_totals[date]\n",
        "\n",
        "print(var_t)"
      ],
      "execution_count": null,
      "outputs": [
        {
          "output_type": "stream",
          "text": [
            "{-24: (63, 0, 0), -20: (72, 0, 0), -18: (76, 0, 0), -13: (122, 0, 0), -12: (144, 0, 0), -11: (144, 0, 0), -10: (195, 0, 0), -9: (195, 0, 0), -8: (195, 0, 0), -7: (293, 0, 0), -6: (293, 0, 0), -5: (315, 0, 0), -4: (315, 0, 0), -3: (434, 1, 2), -2: (434, 1, 2), -1: (467, 1, 3), 0: (467, 1, 3), 1: (541, 2, 3), 2: (541, 2, 3), 3: (611, 2, 5), 4: (611, 2, 5), 5: (611, 2, 5), 6: (690, 3, 6), 7: (690, 3, 6), 8: (932, 3, 9), 9: (932, 3, 9), 10: (981, 3, 13), 11: (981, 3, 13), 12: (981, 3, 13), 13: (1173, 3, 17), 14: (1173, 3, 17), 15: (1278, 3, 19), 16: (1278, 3, 19), 17: (1523, 5, 21), 18: (1523, 5, 21), 19: (1523, 5, 21), 20: (1661, 5, 22), 21: (1661, 5, 22), 22: (1881, 5, 46), 23: (1881, 5, 46), 24: (2102, 6, 49), 25: (2102, 6, 49), 26: (2102, 6, 49), 27: (2400, 10, 53), 28: (2400, 10, 53), 29: (2506, 10, 65), 30: (2506, 10, 65), 31: (2672, 13, 68), 32: (2672, 13, 68), 33: (2672, 13, 68), 34: (3037, 15, 81), 35: (3037, 15, 81), 36: (3283, 15, 91), 37: (3283, 15, 91), 38: (3701, 17, 108), 39: (3701, 17, 108), 40: (3701, 17, 108), 41: (4533, 25, 138), 42: (4533, 25, 138), 43: (4686, 27, 142), 44: (4686, 27, 142), 45: (5576, 48, 180), 46: (5576, 48, 180), 47: (5576, 48, 180), 48: (6390, 54, 194), 49: (6390, 54, 194), 50: (7501, 61, 219), 51: (7501, 61, 219), 52: (8337, 79, 266), 53: (8337, 79, 266), 54: (8337, 79, 266), 55: (10579, 118, 288), 56: (10579, 118, 288), 57: (11569, 172, 312), 58: (11569, 172, 312), 59: (12505, 224, 323), 60: (12505, 224, 323), 61: (12505, 224, 323), 62: (15511, 289, 374), 63: (15511, 289, 374), 64: (16275, 356, 386), 65: (16275, 356, 386), 66: (19554, 434, 424), 67: (19554, 434, 424), 68: (19554, 434, 424), 69: (20915, 497, 453), 70: (20915, 497, 453), 71: (20915, 497, 453), 72: (20915, 497, 453), 73: (20915, 497, 453), 74: (20915, 497, 453), 75: (20915, 497, 453), 76: (20915, 497, 453), 77: (20915, 497, 453)}\n"
          ],
          "name": "stdout"
        }
      ]
    },
    {
      "cell_type": "code",
      "metadata": {
        "colab": {
          "base_uri": "https://localhost:8080/"
        },
        "id": "rsLFBj-eoyGw",
        "outputId": "50e112ec-851e-48e6-a6b9-f2161eebc7d8"
      },
      "source": [
        "cases_t = {}\n",
        "\n",
        "for date in case_data_per_date:\n",
        "  cur_date = datetime.strptime(date, \"%Y-%m-%d\").date()\n",
        "  diff = cur_date - start_date\n",
        "  cases_t[diff.days] = case_data_per_date[date]\n",
        "\n",
        "print(cases_t)"
      ],
      "execution_count": null,
      "outputs": [
        {
          "output_type": "stream",
          "text": [
            "{-377: 1, -376: 1, -375: 1, -374: 2, -373: 3, -372: 5, -371: 5, -370: 5, -369: 5, -368: 6, -367: 7, -366: 8, -365: 11, -364: 11, -363: 11, -362: 12, -361: 12, -360: 12, -359: 12, -358: 12, -357: 13, -356: 13, -355: 14, -354: 15, -353: 15, -352: 15, -351: 15, -350: 25, -349: 25, -348: 25, -347: 27, -346: 30, -345: 30, -344: 30, -343: 43, -342: 45, -341: 60, -340: 60, -339: 65, -338: 70, -337: 88, -336: 104, -335: 125, -334: 161, -333: 228, -332: 311, -331: 428, -330: 547, -329: 748, -328: 1018, -327: 1263, -326: 1668, -325: 2224, -324: 2898, -323: 3600, -322: 4507, -321: 5906, -320: 8350, -319: 12393, -318: 18012, -317: 24528, -316: 33073, -315: 43505, -314: 53938, -313: 68572, -312: 85570, -311: 102900, -310: 123966, -309: 142486, -308: 163955, -307: 188461, -306: 215391, -305: 245108, -304: 277426, -303: 312525, -302: 338141, -301: 369057, -300: 399394, -299: 431214, -298: 465913, -297: 499386, -296: 531106, -295: 558249, -294: 584018, -293: 610709, -292: 640742, -291: 672355, -290: 703864, -289: 732262, -288: 757596, -287: 784991, -286: 810505, -285: 839336, -284: 873112, -283: 909853, -282: 944261, -281: 970996, -280: 994193, -279: 1018844, -278: 1045399, -277: 1075756, -276: 1109726, -275: 1139200, -274: 1165340, -273: 1187302, -272: 1211011, -271: 1235517, -270: 1263995, -269: 1291643, -268: 1316511, -267: 1336828, -266: 1354449, -265: 1376749, -264: 1397894, -263: 1424856, -262: 1451093, -261: 1474752, -260: 1493766, -259: 1515593, -258: 1536570, -257: 1559640, -256: 1585373, -255: 1609172, -254: 1631440, -253: 1651471, -252: 1670571, -251: 1689467, -250: 1708211, -249: 1730723, -248: 1755271, -247: 1778668, -246: 1799302, -245: 1821199, -244: 1841990, -243: 1861977, -242: 1883593, -241: 1912302, -240: 1934818, -239: 1953434, -238: 1971641, -237: 1990446, -236: 2013298, -235: 2036500, -234: 2061993, -233: 2087327, -232: 2106457, -231: 2126574, -230: 2151459, -229: 2177114, -228: 2205173, -227: 2236009, -226: 2268034, -225: 2294413, -224: 2324879, -223: 2359939, -222: 2396928, -221: 2438101, -220: 2483629, -219: 2525928, -218: 2565436, -217: 2604932, -216: 2653321, -215: 2703296, -214: 2758855, -213: 2816009, -212: 2866015, -211: 2910782, -210: 2958098, -209: 3012182, -208: 3071637, -207: 3131526, -206: 3199753, -205: 3260474, -204: 3318279, -203: 3379846, -202: 3445448, -201: 3513790, -200: 3589477, -199: 3660400, -198: 3722851, -197: 3785126, -196: 3845014, -195: 3910291, -194: 3980030, -193: 4050036, -192: 4123561, -191: 4190337, -190: 4244554, -189: 4303735, -188: 4366851, -187: 4433633, -186: 4502581, -185: 4571669, -184: 4628497, -183: 4679291, -182: 4726775, -181: 4780324, -180: 4834047, -179: 4891561, -178: 4952718, -177: 5007958, -176: 5056438, -175: 5103611, -174: 5156968, -173: 5211246, -172: 5265307, -171: 5324784, -170: 5375527, -169: 5417664, -168: 5455187, -167: 5498420, -166: 5541433, -165: 5587462, -164: 5636491, -163: 5681517, -162: 5713850, -161: 5754254, -160: 5793437, -159: 5838756, -158: 5884366, -157: 5930930, -156: 5975540, -155: 6008970, -154: 6045455, -153: 6089504, -152: 6121948, -151: 6168342, -150: 6220446, -149: 6262700, -148: 6292699, -147: 6317865, -146: 6346806, -145: 6380138, -144: 6418198, -143: 6465766, -142: 6504870, -141: 6538213, -140: 6575100, -139: 6614317, -138: 6653585, -137: 6698895, -136: 6747782, -135: 6789593, -134: 6825949, -133: 6880899, -132: 6918290, -131: 6959841, -130: 7005043, -129: 7059624, -128: 7102321, -127: 7139619, -126: 7176979, -125: 7220676, -124: 7262734, -123: 7309152, -122: 7362732, -121: 7410511, -120: 7445574, -119: 7507986, -118: 7550848, -117: 7603865, -116: 7660248, -115: 7719210, -114: 7770858, -113: 7815641, -112: 7863657, -111: 7918051, -110: 7977904, -109: 8043257, -108: 8113720, -107: 8166481, -106: 8214363, -105: 8279803, -104: 8340397, -103: 8404634, -102: 8479762, -101: 8565059, -100: 8643640, -99: 8703355, -98: 8777986, -97: 8852373, -96: 8934258, -95: 9024915, -94: 9124783, -93: 9208993, -92: 9283188, -91: 9377201, -90: 9469617, -89: 9577697, -88: 9699030, -87: 9831853, -86: 9957785, -85: 10061201, -84: 10191642, -83: 10331392, -82: 10474277, -81: 10637917, -80: 10819414, -79: 10978447, -78: 11113634, -77: 11280194, -76: 11441833, -75: 11614116, -74: 11801631, -73: 12000512, -72: 12172457, -71: 12313295, -70: 12493028, -69: 12670931, -68: 12851603, -67: 12954496, -66: 13160382, -65: 13311528, -64: 13447900, -63: 13615739, -62: 13799999, -61: 14001210, -60: 14218973, -59: 14450360, -58: 14656033, -57: 14828141, -56: 15032433, -55: 15252314, -54: 15472050, -53: 15697271, -52: 15977838, -51: 16185267, -50: 16369491, -49: 16570615, -48: 16773586, -47: 17018628, -46: 17257055, -45: 17508278, -44: 17702197, -43: 17882143, -42: 18083756, -41: 18285416, -40: 18513204, -39: 18706752, -38: 18807725, -37: 19024581, -36: 19176674, -35: 19365727, -34: 19566819, -33: 19795855, -32: 20026877, -31: 20174150, -30: 20465532, -29: 20667499, -28: 20919448, -27: 21154475, -26: 21410474, -25: 21690778, -24: 21991447, -23: 22243548, -22: 22451857, -21: 22679873, -20: 22909703, -19: 23139117, -18: 23377849, -17: 23618820, -16: 23820341, -15: 23989827, -14: 24132320, -13: 24318005, -12: 24504921, -11: 24695191, -10: 24887106, -9: 25054931, -8: 25184350, -7: 25340358, -6: 25492063, -5: 25647812, -4: 25813099, -3: 25978829, -2: 26112633, -1: 26226087, 0: 26366205, 1: 26484115, 2: 26604355, 3: 26730274, 4: 26859879, 5: 26964834, 6: 27052116, 7: 27145182, 8: 27241673, 9: 27336672, 10: 27442344, 11: 27541997, 12: 27626687, 13: 27690482, 14: 27745804, 15: 27810426, 16: 27880636, 17: 27952516, 18: 28030615, 19: 28100359, 20: 28155556, 21: 28215087, 22: 28287032, 23: 28361221, 24: 28439075, 25: 28517373, 26: 28580074, 27: 28630999, 28: 28687745, 29: 28745562, 30: 28812302, 31: 28879699, 32: 28945483, 33: 29002069, 34: 29042198, 35: 29136712, 36: 29192693, 37: 29251018, 38: 29313547, 39: 29377890, 40: 29427471, 41: 29465477, 42: 29522720, 43: 29577364, 44: 29636318, 45: 29696934, 46: 29757655, 47: 29812075, 48: 29846292, 49: 29901150, 50: 29958018, 51: 30037929, 52: 30107249, 53: 30181907, 54: 30242595, 55: 30287121, 56: 30357920, 57: 30420282, 58: 30488368, 59: 30565680, 60: 30634255, 61: 30698333, 62: 30735168, 63: 30812021, 64: 30874041, 65: 30947230, 66: 31027855, 67: 31109440, 68: 31174156, 69: 31222187, 70: 31294438, 71: 31371884, 72: 31447748, 73: 31521510, 74: 31599959, 75: 31653690, 76: 31695255, 77: 31765745, 78: 31826472, 79: 31889376, 80: 31955733, 81: 32019485, 82: 32070060, 83: 32103722, 84: 32151152, 85: 32203150, 86: 32258020, 87: 32315986, 88: 32374368, 89: 32419050, 90: 32448586}\n"
          ],
          "name": "stdout"
        }
      ]
    },
    {
      "cell_type": "code",
      "metadata": {
        "colab": {
          "base_uri": "https://localhost:8080/"
        },
        "id": "L9qJU2Gxp20c",
        "outputId": "86c4c741-d837-4122-b35c-c81c057b6a72"
      },
      "source": [
        "case_c_t = {}\n",
        "\n",
        "for v in var_t:\n",
        "  if v < 0:\n",
        "    continue\n",
        "  cases = cases_t[v]\n",
        "  case_c_t[v] = cases_t[v] - sum(var_t[v])\n",
        "\n",
        "print(case_c_t)"
      ],
      "execution_count": null,
      "outputs": [
        {
          "output_type": "stream",
          "text": [
            "{0: 26365734, 1: 26483569, 2: 26603809, 3: 26729656, 4: 26859261, 5: 26964216, 6: 27051417, 7: 27144483, 8: 27240729, 9: 27335728, 10: 27441347, 11: 27541000, 12: 27625690, 13: 27689289, 14: 27744611, 15: 27809126, 16: 27879336, 17: 27950967, 18: 28029066, 19: 28098810, 20: 28153868, 21: 28213399, 22: 28285100, 23: 28359289, 24: 28436918, 25: 28515216, 26: 28577917, 27: 28628536, 28: 28685282, 29: 28742981, 30: 28809721, 31: 28876946, 32: 28942730, 33: 28999316, 34: 29039065, 35: 29133579, 36: 29189304, 37: 29247629, 38: 29309721, 39: 29374064, 40: 29423645, 41: 29460781, 42: 29518024, 43: 29572509, 44: 29631463, 45: 29691130, 46: 29751851, 47: 29806271, 48: 29839654, 49: 29894512, 50: 29950237, 51: 30030148, 52: 30098567, 53: 30173225, 54: 30233913, 55: 30276136, 56: 30346935, 57: 30408229, 58: 30476315, 59: 30552628, 60: 30621203, 61: 30685281, 62: 30718994, 63: 30795847, 64: 30857024, 65: 30930213, 66: 31007443, 67: 31089028, 68: 31153744, 69: 31200322, 70: 31272573, 71: 31350019, 72: 31425883, 73: 31499645, 74: 31578094, 75: 31631825, 76: 31673390, 77: 31743880}\n"
          ],
          "name": "stdout"
        }
      ]
    },
    {
      "cell_type": "markdown",
      "metadata": {
        "id": "UtXuWGqCq93G"
      },
      "source": [
        "## Curve Fit Vaccinations"
      ]
    },
    {
      "cell_type": "markdown",
      "metadata": {
        "id": "gkHga8uXN3T4"
      },
      "source": [
        "Fit vaccine cumulative curve to logistic function."
      ]
    },
    {
      "cell_type": "code",
      "metadata": {
        "colab": {
          "base_uri": "https://localhost:8080/"
        },
        "id": "JCi28sfDq89z",
        "outputId": "3f3ab469-a953-4be2-b96e-1d5b8a36d3f4"
      },
      "source": [
        "x = list(filter(lambda x: x >= 0, [v for v in vac_t]))\n",
        "y = [vac_t[v] / 1e7 for v in x]\n",
        "plt.plot(x, y)\n",
        "plt.show()"
      ],
      "execution_count": null,
      "outputs": [
        {
          "output_type": "display_data",
          "data": {
            "image/png": "[encoded data removed]",
            "text/plain": [
              "<Figure size 432x288 with 1 Axes>"
            ]
          },
          "metadata": {
            "tags": [],
            "needs_background": "light"
          }
        }
      ]
    },
    {
      "cell_type": "code",
      "metadata": {
        "colab": {
          "base_uri": "https://localhost:8080/"
        },
        "id": "blL_RyCMr_pN",
        "outputId": "aba30b71-2b64-4b86-9aac-c66c70921214"
      },
      "source": [
        "from scipy.optimize import curve_fit\n",
        "\n",
        "n = 32.82\n",
        "\n",
        "def logifunc(x, x0, k, off):\n",
        "  return n / (1 + np.exp(-k*(x-x0))) + off\n",
        "\n",
        "fit = curve_fit(logifunc, x, y, p0=[10, 10, 1.2e7])\n",
        "print(fit[0])\n",
        "\n",
        "xs = np.linspace(0, 160, 400)\n",
        "ys = [logifunc(x, fit[0][0], fit[0][1], fit[0][2]) for x in xs]\n",
        "plt.plot(xs, ys)\n",
        "plt.plot(x, y)\n",
        "plt.legend(['Logistic Curve', 'Actual Curve'])\n",
        "plt.ylabel('Vaccinations in Tens of Millions')\n",
        "plt.xlabel('Days')\n",
        "plt.show()\n",
        "\n",
        "vac_fit = fit[0]\n",
        "logifunc(0, vac_fit[0], vac_fit[1], vac_fit[2])"
      ],
      "execution_count": null,
      "outputs": [
        {
          "output_type": "stream",
          "text": [
            "[6.41830862e+01 3.70483692e-02 7.69727240e-01]\n"
          ],
          "name": "stdout"
        },
        {
          "output_type": "stream",
          "text": [
            "/usr/local/lib/python3.7/dist-packages/ipykernel_launcher.py:6: RuntimeWarning: overflow encountered in exp\n",
            "  \n"
          ],
          "name": "stderr"
        },
        {
          "output_type": "display_data",
          "data": {
            "image/png": "[encoded data removed]",
            "text/plain": [
              "<Figure size 432x288 with 1 Axes>"
            ]
          },
          "metadata": {
            "tags": [],
            "needs_background": "light"
          }
        },
        {
          "output_type": "execute_result",
          "data": {
            "text/plain": [
              "3.5553308761734677"
            ]
          },
          "metadata": {
            "tags": []
          },
          "execution_count": 15
        }
      ]
    },
    {
      "cell_type": "code",
      "metadata": {
        "colab": {
          "base_uri": "https://localhost:8080/"
        },
        "id": "9z1b7AoZIfKk",
        "outputId": "9390058c-0a73-4acb-a1b4-9660ec55b098"
      },
      "source": [
        "def vaccine_curve(t):\n",
        "  return 1e7 * logifunc(t, vac_fit[0], vac_fit[1], vac_fit[2])\n",
        "\n",
        "def num_vac_slope(t, delta=1):\n",
        "  return (vaccine_curve(t + delta) - vaccine_curve(t)) / (delta)\n",
        "\n",
        "print(num_vac_slope(0))"
      ],
      "execution_count": null,
      "outputs": [
        {
          "output_type": "stream",
          "text": [
            "959068.2497491613\n"
          ],
          "name": "stdout"
        }
      ]
    },
    {
      "cell_type": "code",
      "metadata": {
        "id": "aammq4eyLq0Q"
      },
      "source": [
        "from scipy.integrate import odeint"
      ],
      "execution_count": null,
      "outputs": []
    },
    {
      "cell_type": "markdown",
      "metadata": {
        "id": "9emtLD31vaBu"
      },
      "source": [
        "# Initial Conditons"
      ]
    },
    {
      "cell_type": "code",
      "metadata": {
        "colab": {
          "base_uri": "https://localhost:8080/"
        },
        "id": "f_qGaidfUo9F",
        "outputId": "37a79cc2-416d-403c-da3d-442948b75d82"
      },
      "source": [
        "N = 32.82e7\n",
        "\n",
        "# Difference with total cases 7 days before to get number of infected\n",
        "num = 10\n",
        "closest_var_value_before = var_t.get(-num, var_t[min(var_t.keys(), key=lambda k: abs(k-num))])\n",
        "closest_var_value_cur = var_t.get(0, var_t[min(var_t.keys(), key=lambda k: abs(k))])\n",
        "cur_vars = []\n",
        "for i in range(len(closest_var_value_cur)):\n",
        "  cur_vars.append(closest_var_value_cur[i] - closest_var_value_before[i])\n",
        "\n",
        "# At least one case needs to be out there or else model will never predict any\n",
        "IB17_0 = max(cur_vars[0], 1)\n",
        "IP_0 = max(cur_vars[1], 1)\n",
        "IB351_0 = max(cur_vars[2], 1)\n",
        "print(\"Variants\")\n",
        "print(IB17_0, IP_0, IB351_0)\n",
        "\n",
        "# Recovered from each variant must then be the rest\n",
        "print(\"Recovered Variants\")\n",
        "RB17_0 = closest_var_value_before[0]\n",
        "RP_0 = closest_var_value_before[1]\n",
        "RB351_0 = closest_var_value_before[2]\n",
        "print(RB17_0, RP_0, RB351_0)\n",
        "\n",
        "# Get generic variants by subtracting out special variants from total cases\n",
        "IN_0 = cases_t[0] - cases_t[-num]\n",
        "IN_0 -= IB17_0 + IP_0 + IB351_0\n",
        "print(\"Generic\")\n",
        "print(IN_0)\n",
        "\n",
        "# Recovered must then be all cases from 7 days ago (assuming 7 days to recover)\n",
        "# Subtract variants recoveries\n",
        "RN_0 = cases_t[-num] - RB17_0 - RP_0 - RB351_0\n",
        "print(\"Recovered\")\n",
        "print(RN_0)\n",
        "\n",
        "# Get number of people already vaccinated\n",
        "V_0 = vac_t[0]\n",
        "print(\"Vaccinated\")\n",
        "print(V_0)\n",
        "\n",
        "# Susceptible is then the remaining of the population\n",
        "S_0 = N - V_0 - RN_0 - RB17_0 - RP_0 - RB351_0 - IN_0 - IB17_0 - IP_0 - IB351_0\n",
        "print(\"Susceptible\")\n",
        "print(S_0)"
      ],
      "execution_count": null,
      "outputs": [
        {
          "output_type": "stream",
          "text": [
            "Variants\n",
            "272 1 3\n",
            "Recovered Variants\n",
            "195 0 0\n",
            "Generic\n",
            "1478823\n",
            "Recovered\n",
            "24886911\n",
            "Vaccinated\n",
            "32222402\n",
            "Susceptible\n",
            "269611393.0\n"
          ],
          "name": "stdout"
        }
      ]
    },
    {
      "cell_type": "markdown",
      "metadata": {
        "id": "wHjhVJGnhqXF"
      },
      "source": [
        "# Sanity Check"
      ]
    },
    {
      "cell_type": "code",
      "metadata": {
        "id": "m2abIf50hpyU"
      },
      "source": [
        "# Gamma is 1 over expeced recovery date\n",
        "g = 1/num\n",
        "\n",
        "# Define derivative\n",
        "def deriv(y, t, b, m):\n",
        "  S, V, IN, RN = y\n",
        "  dSdt = -num_vac_slope(t) - (b * IN * S / N)\n",
        "  dVdt = num_vac_slope(t) - (m * IN * V / N) \n",
        "  dINdt = (b * IN * S / N) + (m * IN * V / N) - g * IN\n",
        "  dRNdt = g * IN\n",
        "  return dSdt, dVdt, dINdt, dRNdt"
      ],
      "execution_count": null,
      "outputs": []
    },
    {
      "cell_type": "code",
      "metadata": {
        "colab": {
          "base_uri": "https://localhost:8080/",
          "height": 293
        },
        "id": "hRWO7fApht_9",
        "outputId": "534fd035-2587-4fa9-ce99-605d7d9cdd94"
      },
      "source": [
        "def predict_var_t_curve(t, b, m):\n",
        "  ret = odeint(deriv, y0, t, args=(b, m))\n",
        "  S, V, IN, RN = ret.T\n",
        "  return IN + RN\n",
        "\n",
        "y0 = S_0, V_0, IN_0, RN_0\n",
        "\n",
        "expected_x = list(filter(lambda x: x >= 0, [v for v in var_t]))\n",
        "expected_v_y = [sum(var_t[v]) for v in expected_x]\n",
        "\n",
        "expected_n_y = [cases_t[v] for v in expected_x]\n",
        "\n",
        "fit = curve_fit(predict_var_t_curve, expected_x, expected_n_y, bounds=(0, 1))\n",
        "print(fit[0])\n",
        "\n",
        "ret = odeint(deriv, y0, expected_x, args=tuple(fit[0]))\n",
        "S, V, I, R = ret.T\n",
        "\n",
        "plt.plot(expected_x, I + R)\n",
        "plt.plot(expected_x, expected_n_y)\n",
        "plt.show()"
      ],
      "execution_count": null,
      "outputs": [
        {
          "output_type": "stream",
          "text": [
            "[0.07168199 0.15048559]\n"
          ],
          "name": "stdout"
        },
        {
          "output_type": "display_data",
          "data": {
            "image/png": "[encoded data removed]",
            "text/plain": [
              "<Figure size 432x288 with 1 Axes>"
            ]
          },
          "metadata": {
            "tags": [],
            "needs_background": "light"
          }
        }
      ]
    },
    {
      "cell_type": "markdown",
      "metadata": {
        "id": "Gjh7ZqG-heMz"
      },
      "source": [
        "# SIR Model Vars and Normal"
      ]
    },
    {
      "cell_type": "code",
      "metadata": {
        "colab": {
          "base_uri": "https://localhost:8080/"
        },
        "id": "sh_4crM_hdI7",
        "outputId": "16a92156-a30f-4c6c-d1b3-57b8abffafe9"
      },
      "source": [
        "IV_0 = IB17_0 + IP_0 + IB351_0\n",
        "print(IV_0)\n",
        "\n",
        "RV_0 = RB17_0 + RP_0 + RB351_0\n",
        "print(RV_0)"
      ],
      "execution_count": null,
      "outputs": [
        {
          "output_type": "stream",
          "text": [
            "276\n",
            "195\n"
          ],
          "name": "stdout"
        }
      ]
    },
    {
      "cell_type": "code",
      "metadata": {
        "id": "d9UZ_JENhzo2"
      },
      "source": [
        "g = 1/num\n",
        "\n",
        "# Assumed higher rate of variant transmission\n",
        "t_factor = 1.3\n",
        "\n",
        "# Use normal case transfer as per above\n",
        "b = 0.07168199\n",
        "\n",
        "# Define differential equation\n",
        "def deriv(y, t, m1, m2):\n",
        "  S, V, IN, IV, RN, RV = y\n",
        "  dSdt = -num_vac_slope(t) - (b * IN * S / N) - (t_factor * b * IV * S / N)\n",
        "  dVdt = num_vac_slope(t) - (m1 * IN * V / N) - (m2 * IV * V / N)\n",
        "  dINdt = (b * IN * S / N) + (m1 * IN * V / N) - g * IN\n",
        "  dIVdt = (t_factor * b * IV * S / N) + (m2 * IV * V / N) - g * IV\n",
        "  dRNdt = g * IN\n",
        "  dRVdt = g * IV\n",
        "  return dSdt, dVdt, dINdt, dIVdt, dRNdt, dRVdt"
      ],
      "execution_count": null,
      "outputs": []
    },
    {
      "cell_type": "code",
      "metadata": {
        "colab": {
          "base_uri": "https://localhost:8080/"
        },
        "id": "LzhKMre2iCVH",
        "outputId": "38172381-23f0-4e8c-e826-9739cfedbc17"
      },
      "source": [
        "expected_x = list(filter(lambda x: x >= 0 and x <= 70, [v for v in var_t]))\n",
        "expected_v_y = [sum(var_t[v]) for v in expected_x]\n",
        "expected_n_y = [case_c_t[v] for v in expected_x]\n",
        "\n",
        "# Training size\n",
        "train_size = 0.8\n",
        "train_x = expected_x[: int(np.floor(len(expected_x) * train_size))]\n",
        "train_v_y = expected_v_y[: int(np.floor(len(expected_x) * train_size))]\n",
        "train_n_y = expected_n_y[: int(np.floor(len(expected_x) * train_size))]\n",
        "\n",
        "y0 = S_0, V_0, IN_0, IV_0, RN_0, RV_0\n",
        "\n",
        "# Error function to minimize normal and variant curve squared error\n",
        "def error(vs):\n",
        "  m1, m2 = vs\n",
        "  ret = odeint(deriv, y0, train_x, args=(m1, m2))\n",
        "  S, V, IN, IV, RN, RV = ret.T\n",
        "  vars = IV + RV\n",
        "  norms = IN + RN\n",
        "  frac_diff_v = ((vars - train_v_y) / train_v_y) ** 2\n",
        "  frac_diff_n = ((norms - train_n_y) / train_n_y) ** 2\n",
        "  return sum(frac_diff_v + frac_diff_n)\n",
        "\n",
        "print(error([0.1719689, 0.36873252]))\n",
        "print(error([0.1720, 0.3687]))"
      ],
      "execution_count": null,
      "outputs": [
        {
          "output_type": "stream",
          "text": [
            "37.547752955122164\n",
            "37.48363666933905\n"
          ],
          "name": "stdout"
        }
      ]
    },
    {
      "cell_type": "code",
      "metadata": {
        "colab": {
          "base_uri": "https://localhost:8080/",
          "height": 569
        },
        "id": "H4gPuYFmiEmR",
        "outputId": "5e7af1af-dc4a-491b-bd3b-3106cd6fa277"
      },
      "source": [
        "from scipy.optimize import minimize\n",
        "\n",
        "# Find the parameters that minimize overal squared error\n",
        "res = minimize(error, [0.1, 0.2], bounds=[(0, 1), (0, 1)])\n",
        "\n",
        "ret = odeint(deriv, y0, expected_x, args=tuple(res.x))\n",
        "print(res.x)\n",
        "S, V, IN, IV, RN, RV = ret.T\n",
        "plt.plot(expected_x, IV + RV)\n",
        "plt.plot(expected_x, expected_v_y)\n",
        "plt.ylabel(\"Recorded Variant Cases\")\n",
        "plt.xlabel(\"Day\")\n",
        "plt.legend((\"Predicted\", \"Actual\"))\n",
        "plt.show()\n",
        "\n",
        "plt.plot(expected_x, IN + RN)\n",
        "plt.plot(expected_x, expected_n_y)\n",
        "plt.ylim((2.4e7, 3.4e7))\n",
        "plt.ylabel(\"Total Cases\")\n",
        "plt.xlabel(\"Day\")\n",
        "plt.legend((\"Predicted\", \"Actual\"))\n",
        "plt.show()"
      ],
      "execution_count": null,
      "outputs": [
        {
          "output_type": "stream",
          "text": [
            "[0.16251787 0.31129585]\n"
          ],
          "name": "stdout"
        },
        {
          "output_type": "display_data",
          "data": {
            "image/png": "[encoded data removed]",
            "text/plain": [
              "<Figure size 432x288 with 1 Axes>"
            ]
          },
          "metadata": {
            "tags": [],
            "needs_background": "light"
          }
        },
        {
          "output_type": "display_data",
          "data": {
            "image/png": "[encoded data removed]",
            "text/plain": [
              "<Figure size 432x288 with 1 Axes>"
            ]
          },
          "metadata": {
            "tags": [],
            "needs_background": "light"
          }
        }
      ]
    },
    {
      "cell_type": "markdown",
      "metadata": {
        "id": "VXlsvdlkjXhr"
      },
      "source": [
        "# SIR Model Vars Fixed Normal"
      ]
    },
    {
      "cell_type": "markdown",
      "metadata": {
        "id": "HgIhuXB9OmWY"
      },
      "source": [
        "Here, we used the S to I and V to I transfer rate that we got from just fitting the normal curve under \"Sanity Check\". This is because the number of normal cases to recorded variant cases is so different that the recorded variant cases won't greatly affect the normal cases curve."
      ]
    },
    {
      "cell_type": "code",
      "metadata": {
        "id": "YDM7zlC-jcgX"
      },
      "source": [
        "g = 1/num\n",
        "b = 0.07167772\n",
        "m = 0.15044847\n",
        "\n",
        "def deriv(y, t, b1, m1):\n",
        "  S, V, IN, IV, RN, RV = y\n",
        "  dSdt = -num_vac_slope(t) - (b * IN * S / N) - (b1 * IV * S / N)\n",
        "  dVdt = num_vac_slope(t) - (m * IN * V / N) - (m1 * IV * V / N)\n",
        "  dINdt = (b * IN * S / N) + (m * IN * V / N) - g * IN\n",
        "  dIVdt = (b1 * IV * S / N) + (m1 * IV * V / N) - g * IV\n",
        "  dRNdt = g * IN\n",
        "  dRVdt = g * IV\n",
        "  return dSdt, dVdt, dINdt, dIVdt, dRNdt, dRVdt"
      ],
      "execution_count": null,
      "outputs": []
    },
    {
      "cell_type": "code",
      "metadata": {
        "colab": {
          "base_uri": "https://localhost:8080/"
        },
        "id": "oUAmp4tMj72z",
        "outputId": "d48a3578-ab84-4f56-c911-04b7aeb8e9fb"
      },
      "source": [
        "expected_x = list(filter(lambda x: x >= 0 and x <= 70, [v for v in var_t]))\n",
        "expected_v_y = [sum(var_t[v]) for v in expected_x]\n",
        "expected_n_y = [case_c_t[v] for v in expected_x]\n",
        "\n",
        "\n",
        "train_size = 0.8\n",
        "train_x = expected_x[: int(np.floor(len(expected_x) * train_size))]\n",
        "train_v_y = expected_v_y[: int(np.floor(len(expected_x) * train_size))]\n",
        "train_n_y = expected_n_y[: int(np.floor(len(expected_x) * train_size))]\n",
        "\n",
        "y0 = S_0, V_0, IN_0, IV_0, RN_0, RV_0\n",
        "\n",
        "def error(vs):\n",
        "  m1, m2 = vs\n",
        "  ret = odeint(deriv, y0, train_x, args=(m1, m2))\n",
        "  S, V, IN, IV, RN, RV = ret.T\n",
        "  vars = IV + RV\n",
        "  norms = IN + RN\n",
        "  frac_diff_v = ((vars - train_v_y) / train_v_y) ** 2\n",
        "  frac_diff_n = ((norms - train_n_y) / train_n_y) ** 2\n",
        "  return sum(frac_diff_v + frac_diff_n)\n",
        "\n",
        "print(error([0.51737301, 0.35133384]))\n",
        "print(error([0.1, 0.27167919]))"
      ],
      "execution_count": null,
      "outputs": [
        {
          "output_type": "stream",
          "text": [
            "24801015529.03406\n",
            "6.310323679921122\n"
          ],
          "name": "stdout"
        }
      ]
    },
    {
      "cell_type": "code",
      "metadata": {
        "colab": {
          "base_uri": "https://localhost:8080/",
          "height": 541
        },
        "id": "SIrR6pHUj9Nm",
        "outputId": "c37b07f7-ae5b-4aa2-e23e-e3b7eafc1f72"
      },
      "source": [
        "from scipy.optimize import minimize\n",
        "\n",
        "res = minimize(error, [0.1, 0.2], bounds=[(0, 1), (0, 1)])\n",
        "\n",
        "ret = odeint(deriv, y0, expected_x, args=tuple(res.x))\n",
        "print(res.x)\n",
        "S, V, IN, IV, RN, RV = ret.T\n",
        "plt.plot(expected_x, IV + RV)\n",
        "plt.plot(expected_x, expected_v_y)\n",
        "plt.show()\n",
        "\n",
        "plt.plot(expected_x, IN + RN)\n",
        "plt.plot(expected_x, expected_n_y)\n",
        "plt.show()"
      ],
      "execution_count": null,
      "outputs": [
        {
          "output_type": "stream",
          "text": [
            "[0.13789703 0.22007041]\n"
          ],
          "name": "stdout"
        },
        {
          "output_type": "display_data",
          "data": {
            "image/png": "[encoded data removed]",
            "text/plain": [
              "<Figure size 432x288 with 1 Axes>"
            ]
          },
          "metadata": {
            "tags": [],
            "needs_background": "light"
          }
        },
        {
          "output_type": "display_data",
          "data": {
            "image/png": "[encoded data removed]",
            "text/plain": [
              "<Figure size 432x288 with 1 Axes>"
            ]
          },
          "metadata": {
            "tags": [],
            "needs_background": "light"
          }
        }
      ]
    },
    {
      "cell_type": "markdown",
      "metadata": {
        "id": "ZL-8H1I-6LUt"
      },
      "source": [
        "# SIR Model P1 Variant"
      ]
    },
    {
      "cell_type": "code",
      "metadata": {
        "colab": {
          "base_uri": "https://localhost:8080/"
        },
        "id": "OTRY05Ob6O9Z",
        "outputId": "7be95fa4-215b-474c-8d80-f34332bf351b"
      },
      "source": [
        "print(IP_0)\n",
        "print(RP_0)"
      ],
      "execution_count": null,
      "outputs": [
        {
          "output_type": "stream",
          "text": [
            "1\n",
            "0\n"
          ],
          "name": "stdout"
        }
      ]
    },
    {
      "cell_type": "code",
      "metadata": {
        "id": "r2ODMVMs6pYk"
      },
      "source": [
        "g = 1/num\n",
        "t_factor = 1.3\n",
        "b = 0.07167772\n",
        "\n",
        "def deriv(y, t, m1, m2):\n",
        "  S, V, IN, IP, RN, RP = y\n",
        "  dSdt = -num_vac_slope(t) - (b * IN * S / N) - (t_factor * b * IP * S / N)\n",
        "  dVdt = num_vac_slope(t) - (m1 * IN * V / N) - (m2 * IP * V / N)\n",
        "  dINdt = (b * IN * S / N) + (m1 * IN * V / N) - g * IN\n",
        "  dIPdt = (t_factor * b * IP * S / N) + (m2 * IP * V / N) - g * IP\n",
        "  dRNdt = g * IN\n",
        "  dRPdt = g * IP\n",
        "  return dSdt, dVdt, dINdt, dIPdt, dRNdt, dRPdt"
      ],
      "execution_count": null,
      "outputs": []
    },
    {
      "cell_type": "code",
      "metadata": {
        "colab": {
          "base_uri": "https://localhost:8080/"
        },
        "id": "17PzdVce64xL",
        "outputId": "da8456e2-1fe6-4237-f518-0c90e61f6137"
      },
      "source": [
        "expected_x = list(filter(lambda x: x >= 0 and x <= 70, [v for v in var_t]))\n",
        "expected_v_y = [var_t[v][1] for v in expected_x]\n",
        "expected_n_y = [cases_t[v] for v in expected_x]\n",
        "\n",
        "\n",
        "train_size = 1\n",
        "train_x = expected_x[: int(np.floor(len(expected_x) * train_size))]\n",
        "train_v_y = expected_v_y[: int(np.floor(len(expected_x) * train_size))]\n",
        "train_n_y = expected_n_y[: int(np.floor(len(expected_x) * train_size))]\n",
        "\n",
        "y0 = S_0, V_0, IN_0, IP_0, RN_0, RP_0\n",
        "\n",
        "def error(vs):\n",
        "  m1, m2 = vs\n",
        "  ret = odeint(deriv, y0, train_x, args=(m1, m2))\n",
        "  S, V, IN, IP, RN, RP = ret.T\n",
        "  vars = IP + RP\n",
        "  norms = IN + RN\n",
        "  frac_diff_v = ((vars - train_v_y) / train_v_y) ** 2\n",
        "  frac_diff_n = ((norms - train_n_y) / train_n_y) ** 2\n",
        "  return sum(frac_diff_v + frac_diff_n)\n",
        "\n",
        "print(error([0.51737301, 0.35133384]))\n",
        "print(error([0.1, 0.27167919]))"
      ],
      "execution_count": null,
      "outputs": [
        {
          "output_type": "stream",
          "text": [
            "243.12011598077999\n",
            "23.287579246076447\n"
          ],
          "name": "stdout"
        }
      ]
    },
    {
      "cell_type": "code",
      "metadata": {
        "colab": {
          "base_uri": "https://localhost:8080/",
          "height": 541
        },
        "id": "cW8fyN7U6_Ll",
        "outputId": "6d3769c6-3f51-4b55-a55b-b902579b6fb0"
      },
      "source": [
        "from scipy.optimize import minimize\n",
        "\n",
        "res = minimize(error, [0.1, 0.2], bounds=[(0, 1), (0, 1)])\n",
        "\n",
        "ret = odeint(deriv, y0, expected_x, args=tuple(res.x))\n",
        "print(res.x)\n",
        "S, V, IN, IV, RN, RV = ret.T\n",
        "plt.plot(expected_x, IV + RV)\n",
        "plt.plot(expected_x, expected_v_y)\n",
        "plt.show()\n",
        "\n",
        "plt.plot(expected_x, IN + RN)\n",
        "plt.plot(expected_x, expected_n_y)\n",
        "plt.show()"
      ],
      "execution_count": null,
      "outputs": [
        {
          "output_type": "stream",
          "text": [
            "[0.15703772 0.41602759]\n"
          ],
          "name": "stdout"
        },
        {
          "output_type": "display_data",
          "data": {
            "image/png": "[encoded data removed]",
            "text/plain": [
              "<Figure size 432x288 with 1 Axes>"
            ]
          },
          "metadata": {
            "tags": [],
            "needs_background": "light"
          }
        },
        {
          "output_type": "display_data",
          "data": {
            "image/png": "[encoded data removed]",
            "text/plain": [
              "<Figure size 432x288 with 1 Axes>"
            ]
          },
          "metadata": {
            "tags": [],
            "needs_background": "light"
          }
        }
      ]
    },
    {
      "cell_type": "markdown",
      "metadata": {
        "id": "iHCNANGK7Z-6"
      },
      "source": [
        "# SIR P1 Fixed"
      ]
    },
    {
      "cell_type": "code",
      "metadata": {
        "id": "ZT9WEoMZ7col"
      },
      "source": [
        "g = 1/num\n",
        "b = 0.07167772\n",
        "m = 0.15044847\n",
        "\n",
        "def deriv(y, t, b1, m1):\n",
        "  S, V, IN, IP, RN, RP = y\n",
        "  dSdt = -num_vac_slope(t) - (b * IN * S / N) - (b1 * IP * S / N)\n",
        "  dVdt = num_vac_slope(t) - (m * IN * V / N) - (m1 * IP * V / N)\n",
        "  dINdt = (b * IN * S / N) + (m * IN * V / N) - g * IN\n",
        "  dIPdt = (b1 * IP * S / N) + (m1 * IP * V / N) - g * IP\n",
        "  dRNdt = g * IN\n",
        "  dRPdt = g * IP\n",
        "  return dSdt, dVdt, dINdt, dIPdt, dRNdt, dRPdt"
      ],
      "execution_count": null,
      "outputs": []
    },
    {
      "cell_type": "code",
      "metadata": {
        "colab": {
          "base_uri": "https://localhost:8080/"
        },
        "id": "CXaKsxIL7n-6",
        "outputId": "6f457d16-cf05-48f6-83e3-c7569a49bee3"
      },
      "source": [
        "expected_x = list(filter(lambda x: x >= 0 and x <= 70, [v for v in var_t]))\n",
        "expected_v_y = [var_t[v][1] for v in expected_x]\n",
        "expected_n_y = [case_c_t[v] for v in expected_x]\n",
        "\n",
        "\n",
        "train_size = 1\n",
        "train_x = expected_x[: int(np.floor(len(expected_x) * train_size))]\n",
        "train_v_y = expected_v_y[: int(np.floor(len(expected_x) * train_size))]\n",
        "train_n_y = expected_n_y[: int(np.floor(len(expected_x) * train_size))]\n",
        "\n",
        "y0 = S_0, V_0, IN_0, IP_0, RN_0, RP_0\n",
        "\n",
        "def error(vs):\n",
        "  b1, m1 = vs\n",
        "  ret = odeint(deriv, y0, train_x, args=(b1, m1))\n",
        "  S, V, IN, IP, RN, RP = ret.T\n",
        "  vars = IP + RP\n",
        "  norms = IN + RN\n",
        "  frac_diff_v = ((vars - train_v_y) / train_v_y) ** 2\n",
        "  frac_diff_n = ((norms - train_n_y) / train_n_y) ** 2\n",
        "  return sum(frac_diff_v + frac_diff_n)\n",
        "\n",
        "print(error([0.51737301, 0.35133384]))\n",
        "print(error([0.1, 0.27167919]))"
      ],
      "execution_count": null,
      "outputs": [
        {
          "output_type": "stream",
          "text": [
            "9708806410484.453\n",
            "26.633620478629066\n"
          ],
          "name": "stdout"
        }
      ]
    },
    {
      "cell_type": "code",
      "metadata": {
        "colab": {
          "base_uri": "https://localhost:8080/",
          "height": 541
        },
        "id": "PQhZiZ_H8TN7",
        "outputId": "4b00e9a9-0e2e-4b72-f3e5-c4b915c24214"
      },
      "source": [
        "from scipy.optimize import minimize\n",
        "\n",
        "res = minimize(error, [0.1, 0.2], bounds=[(0, 1), (0, 1)])\n",
        "\n",
        "ret = odeint(deriv, y0, expected_x, args=tuple(res.x))\n",
        "print(res.x)\n",
        "S, V, IN, IP, RN, RP = ret.T\n",
        "plt.plot(expected_x, IP + RP)\n",
        "plt.plot(expected_x, expected_v_y)\n",
        "plt.show()\n",
        "\n",
        "plt.plot(expected_x, IN + RN)\n",
        "plt.plot(expected_x, expected_n_y)\n",
        "plt.show()"
      ],
      "execution_count": null,
      "outputs": [
        {
          "output_type": "stream",
          "text": [
            "[0.11163283 0.40419755]\n"
          ],
          "name": "stdout"
        },
        {
          "output_type": "display_data",
          "data": {
            "image/png": "[encoded data removed]",
            "text/plain": [
              "<Figure size 432x288 with 1 Axes>"
            ]
          },
          "metadata": {
            "tags": [],
            "needs_background": "light"
          }
        },
        {
          "output_type": "display_data",
          "data": {
            "image/png": "[encoded data removed]",
            "text/plain": [
              "<Figure size 432x288 with 1 Axes>"
            ]
          },
          "metadata": {
            "tags": [],
            "needs_background": "light"
          }
        }
      ]
    },
    {
      "cell_type": "markdown",
      "metadata": {
        "id": "IQjxrOlI_EvS"
      },
      "source": [
        "# SIR P1 and B351 Fixed Transmission"
      ]
    },
    {
      "cell_type": "code",
      "metadata": {
        "id": "UCFNlqTr_Hcb"
      },
      "source": [
        "g = 1/num\n",
        "b = 0.07167772\n",
        "m = 0.15044847\n",
        "\n",
        "def deriv(y, t, t_factor, m1, m2):\n",
        "  S, V, IN, IP, IB351, RN, RP, RB351 = y\n",
        "  b1 = t_factor * b\n",
        "  dSdt = -num_vac_slope(t) - (b * IN * S / N) - (b1 * IP * S / N) - (b1 * IB351 * S / N)\n",
        "  dVdt = num_vac_slope(t) - (m * IN * V / N) - (m1 * IP * V / N) - (m2 * IB351 * V / N)\n",
        "  dINdt = (b * IN * S / N) + (m * IN * V / N) - g * IN\n",
        "  dIPdt = (b1 * IP * S / N) + (m1 * IP * V / N) - g * IP\n",
        "  dIB351dt = (b1 * IB351 * S / N) + (m2 * IB351 * V / N) - g * IB351\n",
        "  dRNdt = g * IN\n",
        "  dRPdt = g * IP\n",
        "  dRB351dt = g * IB351\n",
        "  return dSdt, dVdt, dINdt, dIPdt, dIB351dt, dRNdt, dRPdt, dRB351dt"
      ],
      "execution_count": null,
      "outputs": []
    },
    {
      "cell_type": "code",
      "metadata": {
        "colab": {
          "base_uri": "https://localhost:8080/"
        },
        "id": "DTV6iACf_ag7",
        "outputId": "af8b0649-450e-477a-8ef0-01b1cd26f8df"
      },
      "source": [
        "expected_x = list(filter(lambda x: x >= 0 and x <= 70, [v for v in var_t]))\n",
        "expected_p_y = [var_t[v][1] for v in expected_x]\n",
        "expected_b351_y = [var_t[v][2] for v in expected_x]\n",
        "expected_n_y = [case_c_t[v] for v in expected_x]\n",
        "\n",
        "\n",
        "train_size = 1\n",
        "train_x = expected_x[: int(np.floor(len(expected_x) * train_size))]\n",
        "train_p_y = expected_p_y[: int(np.floor(len(expected_x) * train_size))]\n",
        "train_b351_y = expected_b351_y[: int(np.floor(len(expected_x) * train_size))]\n",
        "train_n_y = expected_n_y[: int(np.floor(len(expected_x) * train_size))]\n",
        "\n",
        "y0 = S_0, V_0, IN_0, IP_0, IB351_0, RN_0, RP_0, RB351_0\n",
        "\n",
        "def error(vs):\n",
        "  t, m1, m2 = vs\n",
        "  ret = odeint(deriv, y0, train_x, args=(t, m1, m2))\n",
        "  S, V, IN, IP, IB351, RN, RP, RB351 = ret.T\n",
        "  P = IP + RP\n",
        "  B351 = IB351 + RB351\n",
        "  norms = IN + RN\n",
        "  frac_diff_p = ((P - train_p_y) / train_p_y) ** 2\n",
        "  frac_diff_b351 = ((B351 - train_b351_y) / train_b351_y) ** 2\n",
        "  return sum(frac_diff_p + frac_diff_b351)\n",
        "\n",
        "print(error([1.2, 0.35133384, 0.51737301]))\n",
        "print(error([1.3, 0.27167919, 0.1]))"
      ],
      "execution_count": null,
      "outputs": [
        {
          "output_type": "stream",
          "text": [
            "509.57435119412924\n",
            "75.83052676563976\n"
          ],
          "name": "stdout"
        }
      ]
    },
    {
      "cell_type": "code",
      "metadata": {
        "colab": {
          "base_uri": "https://localhost:8080/",
          "height": 530
        },
        "id": "jR6_DX3V_4Vy",
        "outputId": "ba798c3e-6603-4637-d2c7-f4f618a99361"
      },
      "source": [
        "from scipy.optimize import minimize\n",
        "\n",
        "res = minimize(error, [1.2, 0.2, 0.2], bounds=[(1, 2), (0, 1), (0, 1)])\n",
        "\n",
        "ret = odeint(deriv, y0, expected_x, args=tuple(res.x))\n",
        "print(res.x)\n",
        "S, V, IN, IP, IB351, RN, RP, RB351 = ret.T\n",
        "plt.plot(expected_x, IP + RP)\n",
        "plt.plot(expected_x, expected_p_y)\n",
        "plt.show()\n",
        "\n",
        "plt.plot(expected_x, IB351 + RB351)\n",
        "plt.plot(expected_x, expected_b351_y)\n",
        "plt.show()"
      ],
      "execution_count": null,
      "outputs": [
        {
          "output_type": "stream",
          "text": [
            "[1.97563965 0.30993798 0.27673758]\n"
          ],
          "name": "stdout"
        },
        {
          "output_type": "display_data",
          "data": {
            "image/png": "[encoded data removed]",
            "text/plain": [
              "<Figure size 432x288 with 1 Axes>"
            ]
          },
          "metadata": {
            "tags": [],
            "needs_background": "light"
          }
        },
        {
          "output_type": "display_data",
          "data": {
            "image/png": "[encoded data removed]",
            "text/plain": [
              "<Figure size 432x288 with 1 Axes>"
            ]
          },
          "metadata": {
            "tags": [],
            "needs_background": "light"
          }
        }
      ]
    },
    {
      "cell_type": "markdown",
      "metadata": {
        "id": "mMEVe0nHPo2y"
      },
      "source": [
        "# P1 and B351 Unfixed"
      ]
    },
    {
      "cell_type": "markdown",
      "metadata": {
        "id": "-qE3zOTCPsf9"
      },
      "source": [
        "Here, we did not fix any transmission coefficients and the result is that curves perform significantly worse outside of the training range since the large number of parameters overfit."
      ]
    },
    {
      "cell_type": "code",
      "metadata": {
        "id": "x3U2K6UY9oBZ"
      },
      "source": [
        "g = 1/num\n",
        "b = 0.07167772\n",
        "m = 0.15044847\n",
        "\n",
        "def deriv(y, t, b1, m1, b2, m2):\n",
        "  S, V, IN, IP, IB351, RN, RP, RB351 = y\n",
        "  dSdt = -num_vac_slope(t) - (b * IN * S / N) - (b1 * IP * S / N) - (b2 * IB351 * S / N)\n",
        "  dVdt = num_vac_slope(t) - (m * IN * V / N) - (m1 * IP * V / N) - (m2 * IB351 * S / N)\n",
        "  dINdt = (b * IN * S / N) + (m * IN * V / N) - g * IN\n",
        "  dIPdt = (b1 * IP * S / N) + (m1 * IP * V / N) - g * IP\n",
        "  dIB351dt = (b2 * IB351 * S / N) + (m2 * IB351 * V / N) - g * IB351\n",
        "  dRNdt = g * IN\n",
        "  dRPdt = g * IP\n",
        "  dRB351dt = g * IB351\n",
        "  return dSdt, dVdt, dINdt, dIPdt, dIB351dt, dRNdt, dRPdt, dRB351dt"
      ],
      "execution_count": null,
      "outputs": []
    },
    {
      "cell_type": "code",
      "metadata": {
        "colab": {
          "base_uri": "https://localhost:8080/"
        },
        "id": "qL06XCkO-Nns",
        "outputId": "8b5b46e4-c36e-482e-88ba-d3473b98318a"
      },
      "source": [
        "expected_x = list(filter(lambda x: x >= 0 and x <= 70, [v for v in var_t]))\n",
        "expected_p_y = [var_t[v][1] for v in expected_x]\n",
        "expected_b351_y = [var_t[v][2] for v in expected_x]\n",
        "expected_n_y = [case_c_t[v] for v in expected_x]\n",
        "\n",
        "\n",
        "train_size = 0.75\n",
        "train_x = expected_x[: int(np.floor(len(expected_x) * train_size))]\n",
        "train_p_y = expected_p_y[: int(np.floor(len(expected_x) * train_size))]\n",
        "train_b351_y = expected_b351_y[: int(np.floor(len(expected_x) * train_size))]\n",
        "train_n_y = expected_n_y[: int(np.floor(len(expected_x) * train_size))]\n",
        "\n",
        "y0 = S_0, V_0, IN_0, IP_0, IB351_0, RN_0, RP_0, RB351_0\n",
        "\n",
        "def error(vs):\n",
        "  b1, m1, b2, m2 = vs\n",
        "  ret = odeint(deriv, y0, train_x, args=(b1, m1, b2, m2))\n",
        "  S, V, IN, IP, IB351, RN, RP, RB351 = ret.T\n",
        "  P = IP + RP\n",
        "  B351 = IB351 + RB351\n",
        "  norms = IN + RN\n",
        "  frac_diff_p = ((P - train_p_y) / train_p_y) ** 2\n",
        "  frac_diff_b351 = ((B351 - train_b351_y) / train_b351_y) ** 2\n",
        "  return sum(frac_diff_p + frac_diff_b351)\n",
        "\n",
        "print(error([0.51737301, 0.35133384, 0.51737301, 0.35133384]))\n",
        "print(error([0.1, 0.27167919, 0.1, 0.27167919]))"
      ],
      "execution_count": null,
      "outputs": [
        {
          "output_type": "stream",
          "text": [
            "965795544849.6111\n",
            "34.35216064129931\n"
          ],
          "name": "stdout"
        }
      ]
    },
    {
      "cell_type": "code",
      "metadata": {
        "colab": {
          "base_uri": "https://localhost:8080/",
          "height": 558
        },
        "id": "75Aboi5p-2xz",
        "outputId": "033469bb-ec63-4a5e-f416-ea700ddb86a2"
      },
      "source": [
        "from scipy.optimize import minimize\n",
        "\n",
        "res = minimize(error, [0.1, 0.2, 0.1, 0.2], bounds=[(0, 1), (0, 1), (0, 1), (0, 1)])\n",
        "\n",
        "ret = odeint(deriv, y0, expected_x, args=tuple(res.x))\n",
        "print(res.x)\n",
        "S, V, IN, IP, IB351, RN, RP, RB351 = ret.T\n",
        "plt.plot(expected_x, IP + RP)\n",
        "plt.plot(expected_x, expected_p_y)\n",
        "plt.ylabel(\"Predicted Reported P.1 Cases\")\n",
        "plt.xlabel(\"Day\")\n",
        "plt.legend((\"Predicted\", \"Actual\"))\n",
        "plt.show()\n",
        "\n",
        "plt.plot(expected_x, IB351 + RB351)\n",
        "plt.plot(expected_x, expected_b351_y)\n",
        "plt.ylabel(\"Predicted Reported B.1.351 Cases\")\n",
        "plt.xlabel(\"Day\")\n",
        "plt.legend((\"Predicted\", \"Actual\"))\n",
        "plt.show()"
      ],
      "execution_count": null,
      "outputs": [
        {
          "output_type": "stream",
          "text": [
            "[0.09427523 0.47518222 0.199698   0.1294798 ]\n"
          ],
          "name": "stdout"
        },
        {
          "output_type": "display_data",
          "data": {
            "image/png": "[encoded data removed]",
            "text/plain": [
              "<Figure size 432x288 with 1 Axes>"
            ]
          },
          "metadata": {
            "tags": [],
            "needs_background": "light"
          }
        },
        {
          "output_type": "display_data",
          "data": {
            "image/png": "[encoded data removed]",
            "text/plain": [
              "<Figure size 432x288 with 1 Axes>"
            ]
          },
          "metadata": {
            "tags": [],
            "needs_background": "light"
          }
        }
      ]
    },
    {
      "cell_type": "markdown",
      "metadata": {
        "id": "ZeetrUEPA6-4"
      },
      "source": [
        "# SIR Model All 3 Fixed Transmission"
      ]
    },
    {
      "cell_type": "markdown",
      "metadata": {
        "id": "1Hy0aHG1QFWn"
      },
      "source": [
        "All three variants are included here with the assumption that they all have the same transmission rate."
      ]
    },
    {
      "cell_type": "code",
      "metadata": {
        "colab": {
          "base_uri": "https://localhost:8080/"
        },
        "id": "4U01K0iYBDN8",
        "outputId": "515badb8-767b-4ad4-cfce-72c60244ad8e"
      },
      "source": [
        "print(IB17_0)\n",
        "print(IP_0)\n",
        "print(IB351_0)"
      ],
      "execution_count": null,
      "outputs": [
        {
          "output_type": "stream",
          "text": [
            "272\n",
            "1\n",
            "3\n"
          ],
          "name": "stdout"
        }
      ]
    },
    {
      "cell_type": "code",
      "metadata": {
        "id": "LbsbIQQ5A_Fi"
      },
      "source": [
        "g = 1/num\n",
        "b = 0.07167772\n",
        "m = 0.15044847\n",
        "\n",
        "def deriv(y, t, t_factor, m1, m2, m3):\n",
        "  S, V, IN, IP, IB351, IB17, RN, RP, RB351, RB17 = y\n",
        "  b1 = t_factor * b\n",
        "  dSdt = -num_vac_slope(t) - (b * IN * S / N) - (b1 * IP * S / N) - (b1 * IB351 * S / N) - (b1 * IB17 * S / N)\n",
        "  dVdt = num_vac_slope(t) - (m * IN * V / N) - (m1 * IP * V / N) - (m2 * IB351 * V / N) - (m3 * IB17 * V / N)\n",
        "  dINdt = (b * IN * S / N) + (m * IN * V / N) - g * IN\n",
        "  dIPdt = (b1 * IP * S / N) + (m1 * IP * V / N) - g * IP\n",
        "  dIB351dt = (b1 * IB351 * S / N) + (m2 * IB351 * V / N) - g * IB351\n",
        "  dIB17dt = (b1 * IB17 * S / N) + (m3 * IB17 * V / N) - g * IB17\n",
        "  dRNdt = g * IN\n",
        "  dRPdt = g * IP\n",
        "  dRB351dt = g * IB351\n",
        "  dRB17dt = g * IB17\n",
        "  return dSdt, dVdt, dINdt, dIPdt, dIB351dt, dIB17dt, dRNdt, dRPdt, dRB351dt, dRB17dt"
      ],
      "execution_count": null,
      "outputs": []
    },
    {
      "cell_type": "code",
      "metadata": {
        "colab": {
          "base_uri": "https://localhost:8080/"
        },
        "id": "j0WebFaBB9UQ",
        "outputId": "e16fc2f8-8e5c-4fd7-f196-91cced055526"
      },
      "source": [
        "expected_x = list(filter(lambda x: x >= 0 and x <= 70, [v for v in var_t]))\n",
        "expected_b17_y = [var_t[v][0] for v in expected_x]\n",
        "expected_p_y = [var_t[v][1] for v in expected_x]\n",
        "expected_b351_y = [var_t[v][2] for v in expected_x]\n",
        "expected_n_y = [case_c_t[v] for v in expected_x]\n",
        "\n",
        "\n",
        "train_size = 1\n",
        "train_x = expected_x[: int(np.floor(len(expected_x) * train_size))]\n",
        "train_p_y = expected_p_y[: int(np.floor(len(expected_x) * train_size))]\n",
        "train_b351_y = expected_b351_y[: int(np.floor(len(expected_x) * train_size))]\n",
        "train_b17_y = expected_b17_y[: int(np.floor(len(expected_x) * train_size))]\n",
        "train_n_y = expected_n_y[: int(np.floor(len(expected_x) * train_size))]\n",
        "\n",
        "y0 = S_0, V_0, IN_0, IP_0, IB351_0, IB17_0, RN_0, RP_0, RB351_0, RB17_0\n",
        "\n",
        "def error(vs):\n",
        "  t, m1, m2, m3 = vs\n",
        "  ret = odeint(deriv, y0, train_x, args=(t, m1, m2, m3))\n",
        "  S, V, IN, IP, IB351, IB17, RN, RP, RB351, RB17 = ret.T\n",
        "  P = IP + RP\n",
        "  B351 = IB351 + RB351\n",
        "  B17 = IB17 + RB17\n",
        "  norms = IN + RN\n",
        "  frac_diff_p = ((P - train_p_y) / train_p_y) ** 2\n",
        "  frac_diff_b351 = ((B351 - train_b351_y) / train_b351_y) ** 2\n",
        "  frac_diff_b17 = ((B17 - train_b17_y) / train_b17_y) ** 2\n",
        "  return sum(frac_diff_p + frac_diff_b351 + frac_diff_b17)\n",
        "\n",
        "print(error([1.2, 0.35133384, 0.51737301, 0.3]))\n",
        "print(error([1.3, 0.27167919, 0.1, 0.15]))"
      ],
      "execution_count": null,
      "outputs": [
        {
          "output_type": "stream",
          "text": [
            "522.5919881183523\n",
            "103.1588076691167\n"
          ],
          "name": "stdout"
        }
      ]
    },
    {
      "cell_type": "code",
      "metadata": {
        "colab": {
          "base_uri": "https://localhost:8080/",
          "height": 820
        },
        "id": "T3BTQJfgC2pm",
        "outputId": "13894793-5753-44fe-a741-aaf47554bfc8"
      },
      "source": [
        "from scipy.optimize import minimize\n",
        "\n",
        "res = minimize(error, [1.2, 0.05, 0.05, 0.05], bounds=[(1, 2), (0, 1), (0, 1), (0, 1)])\n",
        "\n",
        "ret = odeint(deriv, y0, expected_x, args=tuple(res.x))\n",
        "print(res.x)\n",
        "S, V, IN, IP, IB351, IB17, RN, RP, RB351, RB17 = ret.T\n",
        "plt.plot(expected_x, IP + RP)\n",
        "plt.plot(expected_x, expected_p_y)\n",
        "plt.ylabel(\"Predicted Reported P.1 Cases\")\n",
        "plt.xlabel(\"Day\")\n",
        "plt.legend((\"Predicted\", \"Actual\"))\n",
        "plt.show()\n",
        "\n",
        "plt.plot(expected_x, IB351 + RB351)\n",
        "plt.plot(expected_x, expected_b351_y)\n",
        "plt.ylabel(\"Predicted Reported B.1.351 Cases\")\n",
        "plt.xlabel(\"Day\")\n",
        "plt.legend((\"Predicted\", \"Actual\"))\n",
        "plt.show()\n",
        "\n",
        "plt.plot(expected_x, IB17 + RB17)\n",
        "plt.plot(expected_x, expected_b17_y)\n",
        "plt.ylabel(\"Predicted Reported B.1.1.7 Cases\")\n",
        "plt.xlabel(\"Day\")\n",
        "plt.legend((\"Predicted\", \"Actual\"))\n",
        "plt.show()"
      ],
      "execution_count": null,
      "outputs": [
        {
          "output_type": "stream",
          "text": [
            "[1.94957881 0.31652241 0.28149267 0.21387131]\n"
          ],
          "name": "stdout"
        },
        {
          "output_type": "display_data",
          "data": {
            "image/png": "[encoded data removed]",
            "text/plain": [
              "<Figure size 432x288 with 1 Axes>"
            ]
          },
          "metadata": {
            "tags": [],
            "needs_background": "light"
          }
        },
        {
          "output_type": "display_data",
          "data": {
            "image/png": "[encoded data removed]",
            "text/plain": [
              "<Figure size 432x288 with 1 Axes>"
            ]
          },
          "metadata": {
            "tags": [],
            "needs_background": "light"
          }
        },
        {
          "output_type": "display_data",
          "data": {
            "image/png": "[encoded data removed]",
            "text/plain": [
              "<Figure size 432x288 with 1 Axes>"
            ]
          },
          "metadata": {
            "tags": [],
            "needs_background": "light"
          }
        }
      ]
    }
  ]
}