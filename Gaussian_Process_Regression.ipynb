{
  "nbformat": 4,
  "nbformat_minor": 0,
  "metadata": {
    "colab": {
      "name": "Gaussian Process Regression.ipynb",
      "provenance": [],
      "collapsed_sections": [],
      "include_colab_link": true
    },
    "kernelspec": {
      "name": "python3",
      "display_name": "Python 3"
    },
    "language_info": {
      "name": "python"
    }
  },
  "cells": [
    {
      "cell_type": "markdown",
      "metadata": {
        "id": "view-in-github",
        "colab_type": "text"
      },
      "source": [
        "<a href=\"https://colab.research.google.com/github/cs156/cs156b-proj-group-23/blob/master/Gaussian_Process_Regression.ipynb\" target=\"_parent\"><img src=\"https://colab.research.google.com/assets/colab-badge.svg\" alt=\"Open In Colab\"/></a>"
      ]
    },
    {
      "cell_type": "code",
      "metadata": {
        "id": "Qd_cJQmG6rEs"
      },
      "source": [
        "import sklearn.gaussian_process as gp\n",
        "import numpy as np\n",
        "import matplotlib.pyplot as plt\n",
        "import pandas as pd\n",
        "from sklearn.gaussian_process.kernels import ConstantKernel, RBF\n",
        "from sklearn.gaussian_process.kernels import DotProduct, WhiteKernel\n",
        "from sklearn.gaussian_process.kernels import PairwiseKernel, Product, Sum, RationalQuadratic, Exponentiation\n",
        "from sklearn.gaussian_process.kernels import Matern\n",
        "from datetime import datetime\n",
        "from datetime import date\n",
        "from sklearn.gaussian_process import GaussianProcessClassifier\n",
        "import math"
      ],
      "execution_count": null,
      "outputs": []
    },
    {
      "cell_type": "markdown",
      "metadata": {
        "id": "fFvTn9vT_rM-"
      },
      "source": [
        "# Gaussian Process Regression\n",
        "\n",
        "Assume every linear combination of the random variables here have are normally distributed, therefore obtaining a probabilistic set of predictions for the model."
      ]
    },
    {
      "cell_type": "markdown",
      "metadata": {
        "id": "DALiSzGyDXF0"
      },
      "source": [
        "# Getting the data inputs"
      ]
    },
    {
      "cell_type": "code",
      "metadata": {
        "id": "1ajasLXA6uTr"
      },
      "source": [
        "value = [\n",
        "    ('AK', 'Alaska'),\n",
        "    ('AL', 'Alabama'),\n",
        "    ('AZ', 'Arizona'),\n",
        "    ('AR', 'Arkansas'),\n",
        "    ('CA', 'California'),\n",
        "    ('CO', 'Colorado'),\n",
        "    ('CT', 'Connecticut'),\n",
        "    ('DE', 'Delaware'),\n",
        "    ('FL', 'Florida'),\n",
        "    ('GA', 'Georgia'),\n",
        "    ('HI', 'Hawaii'),\n",
        "    ('ID', 'Idaho'),\n",
        "    ('IL', 'Illinois'),\n",
        "    ('IN', 'Indiana'),  \n",
        "    ('IA', 'Iowa'),\n",
        "    ('KS', 'Kansas'),\n",
        "    ('KY', 'Kentucky'),\n",
        "    ('LA', 'Louisiana'),\n",
        "    ('ME', 'Maine'),\n",
        "    ('MD', 'Maryland'),\n",
        "    ('MA', 'Massachusetts'),\n",
        "    ('MI', 'Michigan'),\n",
        "    ('MN', 'Minnesota'),\n",
        "    ('MS', 'Mississippi'),\n",
        "    ('MO', 'Missouri'),\n",
        "    ('MT', 'Montana'),\n",
        "    ('NE', 'Nebraska'),\n",
        "    ('NV', 'Nevada'),\n",
        "    ('NH', 'New Hampshire'),\n",
        "    ('NJ', 'New Jersey'),\n",
        "    ('NM', 'New Mexico'),\n",
        "    ('NY', 'New York State'),\n",
        "    ('NC', 'North Carolina'),\n",
        "    ('ND', 'North Dakota'),\n",
        "    ('OH', 'Ohio'),\n",
        "    ('OK', 'Oklahoma'),\n",
        "    ('OR', 'Oregon'),\n",
        "    ('PA', 'Pennsylvania'),\n",
        "    ('RI', 'Rhode Island'),\n",
        "    ('SC', 'South Carolina'),\n",
        "    ('SD', 'South Dakota'),\n",
        "    ('TN', 'Tennessee'),\n",
        "    ('TX', 'Texas'),\n",
        "    ('UT', 'Utah'),\n",
        "    ('VT', 'Vermont'),\n",
        "    ('VA', 'Virginia'),\n",
        "    ('WA', 'Washington'),\n",
        "    ('WV', 'West Virginia'),\n",
        "    ('WI', 'Wisconsin'),\n",
        "    ('WY', 'Wyoming'),\n",
        "    ('AS', 'American Samoa'),\n",
        "    ('DC', 'District of Columbia'),\n",
        "    ('FM', 'Micronesia'),\n",
        "    ('GU', 'Guam'),\n",
        "    ('MH', 'Marshall Islands'),\n",
        "    ('MP', 'Northern Mariana Islands'),\n",
        "    ('PR', 'Puerto Rico'),\n",
        "    ('PW', 'Palau'),\n",
        "    ('VI', 'Virgin Islands')\n",
        "]\n",
        "\n",
        "codes = [a for a, b in value]\n",
        "names = [b for a, b in value]\n",
        "\n",
        "to_codes, to_names = {}, {}\n",
        "for i in range(len(value)):\n",
        "    to_codes[names[i]] = codes[i]\n",
        "    to_names[codes[i]] = names[i]\n",
        "\n",
        "# Code from Basel\n",
        "\n",
        "# Parsing variant cases\n",
        "df = pd.read_csv('https://raw.githubusercontent.com/USATODAY/covid-variants/master/!combined.csv')\n",
        "df.columns = ['Date', 'State', 'B.1.1.7', 'P.1', 'B.1.351', 'Total']\n",
        "states = list(set(df['State'].to_list()))\n",
        "states.sort()\n",
        "\n",
        "variants_per_state = {}\n",
        "for state in states:\n",
        "  name = to_names[str(state)]\n",
        "  variants_per_state[name] = df[df['State'] == state]\n",
        "  variants_per_state[name] = variants_per_state[name].reset_index(drop=True).dropna()\n",
        "\n",
        "# code from Andrew\n",
        "\n",
        "# Parsing vaccine data\n",
        "df = pd.read_csv('https://raw.githubusercontent.com/owid/covid-19-data/master/public/data/vaccinations/us_state_vaccinations.csv')\n",
        "states = list(set(df['location'].to_list()))\n",
        "states.sort()\n",
        "vaccine_per_state = {}\n",
        "for state in states:\n",
        "  vaccine_per_state[state] = df[df['location'] == state]\n",
        "  vaccine_per_state[state] = vaccine_per_state[state].reset_index(drop=True).dropna()\n",
        "\n",
        "# code from Andrew\n",
        "\n",
        "# Parsing total cases\n",
        "df = pd.read_csv('https://raw.githubusercontent.com/CSSEGISandData/COVID-19/master/csse_covid_19_data/csse_covid_19_time_series/time_series_covid19_confirmed_US.csv')\n",
        "parse = list(df.columns)\n",
        "parse = list(filter(lambda x: '/21' in x and '/21/20' not in x, parse))\n",
        "df = df[['Province_State'] + parse]\n",
        "cases_per_state = {}\n",
        "states = list(set(df['Province_State'].to_list()))\n",
        "states.sort()\n",
        "\n",
        "for state in states:\n",
        "  data = df[df['Province_State'] == state]\n",
        "  data = data.reset_index(drop=True)\n",
        "  data = data[parse]\n",
        "  cases_per_state[state] = pd.DataFrame(data.sum(axis=0)).reset_index()\n",
        "  cases_per_state[state].columns = ['Date', 'Total_Cases']\n",
        "\n",
        "# code from Andrew"
      ],
      "execution_count": null,
      "outputs": []
    },
    {
      "cell_type": "code",
      "metadata": {
        "id": "RTU7Iv1s_691"
      },
      "source": [
        "# Parsing to time series\n",
        "\n",
        "# Start Date for data recording\n",
        "start_date = date(2021, 2, 1)\n",
        "\n",
        "def time_vaccine_state_data(state):\n",
        "  vac_t = {}\n",
        "  for index, row in vaccine_per_state[str(state)].iterrows():\n",
        "    cur_date = row['date']\n",
        "    cur_date = datetime.strptime(cur_date, \"%Y-%m-%d\").date()\n",
        "    diff = cur_date - start_date\n",
        "    vac_t[diff.days] = row['total_vaccinations']\n",
        "  return vac_t\n",
        "\n",
        "def time_variant_state_data(state):\n",
        "  var_t = {}\n",
        "  for index, row in variants_per_state[str(state)].iterrows():\n",
        "    cur_date = row['Date']\n",
        "    cur_date = datetime.strptime(cur_date, \"%Y-%m-%d\").date()\n",
        "    diff = cur_date - start_date\n",
        "    var_t[diff.days] = [max(row['B.1.1.7'], 1), max(row['P.1'], 1), max(row['B.1.351'], 1)]\n",
        "  return var_t\n",
        "\n",
        "def time_total_state_data(state):\n",
        "  cases_t = {}\n",
        "  for index, row in cases_per_state[str(state)].iterrows():\n",
        "    cur_date = row['Date']\n",
        "    cur_date = datetime.strptime(cur_date, '%m/%d/%y').date()\n",
        "    diff = cur_date - start_date\n",
        "    cases_t[diff.days] = row['Total_Cases']\n",
        "  return cases_t\n",
        "\n",
        "# Conglomerating inputs\n",
        "'''\n",
        "  @param is the name of the state\n",
        "  returns a list of lists. Each list-element is [a, b, c, d, e]\n",
        "  a = Day number (from start date)\n",
        "  b = Number of cumulative B.1.1.7 cases from day 1 to day a\n",
        "  c = Number of cumulative P.1 cases from day 1 to day a\n",
        "  d = Number of cumulative B.1.351 cases from day 1 to day a\n",
        "  e = Total wild-strain cases from day 1 to day a\n",
        "'''\n",
        "def timed_cases(state):\n",
        "  case_c_t = []\n",
        "  var_t = time_variant_state_data(state)\n",
        "  cases_t = time_total_state_data(state)\n",
        "  for v in var_t:\n",
        "    if v < 0:\n",
        "      continue\n",
        "    cases = cases_t[v]\n",
        "    case_c_t.append([v] + var_t[v] + [cases - sum(var_t[v])])\n",
        "  return case_c_t\n",
        "\n",
        "def timed_vaccine(state):\n",
        "  vaccine_t = []\n",
        "  vac_t = time_vaccine_state_data(state)\n",
        "  for v in vac_t:\n",
        "    if v < 0:\n",
        "      continue\n",
        "    vaccine_t.append([v] + [vac_t[v]])\n",
        "  return vaccine_t\n",
        "\n"
      ],
      "execution_count": null,
      "outputs": []
    },
    {
      "cell_type": "markdown",
      "metadata": {
        "id": "n4At35JtBN26"
      },
      "source": [
        "# Splitting Training and Testing Data"
      ]
    },
    {
      "cell_type": "code",
      "metadata": {
        "id": "95_eRCoVBMNz"
      },
      "source": [
        "'''\n",
        "  @param is the name of the state\n",
        "  returns 2 lists:\n",
        "    list1 is the vaccine data\n",
        "    list2 is the variant data [a, b, c, d] where:\n",
        "      a = Number of cumulative B.1.1.7 cases\n",
        "      b = Number of cumulative P.1 cases\n",
        "      c = Number of cumulative B.1.351 cases\n",
        "      d = Total wild-strain cases\n",
        "    The i'th element of list1 was recorded on the same day as the i'th element of list2\n",
        "'''\n",
        "def vaccine_variant_data(state):\n",
        "  cases = timed_cases(state)\n",
        "  vaccines = timed_vaccine(state)\n",
        "  x_vaccine = []\n",
        "  y_variant = []\n",
        "  a = {}\n",
        "  x_vaccine = []\n",
        "  y_variant = []\n",
        "  days = []\n",
        "  for i in range(len(cases)):\n",
        "    a[cases[i][0]] = 1\n",
        "  for i in range(len(vaccines)):\n",
        "    try:\n",
        "      a[vaccines[i][0]] = a[vaccines[i][0]] + 1\n",
        "    except:\n",
        "      a[vaccines[i][0]] = 1\n",
        "  for i in a.keys():\n",
        "    if (a[i] == 2):\n",
        "      days.append(i)\n",
        "      x_vaccine.append(vaccines[i][1])\n",
        "      y_variant.append([cases[i][1], cases[i][2], cases[i][3], cases[i][4]])\n",
        "  return np.asarray(x_vaccine), np.asarray(y_variant)"
      ],
      "execution_count": null,
      "outputs": []
    },
    {
      "cell_type": "code",
      "metadata": {
        "id": "8yPR3lb2BY9w"
      },
      "source": [
        "def split_train_test(state, train_percentage):\n",
        "  vaccine, variant = vaccine_variant_data(state)\n",
        "  index = int(train_percentage*len(vaccine)/100)\n",
        "  train_vaccine, train_variant = vaccine[0:index], variant[0:index]\n",
        "  test_vaccine, test_variant = vaccine[index:len(vaccine)], variant[index:len(variant)]\n",
        "  assert(len(train_vaccine)==len(train_variant))\n",
        "  assert(len(test_vaccine) == len(test_variant))\n",
        "  return train_vaccine, train_variant, test_vaccine, test_variant\n",
        "\n",
        "def split_train_test_variant(state, variant, train_percentage):\n",
        "  train_vaccine, train_variant, test_vaccine, test_variant = split_train_test(state, train_percentage)\n",
        "  lst = {\"B117\":0, \"P1\":1, \"B1351\":2, \"WILDSTRAIN\":3}\n",
        "  train_variant = train_variant[:,lst[variant]]\n",
        "  test_variant = test_variant[:,lst[variant]]\n",
        "  assert(len(train_vaccine)==len(train_variant))\n",
        "  assert(len(test_vaccine) == len(test_variant))\n",
        "  return train_vaccine, train_variant, test_vaccine, test_variant\n"
      ],
      "execution_count": null,
      "outputs": []
    },
    {
      "cell_type": "code",
      "metadata": {
        "id": "XRmPaKycBv8y"
      },
      "source": [
        "vaccine_tr, b117_tr, vaccine_te, b117_te = split_train_test_variant(\"California\", \"B117\", 80)"
      ],
      "execution_count": null,
      "outputs": []
    },
    {
      "cell_type": "code",
      "metadata": {
        "id": "m7ZMjSMA8UY9"
      },
      "source": [
        "vaccine_tr, variant_tr, vaccine_te, variant_te = split_train_test(\"California\", 80)"
      ],
      "execution_count": null,
      "outputs": []
    },
    {
      "cell_type": "markdown",
      "metadata": {
        "id": "e8Vhts7NEi5R"
      },
      "source": [
        "# Model Selection"
      ]
    },
    {
      "cell_type": "code",
      "metadata": {
        "id": "BExUXUtoElFx"
      },
      "source": [
        "kernel = DotProduct() + WhiteKernel() + ConstantKernel(constant_value=200)\n",
        "model = gp.GaussianProcessRegressor(\n",
        "                    kernel              = kernel,\n",
        "                    alpha               = 1e-10,\n",
        "                    copy_X_train        = True,\n",
        "                    optimizer           = \"fmin_l_bfgs_b\",\n",
        "                    n_restarts_optimizer= 25,\n",
        "                    normalize_y         = False,\n",
        "                    random_state        = None)"
      ],
      "execution_count": null,
      "outputs": []
    },
    {
      "cell_type": "code",
      "metadata": {
        "id": "nqXMllNCjJBO"
      },
      "source": [
        "model.fit(vaccine_tr.reshape(-1, 1), variant_tr)\n",
        "params = model.kernel_.get_params()"
      ],
      "execution_count": null,
      "outputs": []
    },
    {
      "cell_type": "code",
      "metadata": {
        "id": "SxkUB5rtjYjH"
      },
      "source": [
        "sy_pred, std = model.predict(vaccine_te.reshape(-1, 1), return_std=True)"
      ],
      "execution_count": null,
      "outputs": []
    },
    {
      "cell_type": "code",
      "metadata": {
        "colab": {
          "base_uri": "https://localhost:8080/",
          "height": 883
        },
        "id": "JtIduLKEjlbo",
        "outputId": "75c0f5d1-faf5-412a-d1ea-3d89bac0cd71"
      },
      "source": [
        "plt.plot(vaccine_te, y_pred[:,0])\n",
        "plt.plot(vaccine_tr, variant_tr[:,0])\n",
        "plt.plot(vaccine_te, variant_te[:,0])\n",
        "plt.plot([2.0*1e7 for i in range(1000)], [i for i in range(1000)])\n",
        "plt.title(\"B117 prediction in California\")\n",
        "plt.figure()\n",
        "\n",
        "\n",
        "plt.plot(vaccine_te, y_pred[:,1])\n",
        "plt.plot(vaccine_tr, variant_tr[:,1])\n",
        "plt.plot(vaccine_te, variant_te[:,1])\n",
        "plt.plot([2.0*1e7 for i in range(50)], [i for i in range(50)])\n",
        "plt.title(\"P1 prediction in California\")\n",
        "plt.figure()\n",
        "\n",
        "plt.plot(vaccine_te, y_pred[:,2])\n",
        "plt.plot(vaccine_tr, variant_tr[:,2])\n",
        "plt.plot(vaccine_te, variant_te[:,2])\n",
        "plt.plot([2.0*1e7 for i in range(20)], [i for i in range(20)])\n",
        "plt.title(\"B1351 prediction in California\")\n",
        "plt.figure()"
      ],
      "execution_count": null,
      "outputs": [
        {
          "output_type": "execute_result",
          "data": {
            "text/plain": [
              "<Figure size 432x288 with 0 Axes>"
            ]
          },
          "metadata": {
            "tags": []
          },
          "execution_count": 153
        },
        {
          "output_type": "display_data",
          "data": {
            "image/png": "[encoded data removed]",
            "text/plain": [
              "<Figure size 432x288 with 1 Axes>"
            ]
          },
          "metadata": {
            "tags": [],
            "needs_background": "light"
          }
        },
        {
          "output_type": "display_data",
          "data": {
            "image/png": "[encoded data removed]",
            "text/plain": [
              "<Figure size 432x288 with 1 Axes>"
            ]
          },
          "metadata": {
            "tags": [],
            "needs_background": "light"
          }
        },
        {
          "output_type": "display_data",
          "data": {
            "image/png": "[encoded data removed]",
            "text/plain": [
              "<Figure size 432x288 with 1 Axes>"
            ]
          },
          "metadata": {
            "tags": [],
            "needs_background": "light"
          }
        },
        {
          "output_type": "display_data",
          "data": {
            "text/plain": [
              "<Figure size 432x288 with 0 Axes>"
            ]
          },
          "metadata": {
            "tags": []
          }
        }
      ]
    },
    {
      "cell_type": "code",
      "metadata": {
        "id": "eVkOlGTMj8n7",
        "colab": {
          "base_uri": "https://localhost:8080/"
        },
        "outputId": "1671fe63-7f18-48ac-98bc-12c1e4ca9a04"
      },
      "source": [
        "MSE = ((y_pred-variant_te)**2)\n",
        "print(\"mse = \", MSE.mean())\n",
        "print(\"rmse = \", np.sqrt(MSE.mean()))"
      ],
      "execution_count": null,
      "outputs": [
        {
          "output_type": "stream",
          "text": [
            "mse =  2195163131.3204184\n",
            "rmse =  46852.56803335777\n"
          ],
          "name": "stdout"
        }
      ]
    },
    {
      "cell_type": "code",
      "metadata": {
        "id": "K7pi8BGY6Trb"
      },
      "source": [
        ""
      ],
      "execution_count": null,
      "outputs": []
    }
  ]
}