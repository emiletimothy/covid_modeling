{
 "cells": [
  {
   "cell_type": "markdown",
   "metadata": {
    "id": "HFRnPqmBcCA2"
   },
   "source": [
    "# Preprocessing"
   ]
  },
  {
   "cell_type": "code",
   "execution_count": 78,
   "metadata": {
    "executionInfo": {
     "elapsed": 295,
     "status": "ok",
     "timestamp": 1622021956199,
     "user": {
      "displayName": "Basel Mostafa",
      "photoUrl": "",
      "userId": "15027269614589800643"
     },
     "user_tz": 420
    },
    "id": "t3_2lfF0_HPQ"
   },
   "outputs": [],
   "source": [
    "import json\n",
    "import pandas as pd\n",
    "import numpy as np\n",
    "import matplotlib.pyplot as plt\n",
    "from datetime import datetime\n",
    "from datetime import date\n",
    "from scipy.interpolate import interp1d"
   ]
  },
  {
   "cell_type": "code",
   "execution_count": 79,
   "metadata": {
    "executionInfo": {
     "elapsed": 11,
     "status": "ok",
     "timestamp": 1622021956418,
     "user": {
      "displayName": "Basel Mostafa",
      "photoUrl": "",
      "userId": "15027269614589800643"
     },
     "user_tz": 420
    },
    "id": "HhKAt9zuFiMG"
   },
   "outputs": [],
   "source": [
    "codes_states = [('AK', 'Alaska'), ('AL', 'Alabama'), ('AZ', 'Arizona'), ('AR', 'Arkansas'), ('CA', 'California'), ('CO', 'Colorado'), ('CT', 'Connecticut'), ('DE', 'Delaware'), ('FL', 'Florida'), ('GA', 'Georgia'), ('HI', 'Hawaii'), ('ID', 'Idaho'), ('IL', 'Illinois'), ('IN', 'Indiana'), ('IA', 'Iowa'), ('KS', 'Kansas'), ('KY', 'Kentucky'), ('LA', 'Louisiana'), ('ME', 'Maine'), ('MD', 'Maryland'), ('MA', 'Massachusetts'), ('MI', 'Michigan'), ('MN', 'Minnesota'), ('MS', 'Mississippi'), ('MO', 'Missouri'), ('MT', 'Montana'), ('NE', 'Nebraska'), ('NV', 'Nevada'), ('NH', 'New Hampshire'), ('NJ', 'New Jersey'), ('NM', 'New Mexico'), ('NY', 'New York State'), ('NC', 'North Carolina'), ('ND', 'North Dakota'), ('OH', 'Ohio'), ('OK', 'Oklahoma'), ('OR', 'Oregon'), ('PA', 'Pennsylvania'), ('RI', 'Rhode Island'), ('SC', 'South Carolina'), ('SD', 'South Dakota'), ('TN', 'Tennessee'), ('TX', 'Texas'), ('UT', 'Utah'), ('VT', 'Vermont'), ('VA', 'Virginia'), ('WA', 'Washington'), ('WV', 'West Virginia'), ('WI', 'Wisconsin'), ('WY', 'Wyoming')]\n",
    "codes = [a for a, _ in codes_states] + ['USA']\n",
    "names = [b for _, b in codes_states] + ['USA']\n",
    "to_name = dict(codes_states)\n",
    "to_code = dict([(b, a) for a, b in codes_states])"
   ]
  },
  {
   "cell_type": "code",
   "execution_count": 80,
   "metadata": {
    "executionInfo": {
     "elapsed": 11,
     "status": "ok",
     "timestamp": 1622021956420,
     "user": {
      "displayName": "Basel Mostafa",
      "photoUrl": "",
      "userId": "15027269614589800643"
     },
     "user_tz": 420
    },
    "id": "DHzm-qdzBa-E"
   },
   "outputs": [],
   "source": [
    "# helpers\n",
    "\n",
    "# Converts day to number\n",
    "# Gets the number of days before (negative) or after (positive) 1/1/2021\n",
    "def date_to_day(string):\n",
    "    v1 = datetime.strptime(string, \"%Y-%m-%d\")\n",
    "    v2 = date(v1.year, v1.month, v1.day)\n",
    "    v3 = (v2 - date(v2.year, 1, 1)).days + 1\n",
    "    if v2.year == 2020:\n",
    "        v3 = v3 - 365\n",
    "    return v3\n",
    "\n",
    "# Convert a series of dates to days as per the above function\n",
    "def dates_to_days(series):\n",
    "    lst = series.to_numpy()\n",
    "    days = [date_to_day(v) for v in lst]\n",
    "    df = pd.DataFrame(data=days, columns=['day'])\n",
    "    return df\n",
    "\n",
    "# Fill in missing values for a series\n",
    "def fill_missing(x, y):\n",
    "    new_x, new_y = [], []\n",
    "    for i in range(0, len(x)):\n",
    "\n",
    "        if not new_y:\n",
    "            if np.isnan(y[i]):\n",
    "                continue\n",
    "            # If no data at all that isn't NaN, return None\n",
    "            if i == len(y):\n",
    "                return None\n",
    "            # At this point, it must be the case that all data encountered\n",
    "            # in the for loop must be NaN except this value. Fill everything \n",
    "            # with this value\n",
    "            for j in range(i+1):\n",
    "                new_x.append(x[j])\n",
    "                new_y.append(y[i])\n",
    "            continue\n",
    "        \n",
    "        # If we have that days are skipped, we fill in with days\n",
    "        # from the last unskipped day\n",
    "        while new_x[-1] < x[i] - 1:\n",
    "            new_x.append(new_x[-1] + 1)\n",
    "            new_y.append(new_y[-1])\n",
    "        new_x.append(x[i])\n",
    "        # If the value for y is NaN, use the last valid value\n",
    "        if np.isnan(y[i]):\n",
    "            new_y.append(new_y[-1])\n",
    "        else:\n",
    "            new_y.append(y[i])\n",
    "\n",
    "    return new_x, new_y\n",
    "\n",
    "# Interpolate data\n",
    "def interpolate(y):\n",
    "    update_idxs = [0]\n",
    "    for i in range(1, len(y)):\n",
    "        if y[i] != y[update_idxs[-1]]:\n",
    "            update_idxs.append(i)\n",
    "    update_idxs[-1] = len(y) - 1\n",
    "    f = interp1d(update_idxs, np.array(y)[update_idxs])\n",
    "    new_y = list(f(list(range(len(y)))))\n",
    "    return new_y"
   ]
  },
  {
   "cell_type": "markdown",
   "metadata": {
    "id": "YFnHEb0t90iD"
   },
   "source": [
    "## Vaccinations"
   ]
  },
  {
   "cell_type": "code",
   "execution_count": 81,
   "metadata": {
    "executionInfo": {
     "elapsed": 573,
     "status": "ok",
     "timestamp": 1622021956983,
     "user": {
      "displayName": "Basel Mostafa",
      "photoUrl": "",
      "userId": "15027269614589800643"
     },
     "user_tz": 420
    },
    "id": "0EG6RQBGABgO"
   },
   "outputs": [],
   "source": [
    "raw_df = pd.read_csv('https://raw.githubusercontent.com/owid/covid-19-data/master/public/data/vaccinations/us_state_vaccinations.csv')\n",
    "raw_df['day'] = dates_to_days(raw_df['date'])\n",
    "df = raw_df[['day', 'location', 'people_fully_vaccinated_per_hundred', 'people_fully_vaccinated']]\n",
    "df = df.rename(columns={'location' : 'loc', 'people_fully_vaccinated_per_hundred' : 'vacc_per_100'})\n",
    "\n",
    "df_per_state = {}\n",
    "for name in names:\n",
    "    if name == 'USA':\n",
    "        continue\n",
    "    df_per_state[name] = df[df['loc'] == name][['day', 'vacc_per_100', 'people_fully_vaccinated']]\n",
    "    df_per_state[name] = df_per_state[name].reset_index(drop=True)\n",
    "\n",
    "# vacc_dct structure:\n",
    "# vacc_dct takes a key of a US state postal code or just 'USA'\n",
    "# Its value is a dictionary:\n",
    "# 'day' -> List of days\n",
    "# 'vacc' -> List of fully vaccininated people per 100 (interpolated) over time\n",
    "# 'total' -> List of total people fully vaccinated over time (days)\n",
    "vacc_dct = {}\n",
    "for name, state_df in df_per_state.items():\n",
    "    raw_days = state_df['day'].to_numpy()\n",
    "    raw_vacc = state_df['vacc_per_100'].to_numpy()\n",
    "    raw_total = state_df['people_fully_vaccinated'].to_numpy()\n",
    "    \n",
    "    val = fill_missing(raw_days, raw_vacc)\n",
    "    if val is None:\n",
    "        continue\n",
    "    days, vacc = val\n",
    "    interpolated = interpolate(vacc)\n",
    "    \n",
    "    val = fill_missing(raw_days, raw_total)\n",
    "    if val is None:\n",
    "        continue\n",
    "    _, total = val\n",
    "\n",
    "    vacc_dct[to_code[name]] = {'day' : days, 'vacc' : vacc, 'interp' : interpolated, 'total' : total}\n",
    "\n",
    "# Calculate total fully vaccinated people and per 100 for USA\n",
    "days = vacc_dct['AK']['day']\n",
    "total = np.zeros(len(days))\n",
    "for code in vacc_dct:\n",
    "    total += vacc_dct[code]['total']\n",
    "vacc = total / (328.2 * 1000000) * 100\n",
    "\n",
    "vacc_dct['USA'] = {'day' : days, 'vacc' : vacc, 'interp' : vacc, 'total' : total}"
   ]
  },
  {
   "cell_type": "markdown",
   "metadata": {
    "id": "DOQaWFld92ie"
   },
   "source": [
    "## Variants"
   ]
  },
  {
   "cell_type": "code",
   "execution_count": 82,
   "metadata": {
    "colab": {
     "base_uri": "https://localhost:8080/"
    },
    "executionInfo": {
     "elapsed": 631,
     "status": "ok",
     "timestamp": 1622021957608,
     "user": {
      "displayName": "Basel Mostafa",
      "photoUrl": "",
      "userId": "15027269614589800643"
     },
     "user_tz": 420
    },
    "id": "lsZVCqBHcXPa",
    "outputId": "96103a1d-bc21-4607-92c1-0b8cc3f1ee7d"
   },
   "outputs": [
    {
     "name": "stdout",
     "output_type": "stream",
     "text": [
      "dict_keys(['day', 'prop', 'interp'])\n"
     ]
    }
   ],
   "source": [
    "# Make sure the outbreak data is updated before using this\n",
    "with open('outbreak_combined_us_state_data.json') as json_file:\n",
    "    raw_dct = json.load(json_file)\n",
    "\n",
    "with open('outbreak_us.json') as json_file:\n",
    "    raw_dct += json.load(json_file)\n",
    "\n",
    "# variants_dct structure:\n",
    "# variants_dct takes a key of a variant type\n",
    "# Its value is a dictionary that takes a US postal code or 'USA' as a key\n",
    "# This dictionary then has the following:\n",
    "# 'day' -> List of days\n",
    "# 'prop' -> List of proportion for that variant over time (days)\n",
    "# 'interp' -> Interpolated proportions\n",
    "variants_dct = {}\n",
    "for i in range(len(raw_dct)):\n",
    "    if 'label' not in raw_dct[i]:\n",
    "        continue\n",
    "    if raw_dct[i]['label'] not in variants_dct:\n",
    "        variants_dct[raw_dct[i]['label']] = {}\n",
    "    days, prop = [], []\n",
    "    for point in raw_dct[i]['data']:\n",
    "        days.append(date_to_day(point['date']))\n",
    "        prop.append(point['proportion'])\n",
    "    if days:\n",
    "        days, prop = fill_missing(days, prop)\n",
    "        interpolated = interpolate(prop)\n",
    "    # only want days after we have vaccination data\n",
    "    if days and days[0] < 12:\n",
    "        idx = days.index(12)\n",
    "        days = days[idx:]\n",
    "        prop = prop[idx:]\n",
    "        interpolated = interpolated[idx:]\n",
    "    dct = {'day' : days, 'prop' : prop, 'interp' : interpolated}\n",
    "    name = raw_dct[i]['route']['selected'][7:]\n",
    "    if name == '':\n",
    "        name = raw_dct[i]['route']['selected']\n",
    "    variants_dct[raw_dct[i]['label']][name] = dct\n",
    "\n",
    "print(variants_dct['B.1.1.7']['AL'].keys())"
   ]
  },
  {
   "cell_type": "markdown",
   "metadata": {
    "id": "Ut9Ozdij6A9x"
   },
   "source": [
    "# Models"
   ]
  },
  {
   "cell_type": "code",
   "execution_count": 83,
   "metadata": {
    "executionInfo": {
     "elapsed": 8,
     "status": "ok",
     "timestamp": 1622021957610,
     "user": {
      "displayName": "Basel Mostafa",
      "photoUrl": "",
      "userId": "15027269614589800643"
     },
     "user_tz": 420
    },
    "id": "_Nvw3VBv6D3C"
   },
   "outputs": [],
   "source": [
    "# Universal Model Parameters\n",
    "\n",
    "# How much ahead we are predicting\n",
    "days_ahead = 10\n",
    "# How many days of data we are using to predict\n",
    "lag_order = 14\n",
    "\n",
    "# data from last ~two weeks has not been finalized\n",
    "end_test = -14"
   ]
  },
  {
   "cell_type": "markdown",
   "metadata": {
    "id": "Hxv0-CCj5lMd"
   },
   "source": [
    "# LSTM"
   ]
  },
  {
   "cell_type": "markdown",
   "metadata": {
    "id": "kZDKI07d-T_A"
   },
   "source": [
    "## Time Series"
   ]
  },
  {
   "cell_type": "code",
   "execution_count": 84,
   "metadata": {
    "executionInfo": {
     "elapsed": 748,
     "status": "ok",
     "timestamp": 1622021958351,
     "user": {
      "displayName": "Basel Mostafa",
      "photoUrl": "",
      "userId": "15027269614589800643"
     },
     "user_tz": 420
    },
    "id": "s6ia-Zuv5m0f"
   },
   "outputs": [],
   "source": [
    "# Amount of test points we're using per state\n",
    "test_points_per_state = 3\n",
    "end_test_input = end_test - days_ahead\n",
    "end_train_input = end_test_input - lag_order - (test_points_per_state - 1)\n",
    "\n",
    "# Minimum number of acceptable training points\n",
    "# It is very small, but that is why we train a single model for all states\n",
    "min_train_points_per_state = 5\n",
    "min_start_train = end_train_input - (lag_order - 1) - (min_train_points_per_state - 1)\n",
    "\n",
    "# Note that the training and testing points are entirely distinct in terms of\n",
    "# the window they are using. This makes sure we aren't considering the test \n",
    "# set when training.\n",
    "# In other words, the inputs to the testing points have no overlap with the inputs\n",
    "# to the testing points.\n",
    "\n",
    "# Convert data into the desired input for LSTM\n",
    "def input_output(days, prop, vacc, code, first_start_idx, last_start_idx):\n",
    "    state = [0 for _ in range(len(codes))]\n",
    "    state[codes.index(code)] = 1\n",
    "    x, y = [], []\n",
    "    for i in range(first_start_idx, last_start_idx):\n",
    "        x_point = []\n",
    "        for j in range(i, i + lag_order):\n",
    "            x_point.append(state + [days[j], vacc[j], prop[j]])\n",
    "        x.append(x_point)\n",
    "        y.append(prop[j + days_ahead])\n",
    "    return x, y\n",
    "\n",
    "# X train and test take the key of a variant \n",
    "# and then by postal code/'USA'/or 'all' to get relevant training/testing data\n",
    "\n",
    "# Y similar structure but for output data instead\n",
    "X_train, Y_train = {}, {}\n",
    "X_test, Y_test = {}, {}\n",
    "\n",
    "for variant in variants_dct: \n",
    "    \n",
    "    X_train[variant], Y_train[variant] = {'all' : []}, {'all' : []}\n",
    "    X_test[variant], Y_test[variant] = {'all' : []}, {'all' : []}\n",
    "    \n",
    "    for code in variants_dct[variant]:\n",
    "        days = variants_dct[variant][code]['day']\n",
    "        \n",
    "        if not days or days[0] >= days[-1] + min_start_train:\n",
    "            continue\n",
    "        \n",
    "        prop = variants_dct[variant][code]['interp']\n",
    "\n",
    "        i1 = vacc_dct[code]['day'].index(days[0])\n",
    "\n",
    "        # Variant data takes time to be updated on outbreak, so vacc \n",
    "        # is longer than prop most of the time. So don't be alarmed \n",
    "        # if you notice this to be the case.\n",
    "        vacc = vacc_dct[code]['interp'][i1:]\n",
    "        \n",
    "        first_start_idx = 0\n",
    "        last_start_idx = len(days) + end_train_input - lag_order\n",
    "        x, y = input_output(days, prop, vacc, code, first_start_idx, last_start_idx)\n",
    "        X_train[variant][code], Y_train[variant][code] = x, y\n",
    "        X_train[variant]['all'] += x\n",
    "        Y_train[variant]['all'] += y\n",
    "\n",
    "        first_start_idx = len(days) + end_train_input\n",
    "        last_start_idx = first_start_idx + 3\n",
    "        x, y = input_output(days, prop, vacc, code, first_start_idx, last_start_idx)\n",
    "        X_test[variant][code], Y_test[variant][code] = x, y\n",
    "        X_test[variant]['all'] += x\n",
    "        Y_test[variant]['all'] += y"
   ]
  },
  {
   "cell_type": "markdown",
   "metadata": {
    "id": "Du08asys-aaG"
   },
   "source": [
    "## Train"
   ]
  },
  {
   "cell_type": "code",
   "execution_count": 85,
   "metadata": {
    "colab": {
     "base_uri": "https://localhost:8080/"
    },
    "executionInfo": {
     "elapsed": 159662,
     "status": "ok",
     "timestamp": 1622022118007,
     "user": {
      "displayName": "Basel Mostafa",
      "photoUrl": "",
      "userId": "15027269614589800643"
     },
     "user_tz": 420
    },
    "id": "HBQopqftQA6d",
    "outputId": "3516f025-6df1-4fa3-8064-cfa4cc233c34"
   },
   "outputs": [
    {
     "name": "stdout",
     "output_type": "stream",
     "text": [
      "Number of data points: 2736\n",
      "Model: \"sequential_15\"\n",
      "_________________________________________________________________\n",
      "Layer (type)                 Output Shape              Param #   \n",
      "=================================================================\n",
      "lstm_30 (LSTM)               (None, 14, 3)             696       \n",
      "_________________________________________________________________\n",
      "lstm_31 (LSTM)               (None, 2)                 48        \n",
      "_________________________________________________________________\n",
      "dense_15 (Dense)             (None, 1)                 3         \n",
      "=================================================================\n",
      "Total params: 747\n",
      "Trainable params: 747\n",
      "Non-trainable params: 0\n",
      "_________________________________________________________________\n",
      "Epoch 1/25\n",
      "77/77 [==============================] - 6s 28ms/step - loss: 0.1082 - val_loss: 0.0240\n",
      "Epoch 2/25\n",
      "77/77 [==============================] - 1s 12ms/step - loss: 0.0453 - val_loss: 0.0126\n",
      "Epoch 3/25\n",
      "77/77 [==============================] - 1s 12ms/step - loss: 0.0248 - val_loss: 0.0154\n",
      "Epoch 4/25\n",
      "77/77 [==============================] - 1s 12ms/step - loss: 0.0188 - val_loss: 0.0163\n",
      "Epoch 5/25\n",
      "77/77 [==============================] - 1s 12ms/step - loss: 0.0141 - val_loss: 0.0062\n",
      "Epoch 6/25\n",
      "77/77 [==============================] - 1s 12ms/step - loss: 0.0123 - val_loss: 0.0061\n",
      "Epoch 7/25\n",
      "77/77 [==============================] - 1s 12ms/step - loss: 0.0090 - val_loss: 0.0052\n",
      "Epoch 8/25\n",
      "77/77 [==============================] - 1s 12ms/step - loss: 0.0081 - val_loss: 0.0056\n",
      "Epoch 9/25\n",
      "77/77 [==============================] - 1s 12ms/step - loss: 0.0076 - val_loss: 0.0053\n",
      "Epoch 10/25\n",
      "77/77 [==============================] - 1s 12ms/step - loss: 0.0071 - val_loss: 0.0055\n",
      "Epoch 11/25\n",
      "77/77 [==============================] - 1s 12ms/step - loss: 0.0061 - val_loss: 0.0050\n",
      "Epoch 12/25\n",
      "77/77 [==============================] - 1s 12ms/step - loss: 0.0066 - val_loss: 0.0046\n",
      "Epoch 13/25\n",
      "77/77 [==============================] - 1s 12ms/step - loss: 0.0068 - val_loss: 0.0057\n",
      "Epoch 14/25\n",
      "77/77 [==============================] - 1s 12ms/step - loss: 0.0059 - val_loss: 0.0047\n",
      "Epoch 15/25\n",
      "77/77 [==============================] - 1s 12ms/step - loss: 0.0061 - val_loss: 0.0041\n",
      "Epoch 16/25\n",
      "77/77 [==============================] - 1s 12ms/step - loss: 0.0060 - val_loss: 0.0048\n",
      "Epoch 17/25\n",
      "77/77 [==============================] - 1s 11ms/step - loss: 0.0058 - val_loss: 0.0047\n",
      "Epoch 18/25\n",
      "77/77 [==============================] - 1s 12ms/step - loss: 0.0063 - val_loss: 0.0041\n",
      "Epoch 19/25\n",
      "77/77 [==============================] - 1s 12ms/step - loss: 0.0062 - val_loss: 0.0039\n",
      "Epoch 20/25\n",
      "77/77 [==============================] - 1s 11ms/step - loss: 0.0057 - val_loss: 0.0041\n",
      "Epoch 21/25\n",
      "77/77 [==============================] - 1s 12ms/step - loss: 0.0060 - val_loss: 0.0039\n",
      "Epoch 22/25\n",
      "77/77 [==============================] - 1s 12ms/step - loss: 0.0057 - val_loss: 0.0050\n",
      "Epoch 23/25\n",
      "77/77 [==============================] - 1s 12ms/step - loss: 0.0056 - val_loss: 0.0052\n",
      "Epoch 24/25\n",
      "77/77 [==============================] - 1s 11ms/step - loss: 0.0059 - val_loss: 0.0038\n",
      "Epoch 25/25\n",
      "77/77 [==============================] - 1s 12ms/step - loss: 0.0055 - val_loss: 0.0043\n",
      "Number of data points: 1117\n",
      "Model: \"sequential_16\"\n",
      "_________________________________________________________________\n",
      "Layer (type)                 Output Shape              Param #   \n",
      "=================================================================\n",
      "lstm_32 (LSTM)               (None, 14, 3)             696       \n",
      "_________________________________________________________________\n",
      "lstm_33 (LSTM)               (None, 2)                 48        \n",
      "_________________________________________________________________\n",
      "dense_16 (Dense)             (None, 1)                 3         \n",
      "=================================================================\n",
      "Total params: 747\n",
      "Trainable params: 747\n",
      "Non-trainable params: 0\n",
      "_________________________________________________________________\n",
      "Epoch 1/25\n",
      "32/32 [==============================] - 5s 49ms/step - loss: 3.4544e-04 - val_loss: 4.5468e-05\n",
      "Epoch 2/25\n",
      "32/32 [==============================] - 0s 12ms/step - loss: 2.5674e-04 - val_loss: 3.5776e-05\n",
      "Epoch 3/25\n",
      "32/32 [==============================] - 0s 12ms/step - loss: 2.2151e-04 - val_loss: 5.2771e-05\n",
      "Epoch 4/25\n",
      "32/32 [==============================] - 0s 13ms/step - loss: 2.8245e-04 - val_loss: 5.5074e-05\n",
      "Epoch 5/25\n",
      "32/32 [==============================] - 0s 12ms/step - loss: 2.6140e-04 - val_loss: 3.8518e-05\n",
      "Epoch 6/25\n",
      "32/32 [==============================] - 0s 13ms/step - loss: 2.6387e-04 - val_loss: 7.2564e-05\n",
      "Epoch 7/25\n",
      "32/32 [==============================] - 0s 13ms/step - loss: 2.3886e-04 - val_loss: 2.5343e-05\n",
      "Epoch 8/25\n",
      "32/32 [==============================] - 0s 13ms/step - loss: 2.6911e-04 - val_loss: 5.3033e-05\n",
      "Epoch 9/25\n",
      "32/32 [==============================] - 0s 13ms/step - loss: 2.2203e-04 - val_loss: 5.8804e-05\n",
      "Epoch 10/25\n",
      "32/32 [==============================] - 0s 12ms/step - loss: 2.8304e-04 - val_loss: 4.4974e-05\n",
      "Epoch 11/25\n",
      "32/32 [==============================] - 0s 11ms/step - loss: 2.5466e-04 - val_loss: 7.1153e-05\n",
      "Epoch 12/25\n",
      "32/32 [==============================] - 0s 11ms/step - loss: 2.6838e-04 - val_loss: 4.8461e-05\n",
      "Epoch 13/25\n",
      "32/32 [==============================] - 0s 13ms/step - loss: 1.9974e-04 - val_loss: 3.3324e-05\n",
      "Epoch 14/25\n",
      "32/32 [==============================] - 0s 13ms/step - loss: 2.3074e-04 - val_loss: 1.2824e-05\n",
      "Epoch 15/25\n",
      "32/32 [==============================] - 0s 12ms/step - loss: 2.1138e-04 - val_loss: 7.4695e-06\n",
      "Epoch 16/25\n",
      "32/32 [==============================] - 0s 13ms/step - loss: 2.0428e-04 - val_loss: 3.6508e-06\n",
      "Epoch 17/25\n",
      "32/32 [==============================] - 0s 12ms/step - loss: 1.5551e-04 - val_loss: 1.3145e-05\n",
      "Epoch 18/25\n",
      "32/32 [==============================] - 0s 13ms/step - loss: 1.8462e-04 - val_loss: 1.2739e-04\n",
      "Epoch 19/25\n",
      "32/32 [==============================] - 0s 14ms/step - loss: 1.3905e-04 - val_loss: 1.7769e-04\n",
      "Epoch 20/25\n",
      "32/32 [==============================] - 0s 13ms/step - loss: 1.4716e-04 - val_loss: 1.5148e-04\n",
      "Epoch 21/25\n",
      "32/32 [==============================] - 0s 12ms/step - loss: 1.6324e-04 - val_loss: 1.7751e-04\n",
      "Epoch 22/25\n",
      "32/32 [==============================] - 0s 13ms/step - loss: 1.3860e-04 - val_loss: 1.3215e-04\n",
      "Epoch 23/25\n",
      "32/32 [==============================] - 0s 12ms/step - loss: 8.5923e-05 - val_loss: 1.3415e-04\n",
      "Epoch 24/25\n",
      "32/32 [==============================] - 0s 13ms/step - loss: 1.1701e-04 - val_loss: 1.9217e-04\n",
      "Epoch 25/25\n",
      "32/32 [==============================] - 0s 13ms/step - loss: 1.0943e-04 - val_loss: 2.0045e-04\n",
      "Number of data points: 755\n",
      "Model: \"sequential_17\"\n",
      "_________________________________________________________________\n",
      "Layer (type)                 Output Shape              Param #   \n",
      "=================================================================\n",
      "lstm_34 (LSTM)               (None, 14, 3)             696       \n",
      "_________________________________________________________________\n",
      "lstm_35 (LSTM)               (None, 2)                 48        \n",
      "_________________________________________________________________\n",
      "dense_17 (Dense)             (None, 1)                 3         \n",
      "=================================================================\n",
      "Total params: 747\n",
      "Trainable params: 747\n",
      "Non-trainable params: 0\n",
      "_________________________________________________________________\n",
      "Epoch 1/25\n",
      "22/22 [==============================] - 5s 66ms/step - loss: 0.0138 - val_loss: 0.0012\n",
      "Epoch 2/25\n",
      "22/22 [==============================] - 0s 13ms/step - loss: 0.0041 - val_loss: 0.0020\n",
      "Epoch 3/25\n",
      "22/22 [==============================] - 0s 14ms/step - loss: 0.0022 - val_loss: 0.0013\n",
      "Epoch 4/25\n",
      "22/22 [==============================] - 0s 14ms/step - loss: 0.0013 - val_loss: 6.5145e-04\n",
      "Epoch 5/25\n",
      "22/22 [==============================] - 0s 14ms/step - loss: 0.0018 - val_loss: 3.4149e-04\n",
      "Epoch 6/25\n",
      "22/22 [==============================] - 0s 15ms/step - loss: 0.0013 - val_loss: 1.9144e-04\n",
      "Epoch 7/25\n",
      "22/22 [==============================] - 0s 12ms/step - loss: 0.0010 - val_loss: 1.5455e-04\n",
      "Epoch 8/25\n",
      "22/22 [==============================] - 0s 12ms/step - loss: 0.0011 - val_loss: 1.5670e-04\n",
      "Epoch 9/25\n",
      "22/22 [==============================] - 0s 13ms/step - loss: 9.8769e-04 - val_loss: 1.6931e-04\n",
      "Epoch 10/25\n",
      "22/22 [==============================] - 0s 13ms/step - loss: 9.6533e-04 - val_loss: 1.7864e-04\n",
      "Epoch 11/25\n",
      "22/22 [==============================] - 0s 14ms/step - loss: 7.6811e-04 - val_loss: 1.8728e-04\n",
      "Epoch 12/25\n",
      "22/22 [==============================] - 0s 13ms/step - loss: 0.0012 - val_loss: 1.8771e-04\n",
      "Epoch 13/25\n",
      "22/22 [==============================] - 0s 14ms/step - loss: 0.0014 - val_loss: 1.8829e-04\n",
      "Epoch 14/25\n",
      "22/22 [==============================] - 0s 15ms/step - loss: 0.0011 - val_loss: 1.8675e-04\n",
      "Epoch 15/25\n",
      "22/22 [==============================] - 0s 14ms/step - loss: 0.0010 - val_loss: 1.9538e-04\n",
      "Epoch 16/25\n",
      "22/22 [==============================] - 0s 14ms/step - loss: 0.0011 - val_loss: 1.8220e-04\n",
      "Epoch 17/25\n",
      "22/22 [==============================] - 0s 14ms/step - loss: 0.0011 - val_loss: 1.6826e-04\n",
      "Epoch 18/25\n",
      "22/22 [==============================] - 0s 14ms/step - loss: 9.5400e-04 - val_loss: 1.8025e-04\n",
      "Epoch 19/25\n",
      "22/22 [==============================] - 0s 14ms/step - loss: 8.3136e-04 - val_loss: 1.6711e-04\n",
      "Epoch 20/25\n",
      "22/22 [==============================] - 0s 13ms/step - loss: 9.0519e-04 - val_loss: 1.6740e-04\n",
      "Epoch 21/25\n",
      "22/22 [==============================] - 0s 14ms/step - loss: 8.6227e-04 - val_loss: 1.7394e-04\n",
      "Epoch 22/25\n",
      "22/22 [==============================] - 0s 13ms/step - loss: 0.0012 - val_loss: 1.7796e-04\n",
      "Epoch 23/25\n",
      "22/22 [==============================] - 0s 13ms/step - loss: 9.3147e-04 - val_loss: 1.8645e-04\n",
      "Epoch 24/25\n",
      "22/22 [==============================] - 0s 13ms/step - loss: 9.3731e-04 - val_loss: 1.7127e-04\n",
      "Epoch 25/25\n",
      "22/22 [==============================] - 0s 14ms/step - loss: 9.2544e-04 - val_loss: 1.6279e-04\n",
      "Number of data points: 2782\n",
      "Model: \"sequential_18\"\n",
      "_________________________________________________________________\n",
      "Layer (type)                 Output Shape              Param #   \n",
      "=================================================================\n",
      "lstm_36 (LSTM)               (None, 14, 3)             696       \n",
      "_________________________________________________________________\n",
      "lstm_37 (LSTM)               (None, 2)                 48        \n",
      "_________________________________________________________________\n",
      "dense_18 (Dense)             (None, 1)                 3         \n",
      "=================================================================\n",
      "Total params: 747\n",
      "Trainable params: 747\n",
      "Non-trainable params: 0\n",
      "_________________________________________________________________\n",
      "Epoch 1/25\n",
      "79/79 [==============================] - 6s 28ms/step - loss: 18.4517 - val_loss: 0.2898\n",
      "Epoch 2/25\n",
      "79/79 [==============================] - 1s 13ms/step - loss: 0.1098 - val_loss: 0.0094\n",
      "Epoch 3/25\n",
      "79/79 [==============================] - 1s 12ms/step - loss: 0.0060 - val_loss: 0.0055\n",
      "Epoch 4/25\n",
      "79/79 [==============================] - 1s 13ms/step - loss: 0.0029 - val_loss: 0.0047\n",
      "Epoch 5/25\n",
      "79/79 [==============================] - 1s 13ms/step - loss: 0.0025 - val_loss: 0.0046\n",
      "Epoch 6/25\n",
      "79/79 [==============================] - 1s 13ms/step - loss: 0.0025 - val_loss: 0.0045\n",
      "Epoch 7/25\n",
      "79/79 [==============================] - 1s 13ms/step - loss: 0.0024 - val_loss: 0.0045\n",
      "Epoch 8/25\n",
      "79/79 [==============================] - 1s 12ms/step - loss: 0.0026 - val_loss: 0.0045\n",
      "Epoch 9/25\n",
      "79/79 [==============================] - 1s 12ms/step - loss: 0.0025 - val_loss: 0.0045\n",
      "Epoch 10/25\n",
      "79/79 [==============================] - 1s 12ms/step - loss: 0.0024 - val_loss: 0.0046\n",
      "Epoch 11/25\n",
      "79/79 [==============================] - 1s 12ms/step - loss: 0.0024 - val_loss: 0.0046\n",
      "Epoch 12/25\n",
      "79/79 [==============================] - 1s 13ms/step - loss: 0.0025 - val_loss: 0.0046\n",
      "Epoch 13/25\n",
      "79/79 [==============================] - 1s 12ms/step - loss: 0.0022 - val_loss: 0.0046\n",
      "Epoch 14/25\n",
      "79/79 [==============================] - 1s 13ms/step - loss: 0.0023 - val_loss: 0.0046\n",
      "Epoch 15/25\n",
      "79/79 [==============================] - 1s 13ms/step - loss: 0.0023 - val_loss: 0.0046\n",
      "Epoch 16/25\n",
      "79/79 [==============================] - 1s 12ms/step - loss: 0.0025 - val_loss: 0.0047\n",
      "Epoch 17/25\n",
      "79/79 [==============================] - 1s 12ms/step - loss: 0.0023 - val_loss: 0.0047\n",
      "Epoch 18/25\n",
      "79/79 [==============================] - 1s 13ms/step - loss: 0.0025 - val_loss: 0.0047\n",
      "Epoch 19/25\n",
      "79/79 [==============================] - 1s 12ms/step - loss: 0.0023 - val_loss: 0.0047\n",
      "Epoch 20/25\n",
      "79/79 [==============================] - 1s 12ms/step - loss: 0.0022 - val_loss: 0.0047\n",
      "Epoch 21/25\n",
      "79/79 [==============================] - 1s 12ms/step - loss: 0.0022 - val_loss: 0.0048\n",
      "Epoch 22/25\n",
      "79/79 [==============================] - 1s 12ms/step - loss: 0.0022 - val_loss: 0.0048\n",
      "Epoch 23/25\n",
      "79/79 [==============================] - 1s 12ms/step - loss: 0.0023 - val_loss: 0.0048\n",
      "Epoch 24/25\n",
      "79/79 [==============================] - 1s 12ms/step - loss: 0.0022 - val_loss: 0.0048\n",
      "Epoch 25/25\n",
      "79/79 [==============================] - 1s 12ms/step - loss: 0.0023 - val_loss: 0.0048\n",
      "Number of data points: 2968\n",
      "Model: \"sequential_19\"\n",
      "_________________________________________________________________\n",
      "Layer (type)                 Output Shape              Param #   \n",
      "=================================================================\n",
      "lstm_38 (LSTM)               (None, 14, 3)             696       \n",
      "_________________________________________________________________\n",
      "lstm_39 (LSTM)               (None, 2)                 48        \n",
      "_________________________________________________________________\n",
      "dense_19 (Dense)             (None, 1)                 3         \n",
      "=================================================================\n",
      "Total params: 747\n",
      "Trainable params: 747\n",
      "Non-trainable params: 0\n",
      "_________________________________________________________________\n",
      "Epoch 1/25\n",
      "84/84 [==============================] - 6s 25ms/step - loss: 0.0233 - val_loss: 0.0195\n",
      "Epoch 2/25\n",
      "84/84 [==============================] - 1s 12ms/step - loss: 0.0146 - val_loss: 0.0149\n",
      "Epoch 3/25\n",
      "84/84 [==============================] - 1s 12ms/step - loss: 0.0150 - val_loss: 0.0143\n",
      "Epoch 4/25\n",
      "84/84 [==============================] - 1s 12ms/step - loss: 0.0150 - val_loss: 0.0144\n",
      "Epoch 5/25\n",
      "84/84 [==============================] - 1s 12ms/step - loss: 0.0151 - val_loss: 0.0141\n",
      "Epoch 6/25\n",
      "84/84 [==============================] - 1s 13ms/step - loss: 0.0153 - val_loss: 0.0142\n",
      "Epoch 7/25\n",
      "84/84 [==============================] - 1s 13ms/step - loss: 0.0156 - val_loss: 0.0140\n",
      "Epoch 8/25\n",
      "84/84 [==============================] - 1s 13ms/step - loss: 0.0130 - val_loss: 0.0138\n",
      "Epoch 9/25\n",
      "84/84 [==============================] - 1s 13ms/step - loss: 0.0151 - val_loss: 0.0143\n",
      "Epoch 10/25\n",
      "84/84 [==============================] - 1s 12ms/step - loss: 0.0153 - val_loss: 0.0143\n",
      "Epoch 11/25\n",
      "84/84 [==============================] - 1s 13ms/step - loss: 0.0157 - val_loss: 0.0145\n",
      "Epoch 12/25\n",
      "84/84 [==============================] - 1s 13ms/step - loss: 0.0133 - val_loss: 0.0140\n",
      "Epoch 13/25\n",
      "84/84 [==============================] - 1s 13ms/step - loss: 0.0140 - val_loss: 0.0145\n",
      "Epoch 14/25\n",
      "84/84 [==============================] - 1s 13ms/step - loss: 0.0144 - val_loss: 0.0142\n",
      "Epoch 15/25\n",
      "84/84 [==============================] - 1s 13ms/step - loss: 0.0150 - val_loss: 0.0140\n",
      "Epoch 16/25\n",
      "84/84 [==============================] - 1s 12ms/step - loss: 0.0166 - val_loss: 0.0144\n",
      "Epoch 17/25\n",
      "84/84 [==============================] - 1s 12ms/step - loss: 0.0145 - val_loss: 0.0144\n",
      "Epoch 18/25\n",
      "84/84 [==============================] - 1s 12ms/step - loss: 0.0159 - val_loss: 0.0142\n",
      "Epoch 19/25\n",
      "84/84 [==============================] - 1s 13ms/step - loss: 0.0154 - val_loss: 0.0141\n",
      "Epoch 20/25\n",
      "84/84 [==============================] - 1s 13ms/step - loss: 0.0136 - val_loss: 0.0140\n",
      "Epoch 21/25\n",
      "84/84 [==============================] - 1s 13ms/step - loss: 0.0158 - val_loss: 0.0146\n",
      "Epoch 22/25\n",
      "84/84 [==============================] - 1s 13ms/step - loss: 0.0156 - val_loss: 0.0143\n",
      "Epoch 23/25\n",
      "84/84 [==============================] - 1s 13ms/step - loss: 0.0150 - val_loss: 0.0144\n",
      "Epoch 24/25\n",
      "84/84 [==============================] - 1s 12ms/step - loss: 0.0154 - val_loss: 0.0144\n",
      "Epoch 25/25\n",
      "84/84 [==============================] - 1s 12ms/step - loss: 0.0144 - val_loss: 0.0141\n"
     ]
    }
   ],
   "source": [
    "from keras.models import Sequential\n",
    "from keras.layers.core import Dense\n",
    "from keras.layers import LSTM\n",
    "from keras.optimizers import Adam\n",
    "import keras\n",
    "\n",
    "models = {}\n",
    "\n",
    "for variant in X_train:\n",
    "    x, y = np.array(X_train[variant]['all']), np.array(Y_train[variant]['all'])\n",
    "    print('Number of data points: {}'.format(len(x)))\n",
    "    model = Sequential()\n",
    "    # Added dropout here \n",
    "    model.add(LSTM(3, activation='relu', dropout=0.1, return_sequences=True, input_shape=(lag_order, 54)))\n",
    "    model.add(LSTM(2, activation='relu', input_shape=(lag_order, 54)))\n",
    "    model.add(Dense(1))\n",
    "    model.summary()\n",
    "    opt = keras.optimizers.Adam()\n",
    "    model.compile(optimizer=opt, loss='mse')\n",
    "    model.fit(x, y, epochs=25, validation_split=0.1, verbose=1)\n",
    "    models[variant] = model"
   ]
  },
  {
   "cell_type": "markdown",
   "metadata": {
    "id": "hkKJ3gBs-cd0"
   },
   "source": [
    "## Evaluate"
   ]
  },
  {
   "cell_type": "code",
   "execution_count": 86,
   "metadata": {
    "colab": {
     "base_uri": "https://localhost:8080/"
    },
    "executionInfo": {
     "elapsed": 17907,
     "status": "ok",
     "timestamp": 1622022135886,
     "user": {
      "displayName": "Basel Mostafa",
      "photoUrl": "",
      "userId": "15027269614589800643"
     },
     "user_tz": 420
    },
    "id": "J8G6-TrT-eO7",
    "outputId": "3cfbb729-b768-4f8b-d7ba-add9f4d24612"
   },
   "outputs": [
    {
     "name": "stdout",
     "output_type": "stream",
     "text": [
      "{'B.1.1.7': {'mae': 0.08877404552936072, 'mse': 0.012248151415046564}, 'B.1.351': {'mae': 0.020898788273538166, 'mse': 0.0006090288022910419}, 'P.1': {'mae': 0.06168555462862089, 'mse': 0.010783604553411779}, 'B.1.427': {'mae': 0.014239605407296014, 'mse': 0.0003660637191474511}, 'B.1.429': {'mae': 0.07617744343187961, 'mse': 0.006658564070293566}}\n"
     ]
    }
   ],
   "source": [
    "# If less than 70 data points, don't consider it\n",
    "thresh = 70\n",
    "\n",
    "# Keep track of scores based first on variant type and then mse/mae\n",
    "scores = {}\n",
    "\n",
    "for variant in models:\n",
    "    scores[variant] = {}\n",
    "    scores[variant]['mae'] = 0\n",
    "    scores[variant]['mse'] = 0\n",
    "    n_states = 0\n",
    "    for code in X_test[variant]:\n",
    "        if code == 'all':\n",
    "            continue\n",
    "        N_pts = len(variants_dct[variant][code]['day']) + end_test\n",
    "        if N_pts < thresh:\n",
    "            continue\n",
    "        n_states += 1\n",
    "        # Predict model\n",
    "        pred = models[variant].predict(X_test[variant][code])\n",
    "        # Get MAE and MSE\n",
    "        scores[variant]['mae'] += sum([abs(pred[i][0] - Y_test[variant][code][i]) for i in range(test_points_per_state)])\n",
    "        scores[variant]['mse'] += sum([(pred[i][0] - Y_test[variant][code][i]) ** 2 for i in range(test_points_per_state)])\n",
    "    scores[variant]['mae'] /= test_points_per_state * n_states\n",
    "    scores[variant]['mse'] /= test_points_per_state * n_states\n",
    "\n",
    "print(scores)"
   ]
  },
  {
   "cell_type": "code",
   "execution_count": 87,
   "metadata": {
    "colab": {
     "base_uri": "https://localhost:8080/",
     "height": 295
    },
    "executionInfo": {
     "elapsed": 600,
     "status": "ok",
     "timestamp": 1622022136481,
     "user": {
      "displayName": "Basel Mostafa",
      "photoUrl": "",
      "userId": "15027269614589800643"
     },
     "user_tz": 420
    },
    "id": "CsnTEh2rNQqy",
    "outputId": "b24c5a3a-8d74-4085-d204-5c709f45088c"
   },
   "outputs": [
    {
     "data": {
      "image/png": "[encoded data removed]",
      "text/plain": [
       "<Figure size 432x288 with 1 Axes>"
      ]
     },
     "metadata": {
      "needs_background": "light",
      "tags": []
     },
     "output_type": "display_data"
    }
   ],
   "source": [
    "# Compares LSTM predicted variant proportion to actual results.\n",
    "# Red line marks the first prediction that is not an interpolation\n",
    "# (was outside of training set).\n",
    "\n",
    "variant, code = 'B.1.1.7', 'CA'\n",
    "days = variants_dct[variant][code]['day']\n",
    "prop = variants_dct[variant][code]['interp']\n",
    "i1 = vacc_dct[code]['day'].index(days[0])\n",
    "vacc = vacc_dct[code]['interp'][i1:]\n",
    "\n",
    "first_start_idx = 0\n",
    "last_start_idx = len(days) + end_train_input + 3\n",
    "input, actual = input_output(days, prop, vacc, code, first_start_idx, last_start_idx)\n",
    "pred = models[variant].predict(input)\n",
    "\n",
    "n = lag_order + days_ahead - 1\n",
    "plt.plot([d for d in days[n:end_test]], actual, label='actual')\n",
    "plt.plot([d for d in days[n:end_test]], pred, label='prediction')\n",
    "plt.axvline(x=days[-1] + end_train_input + days_ahead, color='r')\n",
    "plt.xlabel('Day')\n",
    "plt.ylabel('Proportion')\n",
    "plt.title('{}, {}'.format(variant, code))\n",
    "plt.legend()\n",
    "plt.show()"
   ]
  },
  {
   "cell_type": "markdown",
   "metadata": {
    "id": "BzaHlETYUXAC"
   },
   "source": [
    "# VAR"
   ]
  },
  {
   "cell_type": "markdown",
   "metadata": {
    "id": "_EjwsrxF4nk4"
   },
   "source": [
    "## Time Series"
   ]
  },
  {
   "cell_type": "code",
   "execution_count": 88,
   "metadata": {
    "executionInfo": {
     "elapsed": 14,
     "status": "ok",
     "timestamp": 1622022136483,
     "user": {
      "displayName": "Basel Mostafa",
      "photoUrl": "",
      "userId": "15027269614589800643"
     },
     "user_tz": 420
    },
    "id": "zyHPi-tyUv1T"
   },
   "outputs": [],
   "source": [
    "test_points_per_state = 3\n",
    "\n",
    "# Splits the available points into a train and test set.\n",
    "# The test set is large enough to include n test points\n",
    "# which are predicted from inputs that are disjoint from\n",
    "# the training set.\n",
    "def train_test(code, variant, n=test_points_per_state):\n",
    "    days = variants_dct[variant][code]['day']\n",
    "    prop = variants_dct[variant][code]['interp']\n",
    "    \n",
    "    i1 = vacc_dct[code]['day'].index(days[0])\n",
    "    vacc = vacc_dct[code]['interp'][i1:]\n",
    "    vacc = vacc[:len(days)]\n",
    "\n",
    "    i2 = end_test - days_ahead - n\n",
    "    train = np.array([days[:i2], vacc[:i2], prop[:i2]]).T\n",
    "    test = np.array([days[i2:end_test], vacc[i2:end_test], prop[i2:end_test]]).T\n",
    "\n",
    "    return train, test"
   ]
  },
  {
   "cell_type": "markdown",
   "metadata": {
    "id": "eJ7yg1cr7MlU"
   },
   "source": [
    "## Train"
   ]
  },
  {
   "cell_type": "code",
   "execution_count": 89,
   "metadata": {
    "executionInfo": {
     "elapsed": 13,
     "status": "ok",
     "timestamp": 1622022136485,
     "user": {
      "displayName": "Basel Mostafa",
      "photoUrl": "",
      "userId": "15027269614589800643"
     },
     "user_tz": 420
    },
    "id": "J2wO_pnW7OfM"
   },
   "outputs": [],
   "source": [
    "from statsmodels.tsa.api import VAR\n",
    "\n",
    "# Return trained VAR model for a given state and variant.\n",
    "# The lag order, denoted lag, is chosen to be the one\n",
    "# estimated by the above package to be the best between \n",
    "# smallest and largest.\n",
    "def trained_model(code, variant, n=test_points_per_state):\n",
    "    train, _ = train_test(code, variant, n=n)\n",
    "    model = VAR(train)\n",
    "    smallest, largest = 5, 8\n",
    "    lag_orders = list(range(smallest, largest + 1))\n",
    "    aic_scores = [model.fit(i).aic for i in lag_orders]\n",
    "    lag = np.argmin(aic_scores) + smallest\n",
    "    model = model.fit(lag)\n",
    "    return model"
   ]
  },
  {
   "cell_type": "markdown",
   "metadata": {
    "id": "j7YMHtMR8AhG"
   },
   "source": [
    "## Evaluate"
   ]
  },
  {
   "cell_type": "code",
   "execution_count": 90,
   "metadata": {
    "colab": {
     "base_uri": "https://localhost:8080/"
    },
    "executionInfo": {
     "elapsed": 893,
     "status": "ok",
     "timestamp": 1622022137367,
     "user": {
      "displayName": "Basel Mostafa",
      "photoUrl": "",
      "userId": "15027269614589800643"
     },
     "user_tz": 420
    },
    "id": "g6gzOCaG8B87",
    "outputId": "050c57aa-6d1d-4eb8-a817-8bd6c70fd469"
   },
   "outputs": [
    {
     "name": "stdout",
     "output_type": "stream",
     "text": [
      "{'B.1.1.7': {'mae': 0.14585040862624377, 'mse': 0.03128055082054928}, 'B.1.351': {'mae': 0.0072901588699159385, 'mse': 0.00010594387555624834}, 'P.1': {'mae': 0.02288192666304445, 'mse': 0.0008423947971425896}, 'B.1.427': {'mae': 0.03156486075830882, 'mse': 0.003338467498941643}, 'B.1.429': {'mae': 0.054720238084491356, 'mse': 0.007124290226700454}}\n"
     ]
    }
   ],
   "source": [
    "# If less than 70 data points don't consider the state/variant\n",
    "thresh = 70\n",
    "\n",
    "scores = {}\n",
    "\n",
    "for variant in variants_dct:\n",
    "    scores[variant] = {}\n",
    "    scores[variant]['mae'] = 0\n",
    "    scores[variant]['mse'] = 0\n",
    "    n_states = 0\n",
    "    for code in variants_dct[variant]:\n",
    "        N_pts = len(variants_dct[variant][code]['day']) + end_test\n",
    "        if N_pts < thresh:\n",
    "            continue\n",
    "        n_states += 1\n",
    "        model = trained_model(code, variant)\n",
    "        train, test = train_test(code, variant)\n",
    "        pred = model.forecast(y=train, steps=days_ahead+test_points_per_state)\n",
    "        scores[variant]['mae'] += sum([abs(pred[i][2] - test[i][2]) for i in range(days_ahead, days_ahead+test_points_per_state)])\n",
    "        scores[variant]['mse'] += sum([(pred[i][2] - test[i][2]) ** 2 for i in range(days_ahead, days_ahead+test_points_per_state)])\n",
    "    scores[variant]['mae'] /= test_points_per_state * n_states\n",
    "    scores[variant]['mse'] /= test_points_per_state * n_states\n",
    "\n",
    "print(scores)"
   ]
  },
  {
   "cell_type": "code",
   "execution_count": 91,
   "metadata": {
    "colab": {
     "base_uri": "https://localhost:8080/",
     "height": 295
    },
    "executionInfo": {
     "elapsed": 211,
     "status": "ok",
     "timestamp": 1622022137569,
     "user": {
      "displayName": "Basel Mostafa",
      "photoUrl": "",
      "userId": "15027269614589800643"
     },
     "user_tz": 420
    },
    "id": "jWFDaa3OI4Bi",
    "outputId": "ec258e9e-bb1d-4974-b4de-d253ae0506c2"
   },
   "outputs": [
    {
     "data": {
      "image/png": "[encoded data removed]",
      "text/plain": [
       "<Figure size 432x288 with 1 Axes>"
      ]
     },
     "metadata": {
      "needs_background": "light",
      "tags": []
     },
     "output_type": "display_data"
    }
   ],
   "source": [
    "# Compares VAR predicted variant proportion to actual results.\n",
    "# Predictions are only shown for points that are shifted by\n",
    "# a full prediction window from the end of the training set.\n",
    "\n",
    "variant, code = 'B.1.1.7', 'USA'\n",
    "days = variants_dct[variant][code]['day']\n",
    "prop = variants_dct[variant][code]['interp']\n",
    "i1 = vacc_dct[code]['day'].index(days[0])\n",
    "vacc = vacc_dct[code]['interp'][i1:]\n",
    "\n",
    "plt.plot(days[:end_test], prop[:end_test], label='actual')\n",
    "\n",
    "model = trained_model(code, variant)\n",
    "train, test = train_test(code, variant)\n",
    "pred = model.forecast(y=train, steps=days_ahead+test_points_per_state)\n",
    "\n",
    "plt.plot(test[:, 0], pred[:, 2], label='predict')\n",
    "\n",
    "plt.legend()\n",
    "plt.xlabel('Day')\n",
    "plt.ylabel('Proportion')\n",
    "plt.title('{}, {}'.format(variant, code))\n",
    "plt.show()"
   ]
  },
  {
   "cell_type": "markdown",
   "metadata": {
    "id": "eKfU1-7RNfUR"
   },
   "source": [
    "# Ensemble"
   ]
  },
  {
   "cell_type": "markdown",
   "metadata": {
    "id": "erqRMccKwBFV"
   },
   "source": [
    "Average predictions between the VAR and the LSTM"
   ]
  },
  {
   "cell_type": "code",
   "execution_count": 92,
   "metadata": {
    "executionInfo": {
     "elapsed": 11,
     "status": "ok",
     "timestamp": 1622022137571,
     "user": {
      "displayName": "Basel Mostafa",
      "photoUrl": "",
      "userId": "15027269614589800643"
     },
     "user_tz": 420
    },
    "id": "FhBZ0iI9NguI"
   },
   "outputs": [],
   "source": [
    "class Ensemble():\n",
    "    \n",
    "    def __init__(self, code, lstm, var):\n",
    "        self.lstm = lstm\n",
    "        self.var = var\n",
    "        self.code = code\n",
    "\n",
    "    def predict(self, days, vacc, prop):\n",
    "        one_hot = [0 for _ in codes]\n",
    "        one_hot[codes.index(self.code)] = 1\n",
    "        lstm_input = []\n",
    "        for i in range(lag_order):\n",
    "            pt = one_hot + [days[-lag_order+i], vacc[-lag_order+i], prop[-lag_order+i]]\n",
    "            lstm_input.append(pt)\n",
    "        lstm_input = np.array([lstm_input])\n",
    "        pred1 = self.lstm.predict(lstm_input)[0][0]\n",
    "\n",
    "        var_input = np.array([days, vacc, prop]).T\n",
    "        pred2 = self.var.forecast(y=var_input, steps=days_ahead)[-1][2]\n",
    "\n",
    "        return (pred1 + pred2) / 2"
   ]
  },
  {
   "cell_type": "markdown",
   "metadata": {
    "id": "h94Rca_dTvYE"
   },
   "source": [
    "## Evaluate"
   ]
  },
  {
   "cell_type": "code",
   "execution_count": 93,
   "metadata": {
    "colab": {
     "base_uri": "https://localhost:8080/"
    },
    "executionInfo": {
     "elapsed": 22587,
     "status": "ok",
     "timestamp": 1622022160149,
     "user": {
      "displayName": "Basel Mostafa",
      "photoUrl": "",
      "userId": "15027269614589800643"
     },
     "user_tz": 420
    },
    "id": "gXN2bcV_TtR-",
    "outputId": "70136c69-a5d8-4125-fd84-48401311912d"
   },
   "outputs": [
    {
     "name": "stdout",
     "output_type": "stream",
     "text": [
      "{'B.1.1.7': {'mae': 0.08489659033295048, 'mse': 0.011257995672478732}, 'B.1.351': {'mae': 0.01105736351369733, 'mse': 0.0001686122385440345}, 'P.1': {'mae': 0.035168541344107004, 'mse': 0.0036429431239764524}, 'B.1.427': {'mae': 0.017625321494274298, 'mse': 0.0009058979668008744}, 'B.1.429': {'mae': 0.04327422946987523, 'mse': 0.0026632410312667624}}\n"
     ]
    }
   ],
   "source": [
    "thresh = 70\n",
    "test_points_per_state = 3\n",
    "\n",
    "scores = {}\n",
    "\n",
    "for variant in variants_dct:\n",
    "    scores[variant] = {}\n",
    "    scores[variant]['mae'] = 0\n",
    "    scores[variant]['mse'] = 0\n",
    "    \n",
    "    n_states = 0 \n",
    "    for code in variants_dct[variant]:\n",
    "        N_pts = len(variants_dct[variant][code]['day']) + end_test\n",
    "        if N_pts < thresh:\n",
    "            continue\n",
    "        n_states += 1\n",
    "        ensemble = Ensemble(code, models[variant], trained_model(code, variant))\n",
    "\n",
    "        train, test = train_test(code, variant, n=test_points_per_state)\n",
    "        \n",
    "        days = variants_dct[variant][code]['day']\n",
    "        prop = variants_dct[variant][code]['interp']\n",
    "        i1 = vacc_dct[code]['day'].index(days[0])\n",
    "        vacc = vacc_dct[code]['interp'][i1:]\n",
    "        vacc = vacc[:len(days)]\n",
    "\n",
    "        first_end_idx = end_test - days_ahead - test_points_per_state\n",
    "\n",
    "        for i in range(test_points_per_state):\n",
    "            i_days, i_prop, i_vacc = days[:first_end_idx+i], prop[:first_end_idx+i], vacc[:first_end_idx+i]\n",
    "            pred = ensemble.predict(i_days, i_vacc, i_prop)\n",
    "            test = prop[first_end_idx+i+days_ahead]\n",
    "            scores[variant]['mae'] += abs(pred - test)\n",
    "            scores[variant]['mse'] += (pred - test) ** 2\n",
    "    \n",
    "    scores[variant]['mae'] /= test_points_per_state * n_states\n",
    "    scores[variant]['mse'] /= test_points_per_state * n_states\n",
    "\n",
    "print(scores)"
   ]
  },
  {
   "cell_type": "code",
   "execution_count": 94,
   "metadata": {
    "colab": {
     "base_uri": "https://localhost:8080/",
     "height": 295
    },
    "executionInfo": {
     "elapsed": 2897,
     "status": "ok",
     "timestamp": 1622022163011,
     "user": {
      "displayName": "Basel Mostafa",
      "photoUrl": "",
      "userId": "15027269614589800643"
     },
     "user_tz": 420
    },
    "id": "ombpAlTV6ddz",
    "outputId": "d376dc74-62c1-4f08-93cb-4789192f0b5a"
   },
   "outputs": [
    {
     "data": {
      "image/png": "[encoded data removed]",
      "text/plain": [
       "<Figure size 432x288 with 1 Axes>"
      ]
     },
     "metadata": {
      "needs_background": "light",
      "tags": []
     },
     "output_type": "display_data"
    }
   ],
   "source": [
    "variant, code = 'P.1', 'FL'\n",
    "days = variants_dct[variant][code]['day']\n",
    "prop = variants_dct[variant][code]['interp']\n",
    "i1 = vacc_dct[code]['day'].index(days[0])\n",
    "vacc = vacc_dct[code]['interp'][i1:]\n",
    "\n",
    "ensemble = Ensemble(code, models[variant], trained_model(code, variant))\n",
    "n = lag_order + days_ahead - 1\n",
    "\n",
    "input = []\n",
    "for i in range(len(days) + end_test - n):\n",
    "    i_days = days[i:i+lag_order]\n",
    "    i_vacc = vacc[i:i+lag_order]\n",
    "    i_prop = prop[i:i+lag_order]\n",
    "    input.append((i_days, i_vacc, i_prop))\n",
    "\n",
    "pred = [ensemble.predict(d, v, p) for d, v, p in input]    \n",
    "\n",
    "plt.plot([d for d in days[n:end_test]], prop[n:end_test], label='actual')\n",
    "plt.plot([d for d in days[n:end_test]], pred, label='prediction')\n",
    "plt.axvline(x=days[-1] + end_train_input + days_ahead, color='r')\n",
    "plt.xlabel('Day')\n",
    "plt.ylabel('Proportion')\n",
    "plt.title('{}, {}'.format(variant, code))\n",
    "plt.legend()\n",
    "plt.show()"
   ]
  },
  {
   "cell_type": "markdown",
   "metadata": {
    "id": "oUSQesRKvrV8"
   },
   "source": [
    "# Interpretation"
   ]
  },
  {
   "cell_type": "markdown",
   "metadata": {
    "id": "kZ4COWRp--Ez"
   },
   "source": [
    "## Cross-Correlation"
   ]
  },
  {
   "cell_type": "code",
   "execution_count": 95,
   "metadata": {
    "colab": {
     "base_uri": "https://localhost:8080/",
     "height": 295
    },
    "executionInfo": {
     "elapsed": 3428,
     "status": "ok",
     "timestamp": 1622022166432,
     "user": {
      "displayName": "Basel Mostafa",
      "photoUrl": "",
      "userId": "15027269614589800643"
     },
     "user_tz": 420
    },
    "id": "rC74LleC_BiW",
    "outputId": "5f59c96f-f69d-4e00-e3f8-8434e9e68574"
   },
   "outputs": [
    {
     "data": {
      "image/png": "[encoded data removed]",
      "text/plain": [
       "<Figure size 432x288 with 1 Axes>"
      ]
     },
     "metadata": {
      "needs_background": "light",
      "tags": []
     },
     "output_type": "display_data"
    }
   ],
   "source": [
    "# input days vs prop\n",
    "\n",
    "variant, code = 'B.1.1.7', 'CA'\n",
    "days = variants_dct[variant][code]['day']\n",
    "prop = variants_dct[variant][code]['interp']\n",
    "i1 = vacc_dct[code]['day'].index(days[0])\n",
    "vacc = vacc_dct[code]['interp'][i1:]\n",
    "vacc = vacc[:len(days)]\n",
    "\n",
    "ensemble = Ensemble(code, models[variant], trained_model(code, variant))\n",
    "n = lag_order + days_ahead - 1\n",
    "\n",
    "input = []\n",
    "for i in range(len(days) + end_test - n):\n",
    "    i_days = days[i:i+lag_order]\n",
    "    i_vacc = vacc[i:i+lag_order]\n",
    "    i_prop = prop[i:i+lag_order]\n",
    "    input.append((i_days, i_vacc, i_prop))\n",
    "\n",
    "pred = [ensemble.predict(d, v, p) for d, v, p in input]    \n",
    "\n",
    "plt.plot([d for d in days[:end_test-n]], prop[n:end_test], label='actual')\n",
    "plt.plot([d for d in days[:end_test-n]], pred, label='prediction')\n",
    "plt.xlabel('Last Input Day')\n",
    "plt.ylabel('Proportion')\n",
    "plt.title('{}, {}'.format(variant, code))\n",
    "plt.legend()\n",
    "plt.show()"
   ]
  },
  {
   "cell_type": "code",
   "execution_count": 178,
   "metadata": {
    "colab": {
     "base_uri": "https://localhost:8080/",
     "height": 295
    },
    "executionInfo": {
     "elapsed": 2088,
     "status": "ok",
     "timestamp": 1622081139244,
     "user": {
      "displayName": "Andrew Ma",
      "photoUrl": "",
      "userId": "10282975094862396407"
     },
     "user_tz": 240
    },
    "id": "woIfIN_d_ihz",
    "outputId": "14d8b6fb-ecea-4e5b-cfa4-7fc476fa3b7e"
   },
   "outputs": [
    {
     "data": {
      "image/png": "[encoded data removed]",
      "text/plain": [
       "<Figure size 432x288 with 1 Axes>"
      ]
     },
     "metadata": {
      "needs_background": "light",
      "tags": []
     },
     "output_type": "display_data"
    }
   ],
   "source": [
    "# input vacc vs prop\n",
    "\n",
    "variant, code = 'B.1.1.7', 'CA'\n",
    "days = variants_dct[variant][code]['day']\n",
    "prop = variants_dct[variant][code]['interp']\n",
    "i1 = vacc_dct[code]['day'].index(days[0])\n",
    "vacc = vacc_dct[code]['interp'][i1:]\n",
    "vacc = vacc[:len(days)]\n",
    "\n",
    "ensemble = Ensemble(code, models[variant], trained_model(code, variant))\n",
    "n = lag_order + days_ahead - 1\n",
    "\n",
    "input = []\n",
    "for i in range(len(days) + end_test - n):\n",
    "    i_days = days[i:i+lag_order]\n",
    "    i_vacc = vacc[i:i+lag_order]\n",
    "    i_prop = prop[i:i+lag_order]\n",
    "    input.append((i_days, i_vacc, i_prop))\n",
    "\n",
    "pred = [ensemble.predict(d, v, p) for d, v, p in input]    \n",
    "\n",
    "plt.plot([d for d in vacc[:end_test-n]], prop[n:end_test], label='actual')\n",
    "plt.plot([d for d in vacc[:end_test-n]], pred, label='prediction')\n",
    "plt.xlabel('Last Input Vaccinated People Per Hundred')\n",
    "plt.ylabel('Proportion')\n",
    "plt.title('{}, {}'.format(variant, code))\n",
    "plt.legend()\n",
    "plt.show()"
   ]
  },
  {
   "cell_type": "code",
   "execution_count": 179,
   "metadata": {
    "colab": {
     "base_uri": "https://localhost:8080/",
     "height": 295
    },
    "executionInfo": {
     "elapsed": 2091,
     "status": "ok",
     "timestamp": 1622081148761,
     "user": {
      "displayName": "Andrew Ma",
      "photoUrl": "",
      "userId": "10282975094862396407"
     },
     "user_tz": 240
    },
    "id": "4yHDv94hAVza",
    "outputId": "fb421ea7-3a8c-4729-eee4-603b1003348d"
   },
   "outputs": [
    {
     "data": {
      "image/png": "[encoded data removed]",
      "text/plain": [
       "<Figure size 432x288 with 1 Axes>"
      ]
     },
     "metadata": {
      "needs_background": "light",
      "tags": []
     },
     "output_type": "display_data"
    }
   ],
   "source": [
    "# input prop vs prop\n",
    "\n",
    "variant, code = 'B.1.1.7', 'CA'\n",
    "days = variants_dct[variant][code]['day']\n",
    "prop = variants_dct[variant][code]['interp']\n",
    "i1 = vacc_dct[code]['day'].index(days[0])\n",
    "vacc = vacc_dct[code]['interp'][i1:]\n",
    "vacc = vacc[:len(days)]\n",
    "\n",
    "ensemble = Ensemble(code, models[variant], trained_model(code, variant))\n",
    "n = lag_order + days_ahead - 1\n",
    "\n",
    "input = []\n",
    "for i in range(len(days) + end_test - n):\n",
    "    i_days = days[i:i+lag_order]\n",
    "    i_vacc = vacc[i:i+lag_order]\n",
    "    i_prop = prop[i:i+lag_order]\n",
    "    input.append((i_days, i_vacc, i_prop))\n",
    "\n",
    "pred = [ensemble.predict(d, v, p) for d, v, p in input]    \n",
    "\n",
    "plt.plot([d for d in prop[:end_test-n]], prop[n:end_test], label='actual')\n",
    "plt.plot([d for d in prop[:end_test-n]], pred, label='prediction')\n",
    "plt.xlabel('Last Input Proportion')\n",
    "plt.ylabel('Future Proportion')\n",
    "plt.title('{}, {}'.format(variant, code))\n",
    "plt.legend()\n",
    "plt.show()"
   ]
  },
  {
   "cell_type": "code",
   "execution_count": 96,
   "metadata": {
    "colab": {
     "base_uri": "https://localhost:8080/",
     "height": 295
    },
    "executionInfo": {
     "elapsed": 3452,
     "status": "ok",
     "timestamp": 1622022169876,
     "user": {
      "displayName": "Basel Mostafa",
      "photoUrl": "",
      "userId": "15027269614589800643"
     },
     "user_tz": 420
    },
    "id": "woIfIN_d_ihz",
    "outputId": "3c98673e-23ef-4ed8-ed16-f9f4d594aedb"
   },
   "outputs": [
    {
     "data": {
      "image/png": "[encoded data removed]",
      "text/plain": [
       "<Figure size 432x288 with 1 Axes>"
      ]
     },
     "metadata": {
      "needs_background": "light",
      "tags": []
     },
     "output_type": "display_data"
    }
   ],
   "source": [
    "# input vacc vs prop\n",
    "\n",
    "variant, code = 'B.1.1.7', 'FL'\n",
    "days = variants_dct[variant][code]['day']\n",
    "prop = variants_dct[variant][code]['interp']\n",
    "i1 = vacc_dct[code]['day'].index(days[0])\n",
    "vacc = vacc_dct[code]['interp'][i1:]\n",
    "vacc = vacc[:len(days)]\n",
    "\n",
    "ensemble = Ensemble(code, models[variant], trained_model(code, variant))\n",
    "n = lag_order + days_ahead - 1\n",
    "\n",
    "input = []\n",
    "for i in range(len(days) + end_test - n):\n",
    "    i_days = days[i:i+lag_order]\n",
    "    i_vacc = vacc[i:i+lag_order]\n",
    "    i_prop = prop[i:i+lag_order]\n",
    "    input.append((i_days, i_vacc, i_prop))\n",
    "\n",
    "pred = [ensemble.predict(d, v, p) for d, v, p in input]    \n",
    "\n",
    "plt.plot([d for d in vacc[:end_test-n]], prop[n:end_test], label='actual')\n",
    "plt.plot([d for d in vacc[:end_test-n]], pred, label='prediction')\n",
    "plt.xlabel('Last Input Vaccinated People Per Hundred')\n",
    "plt.ylabel('Proportion')\n",
    "plt.title('{}, {}'.format(variant, code))\n",
    "plt.legend()\n",
    "plt.show()"
   ]
  },
  {
   "cell_type": "code",
   "execution_count": 97,
   "metadata": {
    "colab": {
     "base_uri": "https://localhost:8080/",
     "height": 295
    },
    "executionInfo": {
     "elapsed": 3616,
     "status": "ok",
     "timestamp": 1622022173482,
     "user": {
      "displayName": "Basel Mostafa",
      "photoUrl": "",
      "userId": "15027269614589800643"
     },
     "user_tz": 420
    },
    "id": "4yHDv94hAVza",
    "outputId": "94409bbc-c59b-4a5c-e1aa-418996989aad"
   },
   "outputs": [
    {
     "data": {
      "image/png": "[encoded data removed]",
      "text/plain": [
       "<Figure size 432x288 with 1 Axes>"
      ]
     },
     "metadata": {
      "needs_background": "light",
      "tags": []
     },
     "output_type": "display_data"
    }
   ],
   "source": [
    "# input prop vs predicted prop\n",
    "\n",
    "variant, code = 'B.1.1.7', 'FL'\n",
    "days = variants_dct[variant][code]['day']\n",
    "prop = variants_dct[variant][code]['interp']\n",
    "i1 = vacc_dct[code]['day'].index(days[0])\n",
    "vacc = vacc_dct[code]['interp'][i1:]\n",
    "vacc = vacc[:len(days)]\n",
    "\n",
    "ensemble = Ensemble(code, models[variant], trained_model(code, variant))\n",
    "n = lag_order + days_ahead - 1\n",
    "\n",
    "input = []\n",
    "for i in range(len(days) + end_test - n):\n",
    "    i_days = days[i:i+lag_order]\n",
    "    i_vacc = vacc[i:i+lag_order]\n",
    "    i_prop = prop[i:i+lag_order]\n",
    "    input.append((i_days, i_vacc, i_prop))\n",
    "\n",
    "pred = [ensemble.predict(d, v, p) for d, v, p in input]    \n",
    "\n",
    "plt.plot([d for d in prop[:end_test-n]], prop[n:end_test], label='actual')\n",
    "plt.plot([d for d in prop[:end_test-n]], pred, label='prediction')\n",
    "plt.xlabel('Last Input Proportion')\n",
    "plt.ylabel('Future Proportion')\n",
    "plt.title('{}, {}'.format(variant, code))\n",
    "plt.legend()\n",
    "plt.show()"
   ]
  },
  {
   "cell_type": "markdown",
   "metadata": {
    "id": "s0HgxeZfzahJ"
   },
   "source": [
    "## Variable Importance"
   ]
  },
  {
   "cell_type": "code",
   "execution_count": 98,
   "metadata": {
    "colab": {
     "base_uri": "https://localhost:8080/"
    },
    "executionInfo": {
     "elapsed": 270970,
     "status": "ok",
     "timestamp": 1622022444445,
     "user": {
      "displayName": "Basel Mostafa",
      "photoUrl": "",
      "userId": "15027269614589800643"
     },
     "user_tz": 420
    },
    "id": "KqnSf8-7zlZa",
    "outputId": "560a8b90-1be2-4cdb-d065-01d2982ca891"
   },
   "outputs": [
    {
     "name": "stdout",
     "output_type": "stream",
     "text": [
      "{'B.1.1.7': {'day': {'mad': 0.00042272478596064474, 'msd': 1.0865302583411728e-05}, 'vacc': {'mad': 0.0006704803687566879, 'msd': 3.0173015502799325e-05}, 'prop': {'mad': 0.00035180933954079437, 'msd': 7.488118876178271e-06}}, 'B.1.351': {'day': {'mad': 6.988516416052144e-05, 'msd': 1.2927231624778316e-07}, 'vacc': {'mad': 0.00023288477809291114, 'msd': 1.857752608676007e-06}, 'prop': {'mad': 0.00022395940672110246, 'msd': 1.281255459502149e-06}}, 'P.1': {'day': {'mad': 2.234061498610155e-05, 'msd': 6.7101636036470065e-09}, 'vacc': {'mad': 0.00035839742188898625, 'msd': 1.7269215726685881e-06}, 'prop': {'mad': 0.0008594827536848842, 'msd': 9.931553674410207e-06}}, 'B.1.427': {'day': {'mad': 5.015339018336849e-05, 'msd': 1.6570649489424954e-07}, 'vacc': {'mad': 0.0003049587293998917, 'msd': 6.126621912577109e-06}, 'prop': {'mad': 0.00014471774832122382, 'msd': 1.3796932331196587e-06}}, 'B.1.429': {'day': {'mad': 8.373645510840642e-05, 'msd': 4.6192140129812325e-07}, 'vacc': {'mad': 0.0004894303624062057, 'msd': 1.5780499891284625e-05}, 'prop': {'mad': 2.366972997892682e-05, 'msd': 3.6908427992502315e-08}}}\n",
      "{'day': {'mad': 0.00012976808207980855, 'msd': 2.3257825918911065e-06}, 'vacc': {'mad': 0.00041123033210893655, 'msd': 1.1132962297601132e-05}, 'prop': {'mad': 0.0003207277956493863, 'msd': 4.023505934240558e-06}}\n"
     ]
    }
   ],
   "source": [
    "importances = {}\n",
    "\n",
    "thresh = 70\n",
    "\n",
    "for variant in variants_dct:\n",
    "    importances[variant] = {}\n",
    "    start, end = 70, 70 + lag_order\n",
    "    \n",
    "    # average inputs for days, variant proportions, and vaccination rates\n",
    "    base_days = np.arange(start, end)\n",
    "    base_prop = np.zeros(lag_order)\n",
    "    base_vacc = np.zeros(lag_order)\n",
    "\n",
    "    count = 0\n",
    "    for code in variants_dct[variant]:\n",
    "        days = variants_dct[variant][code]['day']\n",
    "        if start in days and end in days:\n",
    "            count += 1\n",
    "            \n",
    "            idx = days.index(start)\n",
    "            prop = variants_dct[variant][code]['interp'][idx:idx + lag_order]\n",
    "            base_prop += prop\n",
    "\n",
    "            vacc = vacc_dct[code]['interp'][idx:idx + lag_order]\n",
    "            base_vacc += vacc\n",
    "\n",
    "    base_prop /= count\n",
    "    base_vacc /= count\n",
    "\n",
    "    for code in variants_dct[variant]:\n",
    "        N_pts = len(variants_dct[variant][code]['day']) + end_test\n",
    "        if N_pts < thresh:\n",
    "            continue\n",
    "\n",
    "        importances[variant][code] = {}\n",
    "\n",
    "        ensemble = Ensemble(code, models[variant], trained_model(code, variant))\n",
    "        base_pred = ensemble.predict(base_days, base_vacc, base_prop)\n",
    "\n",
    "        # perturbing input days and evaluating the effect on predictions\n",
    "        # two metrics - mean absolute difference and mean squared distance\n",
    "        mad_dif, msd_dif = 0, 0\n",
    "\n",
    "        start, end = -5, 6\n",
    "        for i in range(start, end):\n",
    "            new_days = base_days + i\n",
    "            new_pred = ensemble.predict(new_days, base_vacc, base_prop)\n",
    "            mad_dif += abs(new_pred - base_pred)\n",
    "            msd_dif += (new_pred - base_pred) ** 2\n",
    "        \n",
    "        mad_dif /= end - start\n",
    "        msd_dif /= end - start\n",
    "\n",
    "        importances[variant][code]['day'] = {}\n",
    "        importances[variant][code]['day']['mad'] = mad_dif\n",
    "        importances[variant][code]['day']['msd'] = msd_dif\n",
    "\n",
    "        # perturbing input vaccination rates and evaluating the effect on predictions\n",
    "        # two metrics - mean absolute difference and mean squared distance\n",
    "        mad_dif, msd_dif = 0, 0\n",
    "\n",
    "        start, end = -5, 6\n",
    "        for i in range(start, end):\n",
    "            new_vacc = base_vacc + i\n",
    "            new_pred = ensemble.predict(base_days, new_vacc, base_prop)\n",
    "            mad_dif += abs(new_pred - base_pred)\n",
    "            msd_dif += (new_pred - base_pred) ** 2\n",
    "        \n",
    "        mad_dif /= end - start\n",
    "        msd_dif /= end - start\n",
    "\n",
    "        importances[variant][code]['vacc'] = {}\n",
    "        importances[variant][code]['vacc']['mad'] = mad_dif\n",
    "        importances[variant][code]['vacc']['msd'] = msd_dif\n",
    "\n",
    "        # perturbing input variant proportion and evaluating the effect on predictions\n",
    "        # two metrics - mean absolute difference and mean squared distance\n",
    "        mad_dif, msd_dif = 0, 0\n",
    "\n",
    "        start, end = -5, 6\n",
    "        for i in range(start, end):\n",
    "            new_prop = base_prop + i / 100\n",
    "            new_pred = ensemble.predict(base_days, base_vacc, new_prop)\n",
    "            mad_dif += abs(new_pred - base_pred)\n",
    "            msd_dif += (new_pred - base_pred) ** 2\n",
    "        \n",
    "        mad_dif /= end - start\n",
    "        msd_dif /= end - start\n",
    "\n",
    "        importances[variant][code]['prop'] = {}\n",
    "        importances[variant][code]['prop']['mad'] = mad_dif\n",
    "        importances[variant][code]['prop']['msd'] = msd_dif\n",
    "\n",
    "# averages model sensitivity to variations of each feature over all states\n",
    "avg_importances = {}\n",
    "for variant in importances:\n",
    "    avg_importances[variant] = {}\n",
    "    for code in importances[variant]:\n",
    "        for feature in importances[variant][code]:\n",
    "            avg_importances[variant][feature] = {} \n",
    "            avg_importances[variant][feature]['mad'] = 0\n",
    "            avg_importances[variant][feature]['msd'] = 0\n",
    "        for feature in importances[variant][code]:\n",
    "            avg_importances[variant][feature]['mad'] += importances[variant][code][feature]['mad']\n",
    "            avg_importances[variant][feature]['msd'] += importances[variant][code][feature]['msd']\n",
    "    for feature in importances[variant][code]:\n",
    "        avg_importances[variant][feature]['mad'] /= len(importances[variant])\n",
    "        avg_importances[variant][feature]['msd'] /= len(importances[variant])\n",
    "\n",
    "summary = {}\n",
    "for feature in avg_importances[variant]:\n",
    "    summary[feature] = {}\n",
    "    summary[feature]['mad'] = 0\n",
    "    summary[feature]['msd'] = 0\n",
    "    for variant in avg_importances:\n",
    "        summary[feature]['mad'] += avg_importances[variant][feature]['mad']\n",
    "        summary[feature]['msd'] += avg_importances[variant][feature]['msd']\n",
    "    summary[feature]['mad'] /= len(avg_importances)\n",
    "    summary[feature]['msd'] /= len(avg_importances)\n",
    "\n",
    "print(avg_importances)\n",
    "\n",
    "print(summary)"
   ]
  },
  {
   "cell_type": "code",
   "execution_count": 99,
   "metadata": {
    "colab": {
     "base_uri": "https://localhost:8080/"
    },
    "executionInfo": {
     "elapsed": 59,
     "status": "ok",
     "timestamp": 1622022444447,
     "user": {
      "displayName": "Basel Mostafa",
      "photoUrl": "",
      "userId": "15027269614589800643"
     },
     "user_tz": 420
    },
    "id": "A8PYPc0MfjTi",
    "outputId": "bd12b3bc-b33c-4b27-8fe5-b7fa09019ae7"
   },
   "outputs": [
    {
     "name": "stdout",
     "output_type": "stream",
     "text": [
      "MAD for tweaking vaccination / MAD for tweaking variant prop : 1.282178650204942\n",
      "MSD for tweaking vaccination / MSD for tweaking variant prop : 2.7669804592204468\n",
      "Model predictions may depend more on vaccination rates than past variant proportions.\n"
     ]
    }
   ],
   "source": [
    "# Compares the effect of perturbing input vaccination rate\n",
    "# to the effect of perturbing the input variant proportion.\n",
    "# i.e. measuring to what extent the model is learning\n",
    "#      the effect of vaccination vs just propogating the\n",
    "#      past variant proportion in some vaccination-independent\n",
    "#      way\n",
    "\n",
    "mad_vacc, mad_prop = 0, 0\n",
    "msd_vacc, msd_prop = 0, 0\n",
    "\n",
    "for variant in avg_importances:\n",
    "    mad_vacc += avg_importances[variant]['vacc']['mad']\n",
    "    mad_prop += avg_importances[variant]['prop']['mad']\n",
    "    msd_vacc += avg_importances[variant]['vacc']['msd']\n",
    "    msd_prop += avg_importances[variant]['prop']['msd']\n",
    "\n",
    "mad_ratio = mad_vacc / mad_prop\n",
    "msd_ratio = msd_vacc / msd_prop\n",
    "\n",
    "print('MAD for tweaking vaccination / MAD for tweaking variant prop : {}'.format(mad_ratio))\n",
    "print('MSD for tweaking vaccination / MSD for tweaking variant prop : {}'.format(msd_ratio))\n",
    "\n",
    "if mad_ratio > 1:\n",
    "    print('Model predictions may depend more on vaccination rates than past variant proportions.')\n",
    "else:\n",
    "    print('Model predictions may depend more on past variant proportions than vaccination rates.')"
   ]
  },
  {
   "cell_type": "markdown",
   "metadata": {
    "id": "77YN0MZszI83"
   },
   "source": [
    "## Vaccination Effect on Variant Proportion"
   ]
  },
  {
   "cell_type": "code",
   "execution_count": 100,
   "metadata": {
    "colab": {
     "base_uri": "https://localhost:8080/"
    },
    "executionInfo": {
     "elapsed": 474407,
     "status": "ok",
     "timestamp": 1622022918814,
     "user": {
      "displayName": "Basel Mostafa",
      "photoUrl": "",
      "userId": "15027269614589800643"
     },
     "user_tz": 420
    },
    "id": "NhVcBF83vzST",
    "outputId": "bbe43712-2939-48ef-af7c-395c881254ae"
   },
   "outputs": [
    {
     "name": "stdout",
     "output_type": "stream",
     "text": [
      "{'B.1.1.7': {'low': 0.5806280693103415, 'med': 0.6702396894004146, 'high': 0.7644096995134684}, 'B.1.351': {'low': 0.022218654000508705, 'med': 0.020828982806533183, 'high': 0.028522419329304667}, 'P.1': {'low': 0.041470747051737096, 'med': 0.04360561669033129, 'high': 0.045740486328925425}, 'B.1.427': {'low': 0.05937908786717627, 'med': 0.019998845979310845, 'high': -0.02112684005322804}, 'B.1.429': {'low': 0.15377116775310323, 'med': 0.062423237316486815, 'high': -0.028924693120129696}}\n"
     ]
    }
   ],
   "source": [
    "# For each variant and state, we scale the vaccination rate to three different\n",
    "# levels and compute the average predicted variant proportion at each level of\n",
    "# vaccination. This gives us a sense of the effects of different levels of \n",
    "# vaccination on variant proportions for each variant as learned by the models.\n",
    "\n",
    "thresh = 70\n",
    "\n",
    "# Predictions using the ensemble are computationally expensive.\n",
    "# To reduce the runtime of this cell, we cap the number of predictions\n",
    "# made per state to 20.\n",
    "max_preds_per_state = 20\n",
    "\n",
    "# scaling factors for designation of vaccination rates\n",
    "# as low, medium, or high\n",
    "low_scale = 0.5\n",
    "med_scale = 1\n",
    "high_scale = 1.5\n",
    "\n",
    "mean_variant_prop = {}\n",
    "\n",
    "for variant in variants_dct:\n",
    "    mean_variant_prop[variant] = {}\n",
    "    \n",
    "    mean_variant_prop[variant]['low'] = 0\n",
    "    mean_variant_prop[variant]['med'] = 0\n",
    "    mean_variant_prop[variant]['high'] = 0\n",
    "\n",
    "    count = 0\n",
    "\n",
    "    for code in variants_dct[variant]:\n",
    "        N_pts = len(variants_dct[variant][code]['day']) + end_test\n",
    "        if N_pts < thresh:\n",
    "            continue\n",
    "\n",
    "        ensemble = Ensemble(code, models[variant], trained_model(code, variant))\n",
    "\n",
    "        days = variants_dct[variant][code]['day']\n",
    "        prop = variants_dct[variant][code]['interp']\n",
    "        i1 = vacc_dct[code]['day'].index(days[0])\n",
    "        vacc = vacc_dct[code]['interp'][i1:]\n",
    "        vacc = vacc[:len(days)]\n",
    "\n",
    "        start, end = 0, len(days) + end_test - lag_order\n",
    "        start = max(start, end - max_preds_per_state)\n",
    "        for i in range(start, end):\n",
    "            count += 1\n",
    "\n",
    "            input_days = days[i : i + lag_order]\n",
    "            input_vacc = np.array(vacc[i : i + lag_order])\n",
    "            input_prop = prop[i : i + lag_order]\n",
    "\n",
    "            low_vacc = low_scale * input_vacc\n",
    "            med_vacc = med_scale * input_vacc\n",
    "            high_vacc = high_scale * input_vacc\n",
    "\n",
    "            mean_variant_prop[variant]['low'] += ensemble.predict(input_days, low_vacc, input_prop)\n",
    "            mean_variant_prop[variant]['med'] += ensemble.predict(input_days, med_vacc, input_prop)\n",
    "            mean_variant_prop[variant]['high'] += ensemble.predict(input_days, high_vacc, input_prop)\n",
    "\n",
    "    mean_variant_prop[variant]['low'] /= count\n",
    "    mean_variant_prop[variant]['med'] /= count\n",
    "    mean_variant_prop[variant]['high'] /= count\n",
    "\n",
    "print(mean_variant_prop)"
   ]
  },
  {
   "cell_type": "code",
   "execution_count": 103,
   "metadata": {
    "colab": {
     "base_uri": "https://localhost:8080/",
     "height": 295
    },
    "executionInfo": {
     "elapsed": 5738,
     "status": "ok",
     "timestamp": 1622023156727,
     "user": {
      "displayName": "Basel Mostafa",
      "photoUrl": "",
      "userId": "15027269614589800643"
     },
     "user_tz": 420
    },
    "id": "F-8qNufMadOT",
    "outputId": "bfbdf6c0-66bb-454d-d318-86fd18ba8948"
   },
   "outputs": [
    {
     "data": {
      "image/png": "[encoded data removed]",
      "text/plain": [
       "<Figure size 432x288 with 1 Axes>"
      ]
     },
     "metadata": {
      "needs_background": "light",
      "tags": []
     },
     "output_type": "display_data"
    }
   ],
   "source": [
    "code, variant = 'SC', 'P.1'\n",
    "\n",
    "ensemble = Ensemble(code, models[variant], trained_model(code, variant))\n",
    "\n",
    "days = variants_dct[variant][code]['day']\n",
    "prop = variants_dct[variant][code]['interp']\n",
    "i1 = vacc_dct[code]['day'].index(days[0])\n",
    "vacc = vacc_dct[code]['interp'][i1:]\n",
    "vacc = np.array(vacc[:len(days)])\n",
    "\n",
    "pred_days = []\n",
    "pred_low = []\n",
    "pred_med = []\n",
    "pred_high = []\n",
    "\n",
    "start, end = 0, len(days) + end_test - lag_order\n",
    "for i in range(start, end):\n",
    "    input_days = days[i : i + lag_order]\n",
    "    input_vacc = vacc[i : i + lag_order]\n",
    "    input_prop = prop[i : i + lag_order]\n",
    "\n",
    "    pred_days.append(days[i + lag_order + days_ahead])\n",
    "\n",
    "    low_vacc = low_scale * input_vacc\n",
    "    med_vacc = med_scale * input_vacc\n",
    "    high_vacc = high_scale * input_vacc\n",
    "\n",
    "    pred_low.append(ensemble.predict(input_days, low_vacc, input_prop))\n",
    "    pred_med.append(ensemble.predict(input_days, med_vacc, input_prop))\n",
    "    pred_high.append(ensemble.predict(input_days, high_vacc, input_prop))\n",
    "\n",
    "plt.plot(pred_days, pred_low, label='low vacc')\n",
    "plt.plot(pred_days, pred_med, label='medium vacc')\n",
    "plt.plot(pred_days, pred_high, label='high vacc')\n",
    "\n",
    "plt.xlabel('Day')\n",
    "plt.ylabel('Proportion')\n",
    "plt.title('{}, {}'.format(variant, code))\n",
    "plt.legend()\n",
    "plt.show()"
   ]
  },
  {
   "cell_type": "markdown",
   "metadata": {
    "id": "JD8lvEj7dmhA"
   },
   "source": [
    "## Actual vs. Predicted Correlation"
   ]
  },
  {
   "cell_type": "code",
   "execution_count": 64,
   "metadata": {
    "executionInfo": {
     "elapsed": 24418,
     "status": "ok",
     "timestamp": 1622077070495,
     "user": {
      "displayName": "Andrew Ma",
      "photoUrl": "",
      "userId": "10282975094862396407"
     },
     "user_tz": 240
    },
    "id": "4zlY5TrOdlS_"
   },
   "outputs": [],
   "source": [
    "thresh = 50\n",
    "test_points_per_state = 3\n",
    "\n",
    "import collections\n",
    "actual = collections.defaultdict(list)\n",
    "predicted = collections.defaultdict(list)\n",
    "\n",
    "for variant in variants_dct:\n",
    "    \n",
    "    n_states = 0 \n",
    "    for code in variants_dct[variant]:\n",
    "        N_pts = len(variants_dct[variant][code]['day']) + end_test\n",
    "        if N_pts < thresh:\n",
    "            continue\n",
    "        n_states += 1\n",
    "        ensemble = Ensemble(code, models[variant], trained_model(code, variant))\n",
    "\n",
    "        train, test = train_test(code, variant, n=test_points_per_state)\n",
    "        \n",
    "        days = variants_dct[variant][code]['day']\n",
    "        prop = variants_dct[variant][code]['interp']\n",
    "        i1 = vacc_dct[code]['day'].index(days[0])\n",
    "        vacc = vacc_dct[code]['interp'][i1:]\n",
    "        vacc = vacc[:len(days)]\n",
    "\n",
    "        first_end_idx = end_test - days_ahead - test_points_per_state\n",
    "\n",
    "        for i in range(test_points_per_state):\n",
    "            i_days, i_prop, i_vacc = days[:first_end_idx+i], prop[:first_end_idx+i], vacc[:first_end_idx+i]\n",
    "            pred = ensemble.predict(i_days, i_vacc, i_prop)\n",
    "            test = prop[first_end_idx+i+days_ahead]\n",
    "            actual[variant].append(test)\n",
    "            predicted[variant].append(pred)"
   ]
  },
  {
   "cell_type": "code",
   "execution_count": 65,
   "metadata": {
    "colab": {
     "base_uri": "https://localhost:8080/",
     "height": 312
    },
    "executionInfo": {
     "elapsed": 13,
     "status": "ok",
     "timestamp": 1622077070496,
     "user": {
      "displayName": "Andrew Ma",
      "photoUrl": "",
      "userId": "10282975094862396407"
     },
     "user_tz": 240
    },
    "id": "LpXuI6DsfQTb",
    "outputId": "8a078e74-4c98-4299-9242-1a2b6d003eee"
   },
   "outputs": [
    {
     "data": {
      "image/png": "[encoded data removed]",
      "text/plain": [
       "<Figure size 432x288 with 1 Axes>"
      ]
     },
     "metadata": {
      "needs_background": "light",
      "tags": []
     },
     "output_type": "display_data"
    },
    {
     "name": "stdout",
     "output_type": "stream",
     "text": [
      "0.4375230142194011\n"
     ]
    }
   ],
   "source": [
    "code = 'B.1.1.7'\n",
    "act = actual[code]\n",
    "pre = predicted[code]\n",
    "\n",
    "act_std = np.std(act)\n",
    "pre_std = np.std(pre)\n",
    "\n",
    "act_l = np.mean(act) - 2 * act_std\n",
    "act_h = np.mean(act) + 2 * act_std\n",
    "\n",
    "pre_l = np.mean(pre) - 2 * pre_std\n",
    "pre_h = np.mean(pre) + 2 * pre_std\n",
    "\n",
    "drop_act = []\n",
    "drop_pre = []\n",
    "\n",
    "for i in range(len(act)):\n",
    "  if act_l <= act[i] <= act_h and pre_l <= pre[i] <= pre_h:\n",
    "    drop_act.append(act[i])\n",
    "    drop_pre.append(pre[i])\n",
    "\n",
    "plt.scatter(drop_act, drop_pre, s=4)\n",
    "plt.title(\"Actual vs. Predicted (\" + code + \")\")\n",
    "plt.xlabel(\"Actual\")\n",
    "plt.ylabel(\"Predicted\")\n",
    "plt.show()\n",
    "\n",
    "correlation_matrix = np.corrcoef(drop_act, drop_pre)\n",
    "correlation_xy = correlation_matrix[0,1]\n",
    "r_squared = correlation_xy**2\n",
    "print(r_squared)"
   ]
  },
  {
   "cell_type": "markdown",
   "metadata": {
    "id": "ouiGI6NPbBkT"
   },
   "source": [
    "## Look at Errors"
   ]
  },
  {
   "cell_type": "code",
   "execution_count": 128,
   "metadata": {
    "executionInfo": {
     "elapsed": 23071,
     "status": "ok",
     "timestamp": 1622079909125,
     "user": {
      "displayName": "Andrew Ma",
      "photoUrl": "",
      "userId": "10282975094862396407"
     },
     "user_tz": 240
    },
    "id": "5AP27R3TbH40"
   },
   "outputs": [],
   "source": [
    "thresh = 60\n",
    "test_points_per_state = 3\n",
    "\n",
    "import collections\n",
    "mae_errors = collections.defaultdict(dict)\n",
    "mse_errors = collections.defaultdict(dict)\n",
    "\n",
    "\n",
    "for variant in variants_dct:\n",
    "    \n",
    "    n_states = 0 \n",
    "    for code in variants_dct[variant]:\n",
    "        N_pts = len(variants_dct[variant][code]['day']) + end_test\n",
    "        if N_pts < thresh:\n",
    "            continue\n",
    "        n_states += 1\n",
    "        ensemble = Ensemble(code, models[variant], trained_model(code, variant))\n",
    "\n",
    "        train, test = train_test(code, variant, n=test_points_per_state)\n",
    "        \n",
    "        days = variants_dct[variant][code]['day']\n",
    "        prop = variants_dct[variant][code]['interp']\n",
    "        i1 = vacc_dct[code]['day'].index(days[0])\n",
    "        vacc = vacc_dct[code]['interp'][i1:]\n",
    "        vacc = vacc[:len(days)]\n",
    "\n",
    "        first_end_idx = end_test - days_ahead - test_points_per_state\n",
    "        MAE = 0\n",
    "        MSE = 0\n",
    "        for i in range(test_points_per_state):\n",
    "            i_days, i_prop, i_vacc = days[:first_end_idx+i], prop[:first_end_idx+i], vacc[:first_end_idx+i]\n",
    "            pred = ensemble.predict(i_days, i_vacc, i_prop)\n",
    "            test = prop[first_end_idx+i+days_ahead]\n",
    "            MAE += abs(pred - test)\n",
    "            MSE += (pred - test) ** 2\n",
    "        mae_errors[variant][code] = MAE / test_points_per_state\n",
    "        mse_errors[variant][code] = MSE / test_points_per_state\n"
   ]
  },
  {
   "cell_type": "code",
   "execution_count": 123,
   "metadata": {
    "colab": {
     "base_uri": "https://localhost:8080/"
    },
    "executionInfo": {
     "elapsed": 209,
     "status": "ok",
     "timestamp": 1622079719609,
     "user": {
      "displayName": "Andrew Ma",
      "photoUrl": "",
      "userId": "10282975094862396407"
     },
     "user_tz": 240
    },
    "id": "7oc7uVu5b1TN",
    "outputId": "e16b02e4-652c-4f9d-c9e5-7842030208ae"
   },
   "outputs": [
    {
     "name": "stdout",
     "output_type": "stream",
     "text": [
      "[('AL', 0.050251917493593035), ('AK', 0.01783171131675802), ('AZ', 0.03714007637003188), ('CA', 0.009790174011117037), ('CO', 0.19075658980274754), ('CT', 0.03254038254464664), ('DE', 0.06389902380209896), ('FL', 0.14302776981533316), ('GA', 0.02959173180178598), ('HI', 0.11628933402282038), ('ID', 0.1719229237454267), ('IL', 0.09695274357620191), ('IN', 0.008407428033759231), ('IA', 0.07285350288055843), ('KS', 0.18793636288288332), ('KY', 0.04159334285578268), ('LA', 0.0830452785092735), ('ME', 0.05899525118772538), ('MD', 0.11713660325752999), ('MA', 0.11578859426248889), ('MI', 0.10818642392196558), ('MN', 0.10172373660061929), ('MO', 0.05556649671672098), ('MT', 0.03487982659166564), ('NE', 0.0945260165769694), ('NV', 0.024412864384465327), ('NH', 0.019106327216075174), ('NJ', 0.07070024613856213), ('NM', 0.19469689325375908), ('NY', 0.0768387604892362), ('NC', 0.09854787339000852), ('ND', 0.09788321978046928), ('OH', 0.2570929716857469), ('OK', 0.0960575141090075), ('OR', 0.018906634823222006), ('PA', 0.0818068964724273), ('RI', 0.08007987343344493), ('SC', 0.0069722338067439065), ('SD', 0.09137316480490949), ('TN', 0.028234262823232787), ('TX', 0.03819855933819064), ('UT', 0.1179269165651855), ('VT', 0.017702452723808326), ('VA', 0.1639038557956692), ('WA', 0.042842359718153054), ('WV', 0.04833429158910607), ('WI', 0.08937147824102169), ('WY', 0.30657377618921516)]\n"
     ]
    }
   ],
   "source": [
    "# Gives a general ratio to help contextualize MAE\n",
    "code = 'B.1.1.7'\n",
    "maes = [(k, mae_errors[code][k]) for k in mae_errors[code]]\n",
    "rem = []\n",
    "for i in maes:\n",
    "    if i[0] == 'USA':\n",
    "        continue\n",
    "    else:\n",
    "        rem.append(i)\n",
    "print(rem)"
   ]
  },
  {
   "cell_type": "code",
   "execution_count": 124,
   "metadata": {
    "colab": {
     "base_uri": "https://localhost:8080/",
     "height": 542
    },
    "executionInfo": {
     "elapsed": 497,
     "status": "ok",
     "timestamp": 1622079723696,
     "user": {
      "displayName": "Andrew Ma",
      "photoUrl": "",
      "userId": "10282975094862396407"
     },
     "user_tz": 240
    },
    "id": "Rx-6IMRzdjI2",
    "outputId": "b92592c4-99c1-4264-c57e-09359e33b763"
   },
   "outputs": [
    {
     "data": {
      "text/html": [
       "<html>\n",
       "<head><meta charset=\"utf-8\" /></head>\n",
       "<body>\n",
       "    <div>\n",
       "            <script src=\"https://cdnjs.cloudflare.com/ajax/libs/mathjax/2.7.5/MathJax.js?config=TeX-AMS-MML_SVG\"></script><script type=\"text/javascript\">if (window.MathJax) {MathJax.Hub.Config({SVG: {font: \"STIX-Web\"}});}</script>\n",
       "                <script type=\"text/javascript\">window.PlotlyConfig = {MathJaxConfig: 'local'};</script>\n",
       "        <script src=\"https://cdn.plot.ly/plotly-latest.min.js\"></script>    \n",
       "            <div id=\"0f0a39a7-a75c-4017-8ff4-4e0b1816cef3\" class=\"plotly-graph-div\" style=\"height:525px; width:100%;\"></div>\n",
       "            <script type=\"text/javascript\">\n",
       "                \n",
       "                    window.PLOTLYENV=window.PLOTLYENV || {};\n",
       "                    \n",
       "                if (document.getElementById(\"0f0a39a7-a75c-4017-8ff4-4e0b1816cef3\")) {\n",
       "                    Plotly.newPlot(\n",
       "                        '0f0a39a7-a75c-4017-8ff4-4e0b1816cef3',\n",
       "                        [{\"coloraxis\": \"coloraxis\", \"geo\": \"geo\", \"hoverlabel\": {\"namelength\": 0}, \"hovertemplate\": \"State=%{location}<br>MAE=%{z}\", \"locationmode\": \"USA-states\", \"locations\": [\"AL\", \"AK\", \"AZ\", \"CA\", \"CO\", \"CT\", \"DE\", \"FL\", \"GA\", \"HI\", \"ID\", \"IL\", \"IN\", \"IA\", \"KS\", \"KY\", \"LA\", \"ME\", \"MD\", \"MA\", \"MI\", \"MN\", \"MO\", \"MT\", \"NE\", \"NV\", \"NH\", \"NJ\", \"NM\", \"NY\", \"NC\", \"ND\", \"OH\", \"OK\", \"OR\", \"PA\", \"RI\", \"SC\", \"SD\", \"TN\", \"TX\", \"UT\", \"VT\", \"VA\", \"WA\", \"WV\", \"WI\", \"WY\"], \"name\": \"\", \"type\": \"choropleth\", \"z\": [0.050251917493593035, 0.01783171131675802, 0.03714007637003188, 0.009790174011117037, 0.19075658980274754, 0.03254038254464664, 0.06389902380209896, 0.14302776981533316, 0.02959173180178598, 0.11628933402282038, 0.1719229237454267, 0.09695274357620191, 0.008407428033759231, 0.07285350288055843, 0.18793636288288332, 0.04159334285578268, 0.0830452785092735, 0.05899525118772538, 0.11713660325752999, 0.11578859426248889, 0.10818642392196558, 0.10172373660061929, 0.05556649671672098, 0.03487982659166564, 0.0945260165769694, 0.024412864384465327, 0.019106327216075174, 0.07070024613856213, 0.19469689325375908, 0.0768387604892362, 0.09854787339000852, 0.09788321978046928, 0.2570929716857469, 0.0960575141090075, 0.018906634823222006, 0.0818068964724273, 0.08007987343344493, 0.0069722338067439065, 0.09137316480490949, 0.028234262823232787, 0.03819855933819064, 0.1179269165651855, 0.017702452723808326, 0.1639038557956692, 0.042842359718153054, 0.04833429158910607, 0.08937147824102169, 0.30657377618921516]}],\n",
       "                        {\"coloraxis\": {\"colorbar\": {\"title\": {\"text\": \"MAE\"}}, \"colorscale\": [[0.0, \"#0d0887\"], [0.1111111111111111, \"#46039f\"], [0.2222222222222222, \"#7201a8\"], [0.3333333333333333, \"#9c179e\"], [0.4444444444444444, \"#bd3786\"], [0.5555555555555556, \"#d8576b\"], [0.6666666666666666, \"#ed7953\"], [0.7777777777777778, \"#fb9f3a\"], [0.8888888888888888, \"#fdca26\"], [1.0, \"#f0f921\"]]}, \"geo\": {\"center\": {}, \"domain\": {\"x\": [0.0, 1.0], \"y\": [0.0, 1.0]}, \"scope\": \"usa\"}, \"legend\": {\"tracegroupgap\": 0}, \"template\": {\"data\": {\"bar\": [{\"error_x\": {\"color\": \"#2a3f5f\"}, \"error_y\": {\"color\": \"#2a3f5f\"}, \"marker\": {\"line\": {\"color\": \"#E5ECF6\", \"width\": 0.5}}, \"type\": \"bar\"}], \"barpolar\": [{\"marker\": {\"line\": {\"color\": \"#E5ECF6\", \"width\": 0.5}}, \"type\": \"barpolar\"}], \"carpet\": [{\"aaxis\": {\"endlinecolor\": \"#2a3f5f\", \"gridcolor\": \"white\", \"linecolor\": \"white\", \"minorgridcolor\": \"white\", \"startlinecolor\": \"#2a3f5f\"}, \"baxis\": {\"endlinecolor\": \"#2a3f5f\", \"gridcolor\": \"white\", \"linecolor\": \"white\", \"minorgridcolor\": \"white\", \"startlinecolor\": \"#2a3f5f\"}, \"type\": \"carpet\"}], \"choropleth\": [{\"colorbar\": {\"outlinewidth\": 0, \"ticks\": \"\"}, \"type\": \"choropleth\"}], \"contour\": [{\"colorbar\": {\"outlinewidth\": 0, \"ticks\": \"\"}, \"colorscale\": [[0.0, \"#0d0887\"], [0.1111111111111111, \"#46039f\"], [0.2222222222222222, \"#7201a8\"], [0.3333333333333333, \"#9c179e\"], [0.4444444444444444, \"#bd3786\"], [0.5555555555555556, \"#d8576b\"], [0.6666666666666666, \"#ed7953\"], [0.7777777777777778, \"#fb9f3a\"], [0.8888888888888888, \"#fdca26\"], [1.0, \"#f0f921\"]], \"type\": \"contour\"}], \"contourcarpet\": [{\"colorbar\": {\"outlinewidth\": 0, \"ticks\": \"\"}, \"type\": \"contourcarpet\"}], \"heatmap\": [{\"colorbar\": {\"outlinewidth\": 0, \"ticks\": \"\"}, \"colorscale\": [[0.0, \"#0d0887\"], [0.1111111111111111, \"#46039f\"], [0.2222222222222222, \"#7201a8\"], [0.3333333333333333, \"#9c179e\"], [0.4444444444444444, \"#bd3786\"], [0.5555555555555556, \"#d8576b\"], [0.6666666666666666, \"#ed7953\"], [0.7777777777777778, \"#fb9f3a\"], [0.8888888888888888, \"#fdca26\"], [1.0, \"#f0f921\"]], \"type\": \"heatmap\"}], \"heatmapgl\": [{\"colorbar\": {\"outlinewidth\": 0, \"ticks\": \"\"}, \"colorscale\": [[0.0, \"#0d0887\"], [0.1111111111111111, \"#46039f\"], [0.2222222222222222, \"#7201a8\"], [0.3333333333333333, \"#9c179e\"], [0.4444444444444444, \"#bd3786\"], [0.5555555555555556, \"#d8576b\"], [0.6666666666666666, \"#ed7953\"], [0.7777777777777778, \"#fb9f3a\"], [0.8888888888888888, \"#fdca26\"], [1.0, \"#f0f921\"]], \"type\": \"heatmapgl\"}], \"histogram\": [{\"marker\": {\"colorbar\": {\"outlinewidth\": 0, \"ticks\": \"\"}}, \"type\": \"histogram\"}], \"histogram2d\": [{\"colorbar\": {\"outlinewidth\": 0, \"ticks\": \"\"}, \"colorscale\": [[0.0, \"#0d0887\"], [0.1111111111111111, \"#46039f\"], [0.2222222222222222, \"#7201a8\"], [0.3333333333333333, \"#9c179e\"], [0.4444444444444444, \"#bd3786\"], [0.5555555555555556, \"#d8576b\"], [0.6666666666666666, \"#ed7953\"], [0.7777777777777778, \"#fb9f3a\"], [0.8888888888888888, \"#fdca26\"], [1.0, \"#f0f921\"]], \"type\": \"histogram2d\"}], \"histogram2dcontour\": [{\"colorbar\": {\"outlinewidth\": 0, \"ticks\": \"\"}, \"colorscale\": [[0.0, \"#0d0887\"], [0.1111111111111111, \"#46039f\"], [0.2222222222222222, \"#7201a8\"], [0.3333333333333333, \"#9c179e\"], [0.4444444444444444, \"#bd3786\"], [0.5555555555555556, \"#d8576b\"], [0.6666666666666666, \"#ed7953\"], [0.7777777777777778, \"#fb9f3a\"], [0.8888888888888888, \"#fdca26\"], [1.0, \"#f0f921\"]], \"type\": \"histogram2dcontour\"}], \"mesh3d\": [{\"colorbar\": {\"outlinewidth\": 0, \"ticks\": \"\"}, \"type\": \"mesh3d\"}], \"parcoords\": [{\"line\": {\"colorbar\": {\"outlinewidth\": 0, \"ticks\": \"\"}}, \"type\": \"parcoords\"}], \"pie\": [{\"automargin\": true, \"type\": \"pie\"}], \"scatter\": [{\"marker\": {\"colorbar\": {\"outlinewidth\": 0, \"ticks\": \"\"}}, \"type\": \"scatter\"}], \"scatter3d\": [{\"line\": {\"colorbar\": {\"outlinewidth\": 0, \"ticks\": \"\"}}, \"marker\": {\"colorbar\": {\"outlinewidth\": 0, \"ticks\": \"\"}}, \"type\": \"scatter3d\"}], \"scattercarpet\": [{\"marker\": {\"colorbar\": {\"outlinewidth\": 0, \"ticks\": \"\"}}, \"type\": \"scattercarpet\"}], \"scattergeo\": [{\"marker\": {\"colorbar\": {\"outlinewidth\": 0, \"ticks\": \"\"}}, \"type\": \"scattergeo\"}], \"scattergl\": [{\"marker\": {\"colorbar\": {\"outlinewidth\": 0, \"ticks\": \"\"}}, \"type\": \"scattergl\"}], \"scattermapbox\": [{\"marker\": {\"colorbar\": {\"outlinewidth\": 0, \"ticks\": \"\"}}, \"type\": \"scattermapbox\"}], \"scatterpolar\": [{\"marker\": {\"colorbar\": {\"outlinewidth\": 0, \"ticks\": \"\"}}, \"type\": \"scatterpolar\"}], \"scatterpolargl\": [{\"marker\": {\"colorbar\": {\"outlinewidth\": 0, \"ticks\": \"\"}}, \"type\": \"scatterpolargl\"}], \"scatterternary\": [{\"marker\": {\"colorbar\": {\"outlinewidth\": 0, \"ticks\": \"\"}}, \"type\": \"scatterternary\"}], \"surface\": [{\"colorbar\": {\"outlinewidth\": 0, \"ticks\": \"\"}, \"colorscale\": [[0.0, \"#0d0887\"], [0.1111111111111111, \"#46039f\"], [0.2222222222222222, \"#7201a8\"], [0.3333333333333333, \"#9c179e\"], [0.4444444444444444, \"#bd3786\"], [0.5555555555555556, \"#d8576b\"], [0.6666666666666666, \"#ed7953\"], [0.7777777777777778, \"#fb9f3a\"], [0.8888888888888888, \"#fdca26\"], [1.0, \"#f0f921\"]], \"type\": \"surface\"}], \"table\": [{\"cells\": {\"fill\": {\"color\": \"#EBF0F8\"}, \"line\": {\"color\": \"white\"}}, \"header\": {\"fill\": {\"color\": \"#C8D4E3\"}, \"line\": {\"color\": \"white\"}}, \"type\": \"table\"}]}, \"layout\": {\"annotationdefaults\": {\"arrowcolor\": \"#2a3f5f\", \"arrowhead\": 0, \"arrowwidth\": 1}, \"coloraxis\": {\"colorbar\": {\"outlinewidth\": 0, \"ticks\": \"\"}}, \"colorscale\": {\"diverging\": [[0, \"#8e0152\"], [0.1, \"#c51b7d\"], [0.2, \"#de77ae\"], [0.3, \"#f1b6da\"], [0.4, \"#fde0ef\"], [0.5, \"#f7f7f7\"], [0.6, \"#e6f5d0\"], [0.7, \"#b8e186\"], [0.8, \"#7fbc41\"], [0.9, \"#4d9221\"], [1, \"#276419\"]], \"sequential\": [[0.0, \"#0d0887\"], [0.1111111111111111, \"#46039f\"], [0.2222222222222222, \"#7201a8\"], [0.3333333333333333, \"#9c179e\"], [0.4444444444444444, \"#bd3786\"], [0.5555555555555556, \"#d8576b\"], [0.6666666666666666, \"#ed7953\"], [0.7777777777777778, \"#fb9f3a\"], [0.8888888888888888, \"#fdca26\"], [1.0, \"#f0f921\"]], \"sequentialminus\": [[0.0, \"#0d0887\"], [0.1111111111111111, \"#46039f\"], [0.2222222222222222, \"#7201a8\"], [0.3333333333333333, \"#9c179e\"], [0.4444444444444444, \"#bd3786\"], [0.5555555555555556, \"#d8576b\"], [0.6666666666666666, \"#ed7953\"], [0.7777777777777778, \"#fb9f3a\"], [0.8888888888888888, \"#fdca26\"], [1.0, \"#f0f921\"]]}, \"colorway\": [\"#636efa\", \"#EF553B\", \"#00cc96\", \"#ab63fa\", \"#FFA15A\", \"#19d3f3\", \"#FF6692\", \"#B6E880\", \"#FF97FF\", \"#FECB52\"], \"font\": {\"color\": \"#2a3f5f\"}, \"geo\": {\"bgcolor\": \"white\", \"lakecolor\": \"white\", \"landcolor\": \"#E5ECF6\", \"showlakes\": true, \"showland\": true, \"subunitcolor\": \"white\"}, \"hoverlabel\": {\"align\": \"left\"}, \"hovermode\": \"closest\", \"mapbox\": {\"style\": \"light\"}, \"paper_bgcolor\": \"white\", \"plot_bgcolor\": \"#E5ECF6\", \"polar\": {\"angularaxis\": {\"gridcolor\": \"white\", \"linecolor\": \"white\", \"ticks\": \"\"}, \"bgcolor\": \"#E5ECF6\", \"radialaxis\": {\"gridcolor\": \"white\", \"linecolor\": \"white\", \"ticks\": \"\"}}, \"scene\": {\"xaxis\": {\"backgroundcolor\": \"#E5ECF6\", \"gridcolor\": \"white\", \"gridwidth\": 2, \"linecolor\": \"white\", \"showbackground\": true, \"ticks\": \"\", \"zerolinecolor\": \"white\"}, \"yaxis\": {\"backgroundcolor\": \"#E5ECF6\", \"gridcolor\": \"white\", \"gridwidth\": 2, \"linecolor\": \"white\", \"showbackground\": true, \"ticks\": \"\", \"zerolinecolor\": \"white\"}, \"zaxis\": {\"backgroundcolor\": \"#E5ECF6\", \"gridcolor\": \"white\", \"gridwidth\": 2, \"linecolor\": \"white\", \"showbackground\": true, \"ticks\": \"\", \"zerolinecolor\": \"white\"}}, \"shapedefaults\": {\"line\": {\"color\": \"#2a3f5f\"}}, \"ternary\": {\"aaxis\": {\"gridcolor\": \"white\", \"linecolor\": \"white\", \"ticks\": \"\"}, \"baxis\": {\"gridcolor\": \"white\", \"linecolor\": \"white\", \"ticks\": \"\"}, \"bgcolor\": \"#E5ECF6\", \"caxis\": {\"gridcolor\": \"white\", \"linecolor\": \"white\", \"ticks\": \"\"}}, \"title\": {\"x\": 0.05}, \"xaxis\": {\"automargin\": true, \"gridcolor\": \"white\", \"linecolor\": \"white\", \"ticks\": \"\", \"title\": {\"standoff\": 15}, \"zerolinecolor\": \"white\", \"zerolinewidth\": 2}, \"yaxis\": {\"automargin\": true, \"gridcolor\": \"white\", \"linecolor\": \"white\", \"ticks\": \"\", \"title\": {\"standoff\": 15}, \"zerolinecolor\": \"white\", \"zerolinewidth\": 2}}}, \"title\": {\"text\": \"B.1.1.7\"}},\n",
       "                        {\"responsive\": true}\n",
       "                    ).then(function(){\n",
       "                            \n",
       "var gd = document.getElementById('0f0a39a7-a75c-4017-8ff4-4e0b1816cef3');\n",
       "var x = new MutationObserver(function (mutations, observer) {{\n",
       "        var display = window.getComputedStyle(gd).display;\n",
       "        if (!display || display === 'none') {{\n",
       "            console.log([gd, 'removed!']);\n",
       "            Plotly.purge(gd);\n",
       "            observer.disconnect();\n",
       "        }}\n",
       "}});\n",
       "\n",
       "// Listen for the removal of the full notebook cells\n",
       "var notebookContainer = gd.closest('#notebook-container');\n",
       "if (notebookContainer) {{\n",
       "    x.observe(notebookContainer, {childList: true});\n",
       "}}\n",
       "\n",
       "// Listen for the clearing of the current output cell\n",
       "var outputEl = gd.closest('.output');\n",
       "if (outputEl) {{\n",
       "    x.observe(outputEl, {childList: true});\n",
       "}}\n",
       "\n",
       "                        })\n",
       "                };\n",
       "                \n",
       "            </script>\n",
       "        </div>\n",
       "</body>\n",
       "</html>"
      ]
     },
     "metadata": {
      "tags": []
     },
     "output_type": "display_data"
    }
   ],
   "source": [
    "import plotly.express as px\n",
    "\n",
    "df = pd.DataFrame.from_dict(rem)\n",
    "df = df.rename(columns={0: \"State\", 1: \"MAE\"})\n",
    "\n",
    "fig = px.choropleth(df, locations=\"State\", locationmode=\"USA-states\", scope='usa',\n",
    "                    color=\"MAE\",\n",
    "                    color_continuous_scale=px.colors.sequential.Plasma,\n",
    "                    title = code)\n",
    "fig.show()"
   ]
  },
  {
   "cell_type": "code",
   "execution_count": 139,
   "metadata": {
    "colab": {
     "base_uri": "https://localhost:8080/",
     "height": 295
    },
    "executionInfo": {
     "elapsed": 208,
     "status": "ok",
     "timestamp": 1622080140165,
     "user": {
      "displayName": "Andrew Ma",
      "photoUrl": "",
      "userId": "10282975094862396407"
     },
     "user_tz": 240
    },
    "id": "V9heLtpDgjBm",
    "outputId": "c4929f9a-e402-4f85-931d-ff4662a11817"
   },
   "outputs": [
    {
     "data": {
      "image/png": "[encoded data removed]",
      "text/plain": [
       "<Figure size 432x288 with 1 Axes>"
      ]
     },
     "metadata": {
      "needs_background": "light",
      "tags": []
     },
     "output_type": "display_data"
    }
   ],
   "source": [
    "maes = [mae_errors['B.1.1.7'][k] for k in mae_errors['B.1.1.7']]\n",
    "\n",
    "plt.hist(maes)\n",
    "plt.xlabel(\"MAE\")\n",
    "plt.title(\"Histogram of MAE Over States\")\n",
    "plt.show()"
   ]
  },
  {
   "cell_type": "markdown",
   "metadata": {
    "id": "-fMH2KfMWai7"
   },
   "source": [
    "Make sure gisaid_monthly_submit.csv is uploaded"
   ]
  },
  {
   "cell_type": "code",
   "execution_count": 153,
   "metadata": {
    "colab": {
     "base_uri": "https://localhost:8080/",
     "height": 542
    },
    "executionInfo": {
     "elapsed": 1024,
     "status": "ok",
     "timestamp": 1622080686509,
     "user": {
      "displayName": "Andrew Ma",
      "photoUrl": "",
      "userId": "10282975094862396407"
     },
     "user_tz": 240
    },
    "id": "Bb5S-Ny6V8qw",
    "outputId": "17e79585-e6bb-40fd-998c-b404f92af60b"
   },
   "outputs": [
    {
     "data": {
      "text/html": [
       "<html>\n",
       "<head><meta charset=\"utf-8\" /></head>\n",
       "<body>\n",
       "    <div>\n",
       "            <script src=\"https://cdnjs.cloudflare.com/ajax/libs/mathjax/2.7.5/MathJax.js?config=TeX-AMS-MML_SVG\"></script><script type=\"text/javascript\">if (window.MathJax) {MathJax.Hub.Config({SVG: {font: \"STIX-Web\"}});}</script>\n",
       "                <script type=\"text/javascript\">window.PlotlyConfig = {MathJaxConfig: 'local'};</script>\n",
       "        <script src=\"https://cdn.plot.ly/plotly-latest.min.js\"></script>    \n",
       "            <div id=\"beaafeea-f0ef-4a92-8367-3f034ab67e0a\" class=\"plotly-graph-div\" style=\"height:525px; width:100%;\"></div>\n",
       "            <script type=\"text/javascript\">\n",
       "                \n",
       "                    window.PLOTLYENV=window.PLOTLYENV || {};\n",
       "                    \n",
       "                if (document.getElementById(\"beaafeea-f0ef-4a92-8367-3f034ab67e0a\")) {\n",
       "                    Plotly.newPlot(\n",
       "                        'beaafeea-f0ef-4a92-8367-3f034ab67e0a',\n",
       "                        [{\"coloraxis\": \"coloraxis\", \"geo\": \"geo\", \"hoverlabel\": {\"namelength\": 0}, \"hovertemplate\": \"State=%{location}<br>Reports=%{z}\", \"locationmode\": \"USA-states\", \"locations\": [\"AL\", \"AK\", \"AZ\", \"AR\", \"CA\", \"CO\", \"CT\", \"DE\", \"FL\", \"GA\", \"HI\", \"ID\", \"IL\", \"IN\", \"IA\", \"KS\", \"KY\", \"LA\", \"ME\", \"MD\", \"MA\", \"MI\", \"MN\", \"MS\", \"MO\", \"MT\", \"NE\", \"NV\", \"NH\", \"NJ\", \"NM\", \"NY\", \"NC\", \"ND\", \"OH\", \"OK\", \"OR\", \"PA\", \"RI\", \"SC\", \"SD\", \"TN\", \"TX\", \"UT\", \"VT\", \"VA\", \"WA\", \"WV\", \"WI\", \"WY\"], \"name\": \"\", \"type\": \"choropleth\", \"z\": [2.665, 1.739, 16.395, 0.75, 56.269, 10.389, 7.086, 1.76, 29.863, 6.892, 2.191, 1.114, 15.809, 5.704, 0.905, 2.813, 1.809, 4.906, 3.374, 11.435, 17.015, 25.213, 20.2, 0.866, 2.94, 0.686, 1.855, 3.847, 1.93, 12.417, 4.887, 41.297, 8.849, 1.439, 7.336, 0.669, 7.152, 13.623, 3.275, 2.749, 0.555, 3.874, 56.415, 8.446, 0.985, 8.554, 21.598, 4.772, 13.605, 7.24]}],\n",
       "                        {\"coloraxis\": {\"colorbar\": {\"title\": {\"text\": \"Reports\"}}, \"colorscale\": [[0.0, \"#0d0887\"], [0.1111111111111111, \"#46039f\"], [0.2222222222222222, \"#7201a8\"], [0.3333333333333333, \"#9c179e\"], [0.4444444444444444, \"#bd3786\"], [0.5555555555555556, \"#d8576b\"], [0.6666666666666666, \"#ed7953\"], [0.7777777777777778, \"#fb9f3a\"], [0.8888888888888888, \"#fdca26\"], [1.0, \"#f0f921\"]]}, \"geo\": {\"center\": {}, \"domain\": {\"x\": [0.0, 1.0], \"y\": [0.0, 1.0]}, \"scope\": \"usa\"}, \"legend\": {\"tracegroupgap\": 0}, \"template\": {\"data\": {\"bar\": [{\"error_x\": {\"color\": \"#2a3f5f\"}, \"error_y\": {\"color\": \"#2a3f5f\"}, \"marker\": {\"line\": {\"color\": \"#E5ECF6\", \"width\": 0.5}}, \"type\": \"bar\"}], \"barpolar\": [{\"marker\": {\"line\": {\"color\": \"#E5ECF6\", \"width\": 0.5}}, \"type\": \"barpolar\"}], \"carpet\": [{\"aaxis\": {\"endlinecolor\": \"#2a3f5f\", \"gridcolor\": \"white\", \"linecolor\": \"white\", \"minorgridcolor\": \"white\", \"startlinecolor\": \"#2a3f5f\"}, \"baxis\": {\"endlinecolor\": \"#2a3f5f\", \"gridcolor\": \"white\", \"linecolor\": \"white\", \"minorgridcolor\": \"white\", \"startlinecolor\": \"#2a3f5f\"}, \"type\": \"carpet\"}], \"choropleth\": [{\"colorbar\": {\"outlinewidth\": 0, \"ticks\": \"\"}, \"type\": \"choropleth\"}], \"contour\": [{\"colorbar\": {\"outlinewidth\": 0, \"ticks\": \"\"}, \"colorscale\": [[0.0, \"#0d0887\"], [0.1111111111111111, \"#46039f\"], [0.2222222222222222, \"#7201a8\"], [0.3333333333333333, \"#9c179e\"], [0.4444444444444444, \"#bd3786\"], [0.5555555555555556, \"#d8576b\"], [0.6666666666666666, \"#ed7953\"], [0.7777777777777778, \"#fb9f3a\"], [0.8888888888888888, \"#fdca26\"], [1.0, \"#f0f921\"]], \"type\": \"contour\"}], \"contourcarpet\": [{\"colorbar\": {\"outlinewidth\": 0, \"ticks\": \"\"}, \"type\": \"contourcarpet\"}], \"heatmap\": [{\"colorbar\": {\"outlinewidth\": 0, \"ticks\": \"\"}, \"colorscale\": [[0.0, \"#0d0887\"], [0.1111111111111111, \"#46039f\"], [0.2222222222222222, \"#7201a8\"], [0.3333333333333333, \"#9c179e\"], [0.4444444444444444, \"#bd3786\"], [0.5555555555555556, \"#d8576b\"], [0.6666666666666666, \"#ed7953\"], [0.7777777777777778, \"#fb9f3a\"], [0.8888888888888888, \"#fdca26\"], [1.0, \"#f0f921\"]], \"type\": \"heatmap\"}], \"heatmapgl\": [{\"colorbar\": {\"outlinewidth\": 0, \"ticks\": \"\"}, \"colorscale\": [[0.0, \"#0d0887\"], [0.1111111111111111, \"#46039f\"], [0.2222222222222222, \"#7201a8\"], [0.3333333333333333, \"#9c179e\"], [0.4444444444444444, \"#bd3786\"], [0.5555555555555556, \"#d8576b\"], [0.6666666666666666, \"#ed7953\"], [0.7777777777777778, \"#fb9f3a\"], [0.8888888888888888, \"#fdca26\"], [1.0, \"#f0f921\"]], \"type\": \"heatmapgl\"}], \"histogram\": [{\"marker\": {\"colorbar\": {\"outlinewidth\": 0, \"ticks\": \"\"}}, \"type\": \"histogram\"}], \"histogram2d\": [{\"colorbar\": {\"outlinewidth\": 0, \"ticks\": \"\"}, \"colorscale\": [[0.0, \"#0d0887\"], [0.1111111111111111, \"#46039f\"], [0.2222222222222222, \"#7201a8\"], [0.3333333333333333, \"#9c179e\"], [0.4444444444444444, \"#bd3786\"], [0.5555555555555556, \"#d8576b\"], [0.6666666666666666, \"#ed7953\"], [0.7777777777777778, \"#fb9f3a\"], [0.8888888888888888, \"#fdca26\"], [1.0, \"#f0f921\"]], \"type\": \"histogram2d\"}], \"histogram2dcontour\": [{\"colorbar\": {\"outlinewidth\": 0, \"ticks\": \"\"}, \"colorscale\": [[0.0, \"#0d0887\"], [0.1111111111111111, \"#46039f\"], [0.2222222222222222, \"#7201a8\"], [0.3333333333333333, \"#9c179e\"], [0.4444444444444444, \"#bd3786\"], [0.5555555555555556, \"#d8576b\"], [0.6666666666666666, \"#ed7953\"], [0.7777777777777778, \"#fb9f3a\"], [0.8888888888888888, \"#fdca26\"], [1.0, \"#f0f921\"]], \"type\": \"histogram2dcontour\"}], \"mesh3d\": [{\"colorbar\": {\"outlinewidth\": 0, \"ticks\": \"\"}, \"type\": \"mesh3d\"}], \"parcoords\": [{\"line\": {\"colorbar\": {\"outlinewidth\": 0, \"ticks\": \"\"}}, \"type\": \"parcoords\"}], \"pie\": [{\"automargin\": true, \"type\": \"pie\"}], \"scatter\": [{\"marker\": {\"colorbar\": {\"outlinewidth\": 0, \"ticks\": \"\"}}, \"type\": \"scatter\"}], \"scatter3d\": [{\"line\": {\"colorbar\": {\"outlinewidth\": 0, \"ticks\": \"\"}}, \"marker\": {\"colorbar\": {\"outlinewidth\": 0, \"ticks\": \"\"}}, \"type\": \"scatter3d\"}], \"scattercarpet\": [{\"marker\": {\"colorbar\": {\"outlinewidth\": 0, \"ticks\": \"\"}}, \"type\": \"scattercarpet\"}], \"scattergeo\": [{\"marker\": {\"colorbar\": {\"outlinewidth\": 0, \"ticks\": \"\"}}, \"type\": \"scattergeo\"}], \"scattergl\": [{\"marker\": {\"colorbar\": {\"outlinewidth\": 0, \"ticks\": \"\"}}, \"type\": \"scattergl\"}], \"scattermapbox\": [{\"marker\": {\"colorbar\": {\"outlinewidth\": 0, \"ticks\": \"\"}}, \"type\": \"scattermapbox\"}], \"scatterpolar\": [{\"marker\": {\"colorbar\": {\"outlinewidth\": 0, \"ticks\": \"\"}}, \"type\": \"scatterpolar\"}], \"scatterpolargl\": [{\"marker\": {\"colorbar\": {\"outlinewidth\": 0, \"ticks\": \"\"}}, \"type\": \"scatterpolargl\"}], \"scatterternary\": [{\"marker\": {\"colorbar\": {\"outlinewidth\": 0, \"ticks\": \"\"}}, \"type\": \"scatterternary\"}], \"surface\": [{\"colorbar\": {\"outlinewidth\": 0, \"ticks\": \"\"}, \"colorscale\": [[0.0, \"#0d0887\"], [0.1111111111111111, \"#46039f\"], [0.2222222222222222, \"#7201a8\"], [0.3333333333333333, \"#9c179e\"], [0.4444444444444444, \"#bd3786\"], [0.5555555555555556, \"#d8576b\"], [0.6666666666666666, \"#ed7953\"], [0.7777777777777778, \"#fb9f3a\"], [0.8888888888888888, \"#fdca26\"], [1.0, \"#f0f921\"]], \"type\": \"surface\"}], \"table\": [{\"cells\": {\"fill\": {\"color\": \"#EBF0F8\"}, \"line\": {\"color\": \"white\"}}, \"header\": {\"fill\": {\"color\": \"#C8D4E3\"}, \"line\": {\"color\": \"white\"}}, \"type\": \"table\"}]}, \"layout\": {\"annotationdefaults\": {\"arrowcolor\": \"#2a3f5f\", \"arrowhead\": 0, \"arrowwidth\": 1}, \"coloraxis\": {\"colorbar\": {\"outlinewidth\": 0, \"ticks\": \"\"}}, \"colorscale\": {\"diverging\": [[0, \"#8e0152\"], [0.1, \"#c51b7d\"], [0.2, \"#de77ae\"], [0.3, \"#f1b6da\"], [0.4, \"#fde0ef\"], [0.5, \"#f7f7f7\"], [0.6, \"#e6f5d0\"], [0.7, \"#b8e186\"], [0.8, \"#7fbc41\"], [0.9, \"#4d9221\"], [1, \"#276419\"]], \"sequential\": [[0.0, \"#0d0887\"], [0.1111111111111111, \"#46039f\"], [0.2222222222222222, \"#7201a8\"], [0.3333333333333333, \"#9c179e\"], [0.4444444444444444, \"#bd3786\"], [0.5555555555555556, \"#d8576b\"], [0.6666666666666666, \"#ed7953\"], [0.7777777777777778, \"#fb9f3a\"], [0.8888888888888888, \"#fdca26\"], [1.0, \"#f0f921\"]], \"sequentialminus\": [[0.0, \"#0d0887\"], [0.1111111111111111, \"#46039f\"], [0.2222222222222222, \"#7201a8\"], [0.3333333333333333, \"#9c179e\"], [0.4444444444444444, \"#bd3786\"], [0.5555555555555556, \"#d8576b\"], [0.6666666666666666, \"#ed7953\"], [0.7777777777777778, \"#fb9f3a\"], [0.8888888888888888, \"#fdca26\"], [1.0, \"#f0f921\"]]}, \"colorway\": [\"#636efa\", \"#EF553B\", \"#00cc96\", \"#ab63fa\", \"#FFA15A\", \"#19d3f3\", \"#FF6692\", \"#B6E880\", \"#FF97FF\", \"#FECB52\"], \"font\": {\"color\": \"#2a3f5f\"}, \"geo\": {\"bgcolor\": \"white\", \"lakecolor\": \"white\", \"landcolor\": \"#E5ECF6\", \"showlakes\": true, \"showland\": true, \"subunitcolor\": \"white\"}, \"hoverlabel\": {\"align\": \"left\"}, \"hovermode\": \"closest\", \"mapbox\": {\"style\": \"light\"}, \"paper_bgcolor\": \"white\", \"plot_bgcolor\": \"#E5ECF6\", \"polar\": {\"angularaxis\": {\"gridcolor\": \"white\", \"linecolor\": \"white\", \"ticks\": \"\"}, \"bgcolor\": \"#E5ECF6\", \"radialaxis\": {\"gridcolor\": \"white\", \"linecolor\": \"white\", \"ticks\": \"\"}}, \"scene\": {\"xaxis\": {\"backgroundcolor\": \"#E5ECF6\", \"gridcolor\": \"white\", \"gridwidth\": 2, \"linecolor\": \"white\", \"showbackground\": true, \"ticks\": \"\", \"zerolinecolor\": \"white\"}, \"yaxis\": {\"backgroundcolor\": \"#E5ECF6\", \"gridcolor\": \"white\", \"gridwidth\": 2, \"linecolor\": \"white\", \"showbackground\": true, \"ticks\": \"\", \"zerolinecolor\": \"white\"}, \"zaxis\": {\"backgroundcolor\": \"#E5ECF6\", \"gridcolor\": \"white\", \"gridwidth\": 2, \"linecolor\": \"white\", \"showbackground\": true, \"ticks\": \"\", \"zerolinecolor\": \"white\"}}, \"shapedefaults\": {\"line\": {\"color\": \"#2a3f5f\"}}, \"ternary\": {\"aaxis\": {\"gridcolor\": \"white\", \"linecolor\": \"white\", \"ticks\": \"\"}, \"baxis\": {\"gridcolor\": \"white\", \"linecolor\": \"white\", \"ticks\": \"\"}, \"bgcolor\": \"#E5ECF6\", \"caxis\": {\"gridcolor\": \"white\", \"linecolor\": \"white\", \"ticks\": \"\"}}, \"title\": {\"x\": 0.05}, \"xaxis\": {\"automargin\": true, \"gridcolor\": \"white\", \"linecolor\": \"white\", \"ticks\": \"\", \"title\": {\"standoff\": 15}, \"zerolinecolor\": \"white\", \"zerolinewidth\": 2}, \"yaxis\": {\"automargin\": true, \"gridcolor\": \"white\", \"linecolor\": \"white\", \"ticks\": \"\", \"title\": {\"standoff\": 15}, \"zerolinecolor\": \"white\", \"zerolinewidth\": 2}}}, \"title\": {\"text\": \"B.1.1.7\"}},\n",
       "                        {\"responsive\": true}\n",
       "                    ).then(function(){\n",
       "                            \n",
       "var gd = document.getElementById('beaafeea-f0ef-4a92-8367-3f034ab67e0a');\n",
       "var x = new MutationObserver(function (mutations, observer) {{\n",
       "        var display = window.getComputedStyle(gd).display;\n",
       "        if (!display || display === 'none') {{\n",
       "            console.log([gd, 'removed!']);\n",
       "            Plotly.purge(gd);\n",
       "            observer.disconnect();\n",
       "        }}\n",
       "}});\n",
       "\n",
       "// Listen for the removal of the full notebook cells\n",
       "var notebookContainer = gd.closest('#notebook-container');\n",
       "if (notebookContainer) {{\n",
       "    x.observe(notebookContainer, {childList: true});\n",
       "}}\n",
       "\n",
       "// Listen for the clearing of the current output cell\n",
       "var outputEl = gd.closest('.output');\n",
       "if (outputEl) {{\n",
       "    x.observe(outputEl, {childList: true});\n",
       "}}\n",
       "\n",
       "                        })\n",
       "                };\n",
       "                \n",
       "            </script>\n",
       "        </div>\n",
       "</body>\n",
       "</html>"
      ]
     },
     "metadata": {
      "tags": []
     },
     "output_type": "display_data"
    }
   ],
   "source": [
    "df = pd.read_csv('gisaid_monthly_submit.csv')\n",
    "df[\"State\"] = df[\"Unnamed: 0\"]\n",
    "\n",
    "code = 'B.1.1.7'\n",
    "\n",
    "total_reports = []\n",
    "report_d = {}\n",
    "for index, row in df.iterrows():\n",
    "    if row['State'] not in to_code and row['State'] != \"New York\":\n",
    "        continue\n",
    "    elif row['State'] == \"New York\":\n",
    "        state = 'NY'\n",
    "    else:\n",
    "        state = to_code[row['State']]\n",
    "    total = row['country_total']\n",
    "    total_reports.append((state, total / 1000))\n",
    "    report_d[state] = total / 1000\n",
    "\n",
    "df = pd.DataFrame.from_dict(total_reports)\n",
    "df = df.rename(columns={0: \"State\", 1: \"Reports\"})\n",
    "\n",
    "fig = px.choropleth(df, locations=\"State\", locationmode=\"USA-states\", scope='usa',\n",
    "                    color=\"Reports\",\n",
    "                    color_continuous_scale=px.colors.sequential.Plasma,\n",
    "                    title = code)\n",
    "fig.show()\n"
   ]
  },
  {
   "cell_type": "code",
   "execution_count": 173,
   "metadata": {
    "colab": {
     "base_uri": "https://localhost:8080/"
    },
    "executionInfo": {
     "elapsed": 410,
     "status": "ok",
     "timestamp": 1622081057941,
     "user": {
      "displayName": "Andrew Ma",
      "photoUrl": "",
      "userId": "10282975094862396407"
     },
     "user_tz": 240
    },
    "id": "nydVe1CxhsBU",
    "outputId": "c80e116a-ce8c-4b55-83cb-a43cbcea0dce"
   },
   "outputs": [
    {
     "name": "stdout",
     "output_type": "stream",
     "text": [
      "[10.389, 29.863, 2.191, 1.114, 15.809, 2.813, 4.906, 11.435, 17.015, 25.213, 20.2, 1.855, 4.887, 8.849, 1.439, 7.336, 0.669, 13.623, 3.275, 0.555, 8.446, 8.554, 13.605, 7.24]\n",
      "[2.665, 1.739, 16.395, 56.269, 7.086, 1.76, 6.892, 5.704, 0.905, 1.809, 3.374, 2.94, 0.686, 3.847, 1.93, 12.417, 41.297, 7.152, 2.749, 3.874, 56.415, 0.985, 21.598, 4.772]\n",
      "9.220041666666665\n",
      "11.0525\n"
     ]
    }
   ],
   "source": [
    "high = []\n",
    "low = []\n",
    "\n",
    "for state, error in rem:\n",
    "    if error >= 0.08:\n",
    "        high.append(report_d[state])\n",
    "    else:\n",
    "        low.append(report_d[state])\n",
    "print(high)\n",
    "print(low)\n",
    "\n",
    "print(np.mean(high))\n",
    "print(np.mean(low))"
   ]
  }
 ],
 "metadata": {
  "colab": {
   "collapsed_sections": [],
   "name": "Final_Models.ipynb",
   "provenance": [],
   "toc_visible": true
  },
  "kernelspec": {
   "display_name": "Python 3",
   "language": "python",
   "name": "python3"
  },
  "language_info": {
   "codemirror_mode": {
    "name": "ipython",
    "version": 3
   },
   "file_extension": ".py",
   "mimetype": "text/x-python",
   "name": "python",
   "nbconvert_exporter": "python",
   "pygments_lexer": "ipython3",
   "version": "3.8.3"
  }
 },
 "nbformat": 4,
 "nbformat_minor": 4
}
