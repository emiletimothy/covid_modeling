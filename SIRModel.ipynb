{
  "nbformat": 4,
  "nbformat_minor": 0,
  "metadata": {
    "colab": {
      "name": "SIRModel.ipynb",
      "provenance": [],
      "collapsed_sections": [
        "rCO5IugSeENF",
        "7WijYQXcfmOk",
        "ym1JZgPwf0Hj",
        "9emtLD31vaBu"
      ]
    },
    "kernelspec": {
      "name": "python3",
      "display_name": "Python 3"
    },
    "language_info": {
      "name": "python"
    }
  },
  "cells": [
    {
      "cell_type": "markdown",
      "metadata": {
        "id": "-l48f9Mq8gzo"
      },
      "source": [
        "For organizational purposes, all the data used for training SIR models on this\n",
        "Colab uses data from Feb 1st onward in CA."
      ]
    },
    {
      "cell_type": "code",
      "metadata": {
        "id": "cSwLFIy-fbV2"
      },
      "source": [
        "import pandas as pd\n",
        "import matplotlib.pyplot as plt\n",
        "import numpy as np\n",
        "from datetime import datetime\n",
        "from datetime import date"
      ],
      "execution_count": null,
      "outputs": []
    },
    {
      "cell_type": "markdown",
      "metadata": {
        "id": "rCO5IugSeENF"
      },
      "source": [
        "# Load Data"
      ]
    },
    {
      "cell_type": "markdown",
      "metadata": {
        "id": "7WijYQXcfmOk"
      },
      "source": [
        "## Variants (Need to Update)"
      ]
    },
    {
      "cell_type": "code",
      "metadata": {
        "id": "pi6uueZuduX_"
      },
      "source": [
        "# Read from now deprecated variants database\n",
        "df = pd.read_csv('https://raw.githubusercontent.com/USATODAY/covid-variants/master/!combined.csv')"
      ],
      "execution_count": null,
      "outputs": []
    },
    {
      "cell_type": "code",
      "metadata": {
        "colab": {
          "base_uri": "https://localhost:8080/"
        },
        "id": "eE3vgdwUeIzW",
        "outputId": "d18d11ed-f92f-4e89-d5fb-5e034032f884"
      },
      "source": [
        "# Parse\n",
        "df.columns = ['Date', 'State', 'B.1.1.7', 'P.1', 'B.1.351', 'Total']\n",
        "states = list(set(df['State'].to_list()))\n",
        "states.sort()\n",
        "\n",
        "data_per_state = {}\n",
        "for state in states:\n",
        "  data_per_state[state] = df[df['State'] == state]\n",
        "  data_per_state[state] = data_per_state[state].reset_index(drop=True)\n",
        "\n",
        "# CA Data\n",
        "data_per_state['CA']"
      ],
      "execution_count": null,
      "outputs": [
        {
          "output_type": "execute_result",
          "data": {
            "text/html": [
              "<div>\n",
              "<style scoped>\n",
              "    .dataframe tbody tr th:only-of-type {\n",
              "        vertical-align: middle;\n",
              "    }\n",
              "\n",
              "    .dataframe tbody tr th {\n",
              "        vertical-align: top;\n",
              "    }\n",
              "\n",
              "    .dataframe thead th {\n",
              "        text-align: right;\n",
              "    }\n",
              "</style>\n",
              "<table border=\"1\" class=\"dataframe\">\n",
              "  <thead>\n",
              "    <tr style=\"text-align: right;\">\n",
              "      <th></th>\n",
              "      <th>Date</th>\n",
              "      <th>State</th>\n",
              "      <th>B.1.1.7</th>\n",
              "      <th>P.1</th>\n",
              "      <th>B.1.351</th>\n",
              "      <th>Total</th>\n",
              "    </tr>\n",
              "  </thead>\n",
              "  <tbody>\n",
              "    <tr>\n",
              "      <th>0</th>\n",
              "      <td>2021-01-08</td>\n",
              "      <td>CA</td>\n",
              "      <td>32</td>\n",
              "      <td>0</td>\n",
              "      <td>0</td>\n",
              "      <td>32</td>\n",
              "    </tr>\n",
              "    <tr>\n",
              "      <th>1</th>\n",
              "      <td>2021-01-12</td>\n",
              "      <td>CA</td>\n",
              "      <td>32</td>\n",
              "      <td>0</td>\n",
              "      <td>0</td>\n",
              "      <td>32</td>\n",
              "    </tr>\n",
              "    <tr>\n",
              "      <th>2</th>\n",
              "      <td>2021-01-14</td>\n",
              "      <td>CA</td>\n",
              "      <td>32</td>\n",
              "      <td>0</td>\n",
              "      <td>0</td>\n",
              "      <td>32</td>\n",
              "    </tr>\n",
              "    <tr>\n",
              "      <th>3</th>\n",
              "      <td>2021-01-19</td>\n",
              "      <td>CA</td>\n",
              "      <td>40</td>\n",
              "      <td>0</td>\n",
              "      <td>0</td>\n",
              "      <td>40</td>\n",
              "    </tr>\n",
              "    <tr>\n",
              "      <th>4</th>\n",
              "      <td>2021-01-20</td>\n",
              "      <td>CA</td>\n",
              "      <td>40</td>\n",
              "      <td>0</td>\n",
              "      <td>0</td>\n",
              "      <td>40</td>\n",
              "    </tr>\n",
              "    <tr>\n",
              "      <th>...</th>\n",
              "      <td>...</td>\n",
              "      <td>...</td>\n",
              "      <td>...</td>\n",
              "      <td>...</td>\n",
              "      <td>...</td>\n",
              "      <td>...</td>\n",
              "    </tr>\n",
              "    <tr>\n",
              "      <th>89</th>\n",
              "      <td>2021-04-15</td>\n",
              "      <td>CA</td>\n",
              "      <td>1001</td>\n",
              "      <td>41</td>\n",
              "      <td>18</td>\n",
              "      <td>1060</td>\n",
              "    </tr>\n",
              "    <tr>\n",
              "      <th>90</th>\n",
              "      <td>2021-04-16</td>\n",
              "      <td>CA</td>\n",
              "      <td>1001</td>\n",
              "      <td>41</td>\n",
              "      <td>18</td>\n",
              "      <td>1060</td>\n",
              "    </tr>\n",
              "    <tr>\n",
              "      <th>91</th>\n",
              "      <td>2021-04-17</td>\n",
              "      <td>CA</td>\n",
              "      <td>1001</td>\n",
              "      <td>41</td>\n",
              "      <td>18</td>\n",
              "      <td>1060</td>\n",
              "    </tr>\n",
              "    <tr>\n",
              "      <th>92</th>\n",
              "      <td>2021-04-18</td>\n",
              "      <td>CA</td>\n",
              "      <td>1001</td>\n",
              "      <td>41</td>\n",
              "      <td>18</td>\n",
              "      <td>1060</td>\n",
              "    </tr>\n",
              "    <tr>\n",
              "      <th>93</th>\n",
              "      <td>2021-04-19</td>\n",
              "      <td>CA</td>\n",
              "      <td>1001</td>\n",
              "      <td>41</td>\n",
              "      <td>18</td>\n",
              "      <td>1060</td>\n",
              "    </tr>\n",
              "  </tbody>\n",
              "</table>\n",
              "<p>94 rows × 6 columns</p>\n",
              "</div>"
            ],
            "text/plain": [
              "          Date State  B.1.1.7  P.1  B.1.351  Total\n",
              "0   2021-01-08    CA       32    0        0     32\n",
              "1   2021-01-12    CA       32    0        0     32\n",
              "2   2021-01-14    CA       32    0        0     32\n",
              "3   2021-01-19    CA       40    0        0     40\n",
              "4   2021-01-20    CA       40    0        0     40\n",
              "..         ...   ...      ...  ...      ...    ...\n",
              "89  2021-04-15    CA     1001   41       18   1060\n",
              "90  2021-04-16    CA     1001   41       18   1060\n",
              "91  2021-04-17    CA     1001   41       18   1060\n",
              "92  2021-04-18    CA     1001   41       18   1060\n",
              "93  2021-04-19    CA     1001   41       18   1060\n",
              "\n",
              "[94 rows x 6 columns]"
            ]
          },
          "metadata": {
            "tags": []
          },
          "execution_count": 4
        }
      ]
    },
    {
      "cell_type": "markdown",
      "metadata": {
        "id": "ym1JZgPwf0Hj"
      },
      "source": [
        "## General Vaccine Number"
      ]
    },
    {
      "cell_type": "code",
      "metadata": {
        "id": "1Y1jdeDzgHME"
      },
      "source": [
        "df = pd.read_csv('https://raw.githubusercontent.com/owid/covid-19-data/master/public/data/vaccinations/us_state_vaccinations.csv')"
      ],
      "execution_count": null,
      "outputs": []
    },
    {
      "cell_type": "code",
      "metadata": {
        "colab": {
          "base_uri": "https://localhost:8080/"
        },
        "id": "b6xjt8VHgPsz",
        "outputId": "92c7e4b7-4724-4679-a7c4-6f9cc74e1c05"
      },
      "source": [
        "states = list(set(df['location'].to_list()))\n",
        "states.sort()\n",
        "\n",
        "vaccine_data_per_state = {}\n",
        "for state in states:\n",
        "  vaccine_data_per_state[state] = df[df['location'] == state]\n",
        "  vaccine_data_per_state[state] = vaccine_data_per_state[state].reset_index(drop=True).dropna()\n",
        "\n",
        "vaccine_data_per_state['California']"
      ],
      "execution_count": null,
      "outputs": [
        {
          "output_type": "execute_result",
          "data": {
            "text/html": [
              "<div>\n",
              "<style scoped>\n",
              "    .dataframe tbody tr th:only-of-type {\n",
              "        vertical-align: middle;\n",
              "    }\n",
              "\n",
              "    .dataframe tbody tr th {\n",
              "        vertical-align: top;\n",
              "    }\n",
              "\n",
              "    .dataframe thead th {\n",
              "        text-align: right;\n",
              "    }\n",
              "</style>\n",
              "<table border=\"1\" class=\"dataframe\">\n",
              "  <thead>\n",
              "    <tr style=\"text-align: right;\">\n",
              "      <th></th>\n",
              "      <th>date</th>\n",
              "      <th>location</th>\n",
              "      <th>total_vaccinations</th>\n",
              "      <th>total_distributed</th>\n",
              "      <th>people_vaccinated</th>\n",
              "      <th>people_fully_vaccinated_per_hundred</th>\n",
              "      <th>total_vaccinations_per_hundred</th>\n",
              "      <th>people_fully_vaccinated</th>\n",
              "      <th>people_vaccinated_per_hundred</th>\n",
              "      <th>distributed_per_hundred</th>\n",
              "      <th>daily_vaccinations_raw</th>\n",
              "      <th>daily_vaccinations</th>\n",
              "      <th>daily_vaccinations_per_million</th>\n",
              "      <th>share_doses_used</th>\n",
              "    </tr>\n",
              "  </thead>\n",
              "  <tbody>\n",
              "    <tr>\n",
              "      <th>1</th>\n",
              "      <td>2021-01-13</td>\n",
              "      <td>California</td>\n",
              "      <td>891489.0</td>\n",
              "      <td>3435650.0</td>\n",
              "      <td>744545.0</td>\n",
              "      <td>0.34</td>\n",
              "      <td>2.26</td>\n",
              "      <td>133689.0</td>\n",
              "      <td>1.88</td>\n",
              "      <td>8.70</td>\n",
              "      <td>75188.00</td>\n",
              "      <td>75188.0</td>\n",
              "      <td>1903.0</td>\n",
              "      <td>0.259</td>\n",
              "    </tr>\n",
              "    <tr>\n",
              "      <th>3</th>\n",
              "      <td>2021-01-15</td>\n",
              "      <td>California</td>\n",
              "      <td>1072959.0</td>\n",
              "      <td>3548575.0</td>\n",
              "      <td>865387.0</td>\n",
              "      <td>0.52</td>\n",
              "      <td>2.72</td>\n",
              "      <td>204374.0</td>\n",
              "      <td>2.19</td>\n",
              "      <td>8.98</td>\n",
              "      <td>97666.00</td>\n",
              "      <td>85553.0</td>\n",
              "      <td>2165.0</td>\n",
              "      <td>0.302</td>\n",
              "    </tr>\n",
              "    <tr>\n",
              "      <th>7</th>\n",
              "      <td>2021-01-19</td>\n",
              "      <td>California</td>\n",
              "      <td>1460430.0</td>\n",
              "      <td>3548575.0</td>\n",
              "      <td>1195969.0</td>\n",
              "      <td>0.66</td>\n",
              "      <td>3.70</td>\n",
              "      <td>260838.0</td>\n",
              "      <td>3.03</td>\n",
              "      <td>8.98</td>\n",
              "      <td>96867.75</td>\n",
              "      <td>92018.0</td>\n",
              "      <td>2329.0</td>\n",
              "      <td>0.412</td>\n",
              "    </tr>\n",
              "    <tr>\n",
              "      <th>8</th>\n",
              "      <td>2021-01-20</td>\n",
              "      <td>California</td>\n",
              "      <td>1532329.0</td>\n",
              "      <td>4169450.0</td>\n",
              "      <td>1255311.0</td>\n",
              "      <td>0.69</td>\n",
              "      <td>3.88</td>\n",
              "      <td>273276.0</td>\n",
              "      <td>3.18</td>\n",
              "      <td>10.55</td>\n",
              "      <td>71899.00</td>\n",
              "      <td>91549.0</td>\n",
              "      <td>2317.0</td>\n",
              "      <td>0.368</td>\n",
              "    </tr>\n",
              "    <tr>\n",
              "      <th>9</th>\n",
              "      <td>2021-01-21</td>\n",
              "      <td>California</td>\n",
              "      <td>1633875.0</td>\n",
              "      <td>4379500.0</td>\n",
              "      <td>1335886.0</td>\n",
              "      <td>0.74</td>\n",
              "      <td>4.14</td>\n",
              "      <td>293834.0</td>\n",
              "      <td>3.38</td>\n",
              "      <td>11.08</td>\n",
              "      <td>101546.00</td>\n",
              "      <td>94083.0</td>\n",
              "      <td>2381.0</td>\n",
              "      <td>0.373</td>\n",
              "    </tr>\n",
              "    <tr>\n",
              "      <th>...</th>\n",
              "      <td>...</td>\n",
              "      <td>...</td>\n",
              "      <td>...</td>\n",
              "      <td>...</td>\n",
              "      <td>...</td>\n",
              "      <td>...</td>\n",
              "      <td>...</td>\n",
              "      <td>...</td>\n",
              "      <td>...</td>\n",
              "      <td>...</td>\n",
              "      <td>...</td>\n",
              "      <td>...</td>\n",
              "      <td>...</td>\n",
              "      <td>...</td>\n",
              "    </tr>\n",
              "    <tr>\n",
              "      <th>107</th>\n",
              "      <td>2021-04-29</td>\n",
              "      <td>California</td>\n",
              "      <td>29957450.0</td>\n",
              "      <td>38562350.0</td>\n",
              "      <td>19054735.0</td>\n",
              "      <td>29.86</td>\n",
              "      <td>75.82</td>\n",
              "      <td>11796688.0</td>\n",
              "      <td>48.22</td>\n",
              "      <td>97.60</td>\n",
              "      <td>317358.00</td>\n",
              "      <td>367495.0</td>\n",
              "      <td>9301.0</td>\n",
              "      <td>0.777</td>\n",
              "    </tr>\n",
              "    <tr>\n",
              "      <th>108</th>\n",
              "      <td>2021-04-30</td>\n",
              "      <td>California</td>\n",
              "      <td>30223491.0</td>\n",
              "      <td>38918500.0</td>\n",
              "      <td>19178415.0</td>\n",
              "      <td>30.23</td>\n",
              "      <td>76.49</td>\n",
              "      <td>11945441.0</td>\n",
              "      <td>48.54</td>\n",
              "      <td>98.50</td>\n",
              "      <td>266041.00</td>\n",
              "      <td>356625.0</td>\n",
              "      <td>9026.0</td>\n",
              "      <td>0.777</td>\n",
              "    </tr>\n",
              "    <tr>\n",
              "      <th>109</th>\n",
              "      <td>2021-05-01</td>\n",
              "      <td>California</td>\n",
              "      <td>30820835.0</td>\n",
              "      <td>39630080.0</td>\n",
              "      <td>19444906.0</td>\n",
              "      <td>31.08</td>\n",
              "      <td>78.00</td>\n",
              "      <td>12282199.0</td>\n",
              "      <td>49.21</td>\n",
              "      <td>100.30</td>\n",
              "      <td>597344.00</td>\n",
              "      <td>359825.0</td>\n",
              "      <td>9107.0</td>\n",
              "      <td>0.778</td>\n",
              "    </tr>\n",
              "    <tr>\n",
              "      <th>110</th>\n",
              "      <td>2021-05-02</td>\n",
              "      <td>California</td>\n",
              "      <td>31185031.0</td>\n",
              "      <td>39630080.0</td>\n",
              "      <td>19593097.0</td>\n",
              "      <td>31.65</td>\n",
              "      <td>78.93</td>\n",
              "      <td>12505853.0</td>\n",
              "      <td>49.59</td>\n",
              "      <td>100.30</td>\n",
              "      <td>364196.00</td>\n",
              "      <td>340912.0</td>\n",
              "      <td>8628.0</td>\n",
              "      <td>0.787</td>\n",
              "    </tr>\n",
              "    <tr>\n",
              "      <th>111</th>\n",
              "      <td>2021-05-03</td>\n",
              "      <td>California</td>\n",
              "      <td>31382140.0</td>\n",
              "      <td>39630080.0</td>\n",
              "      <td>19673364.0</td>\n",
              "      <td>31.96</td>\n",
              "      <td>79.42</td>\n",
              "      <td>12626301.0</td>\n",
              "      <td>49.79</td>\n",
              "      <td>100.30</td>\n",
              "      <td>197109.00</td>\n",
              "      <td>318725.0</td>\n",
              "      <td>8066.0</td>\n",
              "      <td>0.792</td>\n",
              "    </tr>\n",
              "  </tbody>\n",
              "</table>\n",
              "<p>106 rows × 14 columns</p>\n",
              "</div>"
            ],
            "text/plain": [
              "           date    location  ...  daily_vaccinations_per_million  share_doses_used\n",
              "1    2021-01-13  California  ...                          1903.0             0.259\n",
              "3    2021-01-15  California  ...                          2165.0             0.302\n",
              "7    2021-01-19  California  ...                          2329.0             0.412\n",
              "8    2021-01-20  California  ...                          2317.0             0.368\n",
              "9    2021-01-21  California  ...                          2381.0             0.373\n",
              "..          ...         ...  ...                             ...               ...\n",
              "107  2021-04-29  California  ...                          9301.0             0.777\n",
              "108  2021-04-30  California  ...                          9026.0             0.777\n",
              "109  2021-05-01  California  ...                          9107.0             0.778\n",
              "110  2021-05-02  California  ...                          8628.0             0.787\n",
              "111  2021-05-03  California  ...                          8066.0             0.792\n",
              "\n",
              "[106 rows x 14 columns]"
            ]
          },
          "metadata": {
            "tags": []
          },
          "execution_count": 6
        }
      ]
    },
    {
      "cell_type": "markdown",
      "metadata": {
        "id": "36SovuL6osH4"
      },
      "source": [
        "## Total Covid Cases"
      ]
    },
    {
      "cell_type": "code",
      "metadata": {
        "id": "OiWJMQhehvqw"
      },
      "source": [
        "df = pd.read_csv('https://raw.githubusercontent.com/CSSEGISandData/COVID-19/master/csse_covid_19_data/csse_covid_19_time_series/time_series_covid19_confirmed_US.csv')\n",
        "parse = list(df.columns)\n",
        "parse = list(filter(lambda x: '/21' in x and '/21/20' not in x, parse))\n",
        "df = df[['Province_State'] + parse]"
      ],
      "execution_count": null,
      "outputs": []
    },
    {
      "cell_type": "code",
      "metadata": {
        "colab": {
          "base_uri": "https://localhost:8080/",
          "height": 419
        },
        "id": "h_R89hBhhyiA",
        "outputId": "067896b9-4560-4626-d469-e7d84cff041d"
      },
      "source": [
        "cases_per_state = {}\n",
        "\n",
        "states = list(set(df['Province_State'].to_list()))\n",
        "states.sort()\n",
        "\n",
        "for state in states:\n",
        "  data = df[df['Province_State'] == state]\n",
        "  data = data.reset_index(drop=True)\n",
        "  data = data[parse]\n",
        "\n",
        "  cases_per_state[state] = pd.DataFrame(data.sum(axis=0)).reset_index()\n",
        "  cases_per_state[state].columns = ['Date', 'Total_Cases']\n",
        "\n",
        "cases_per_state['California']"
      ],
      "execution_count": null,
      "outputs": [
        {
          "output_type": "execute_result",
          "data": {
            "text/html": [
              "<div>\n",
              "<style scoped>\n",
              "    .dataframe tbody tr th:only-of-type {\n",
              "        vertical-align: middle;\n",
              "    }\n",
              "\n",
              "    .dataframe tbody tr th {\n",
              "        vertical-align: top;\n",
              "    }\n",
              "\n",
              "    .dataframe thead th {\n",
              "        text-align: right;\n",
              "    }\n",
              "</style>\n",
              "<table border=\"1\" class=\"dataframe\">\n",
              "  <thead>\n",
              "    <tr style=\"text-align: right;\">\n",
              "      <th></th>\n",
              "      <th>Date</th>\n",
              "      <th>Total_Cases</th>\n",
              "    </tr>\n",
              "  </thead>\n",
              "  <tbody>\n",
              "    <tr>\n",
              "      <th>0</th>\n",
              "      <td>1/1/21</td>\n",
              "      <td>2365024</td>\n",
              "    </tr>\n",
              "    <tr>\n",
              "      <th>1</th>\n",
              "      <td>1/2/21</td>\n",
              "      <td>2415246</td>\n",
              "    </tr>\n",
              "    <tr>\n",
              "      <th>2</th>\n",
              "      <td>1/3/21</td>\n",
              "      <td>2452262</td>\n",
              "    </tr>\n",
              "    <tr>\n",
              "      <th>3</th>\n",
              "      <td>1/4/21</td>\n",
              "      <td>2490518</td>\n",
              "    </tr>\n",
              "    <tr>\n",
              "      <th>4</th>\n",
              "      <td>1/5/21</td>\n",
              "      <td>2529480</td>\n",
              "    </tr>\n",
              "    <tr>\n",
              "      <th>...</th>\n",
              "      <td>...</td>\n",
              "      <td>...</td>\n",
              "    </tr>\n",
              "    <tr>\n",
              "      <th>117</th>\n",
              "      <td>4/28/21</td>\n",
              "      <td>3738327</td>\n",
              "    </tr>\n",
              "    <tr>\n",
              "      <th>118</th>\n",
              "      <td>4/29/21</td>\n",
              "      <td>3740038</td>\n",
              "    </tr>\n",
              "    <tr>\n",
              "      <th>119</th>\n",
              "      <td>4/30/21</td>\n",
              "      <td>3742115</td>\n",
              "    </tr>\n",
              "    <tr>\n",
              "      <th>120</th>\n",
              "      <td>5/1/21</td>\n",
              "      <td>3743681</td>\n",
              "    </tr>\n",
              "    <tr>\n",
              "      <th>121</th>\n",
              "      <td>5/2/21</td>\n",
              "      <td>3744937</td>\n",
              "    </tr>\n",
              "  </tbody>\n",
              "</table>\n",
              "<p>122 rows × 2 columns</p>\n",
              "</div>"
            ],
            "text/plain": [
              "        Date  Total_Cases\n",
              "0     1/1/21      2365024\n",
              "1     1/2/21      2415246\n",
              "2     1/3/21      2452262\n",
              "3     1/4/21      2490518\n",
              "4     1/5/21      2529480\n",
              "..       ...          ...\n",
              "117  4/28/21      3738327\n",
              "118  4/29/21      3740038\n",
              "119  4/30/21      3742115\n",
              "120   5/1/21      3743681\n",
              "121   5/2/21      3744937\n",
              "\n",
              "[122 rows x 2 columns]"
            ]
          },
          "metadata": {
            "tags": []
          },
          "execution_count": 8
        }
      ]
    },
    {
      "cell_type": "markdown",
      "metadata": {
        "id": "dpfePpeZlIsj"
      },
      "source": [
        "## Convert to Time Series for SIR Model"
      ]
    },
    {
      "cell_type": "code",
      "metadata": {
        "id": "vmacdbV8nLC4"
      },
      "source": [
        "# Start Date for data recording\n",
        "start_date = date(2021, 2, 1)"
      ],
      "execution_count": null,
      "outputs": []
    },
    {
      "cell_type": "code",
      "metadata": {
        "colab": {
          "base_uri": "https://localhost:8080/"
        },
        "id": "AgVCei-ZlNsi",
        "outputId": "abfb4767-5d6f-4ae7-df1d-967f25dfa779"
      },
      "source": [
        "vac_t = {}\n",
        "\n",
        "for index, row in vaccine_data_per_state['California'].iterrows():\n",
        "  cur_date = row['date']\n",
        "  cur_date = datetime.strptime(cur_date, \"%Y-%m-%d\").date()\n",
        "  diff = cur_date - start_date\n",
        "  vac_t[diff.days] = row['total_vaccinations']\n",
        "\n",
        "print(vac_t)"
      ],
      "execution_count": null,
      "outputs": [
        {
          "output_type": "stream",
          "text": [
            "{-19: 891489.0, -17: 1072959.0, -13: 1460430.0, -12: 1532329.0, -11: 1633875.0, -10: 1803679.0, -9: 2008220.0, -8: 2199908.0, -7: 2330633.0, -6: 2446577.0, -5: 2579666.0, -4: 2746876.0, -3: 2910562.0, -2: 3095781.0, -1: 3285351.0, 0: 3453284.0, 1: 3543817.0, 2: 3671316.0, 3: 3723803.0, 4: 3920632.0, 5: 4137600.0, 6: 4485166.0, 7: 4682862.0, 8: 4784478.0, 9: 4957297.0, 10: 5134864.0, 11: 5341104.0, 12: 5562553.0, 13: 5820388.0, 15: 6210992.0, 16: 6323011.0, 17: 6496140.0, 18: 6964603.0, 19: 7201713.0, 20: 7453468.0, 21: 7604725.0, 22: 7728120.0, 23: 7876011.0, 24: 8064121.0, 25: 8310945.0, 26: 8566470.0, 27: 8821044.0, 28: 9106077.0, 29: 9497125.0, 30: 9731169.0, 31: 9860209.0, 32: 10071476.0, 33: 10415023.0, 34: 10634752.0, 35: 10805474.0, 36: 10925581.0, 37: 11062505.0, 38: 11220508.0, 39: 11428034.0, 40: 11881857.0, 41: 11883375.0, 42: 12306608.0, 43: 12686451.0, 44: 13161027.0, 45: 13563094.0, 46: 13882984.0, 47: 14276125.0, 48: 14708175.0, 49: 15050673.0, 50: 15349039.0, 51: 15691888.0, 52: 16062266.0, 53: 16527440.0, 54: 16944916.0, 55: 17335016.0, 56: 17703550.0, 57: 17922091.0, 58: 18223412.0, 59: 18604164.0, 60: 18985902.0, 61: 19449615.0, 62: 19962420.0, 63: 20309146.0, 64: 20485651.0, 65: 20865892.0, 66: 21243518.0, 67: 21725654.0, 68: 22281619.0, 69: 22754163.0, 70: 23031055.0, 71: 23227199.0, 72: 23721226.0, 73: 24242205.0, 74: 25047682.0, 75: 25569748.0, 76: 26092008.0, 77: 26435308.0, 78: 26689222.0, 79: 27013516.0, 80: 27384986.0, 81: 27727113.0, 82: 28302062.0, 83: 28798648.0, 84: 29151065.0, 85: 29372925.0, 86: 29640092.0, 87: 29957450.0, 88: 30223491.0, 89: 30820835.0, 90: 31185031.0, 91: 31382140.0}\n"
          ],
          "name": "stdout"
        }
      ]
    },
    {
      "cell_type": "code",
      "metadata": {
        "colab": {
          "base_uri": "https://localhost:8080/"
        },
        "id": "letpxuePnHIh",
        "outputId": "cf840a86-9c22-4f45-a8e9-b897f1e0bb03"
      },
      "source": [
        "var_t = {}\n",
        "\n",
        "for index, row in data_per_state['CA'].iterrows():\n",
        "  cur_date = row['Date']\n",
        "  cur_date = datetime.strptime(cur_date, \"%Y-%m-%d\").date()\n",
        "  diff = cur_date - start_date\n",
        "  var_t[diff.days] = [max(row['B.1.1.7'], 1), max(row['P.1'], 1), max(row['B.1.351'], 1)]\n",
        "\n",
        "print(var_t)"
      ],
      "execution_count": null,
      "outputs": [
        {
          "output_type": "stream",
          "text": [
            "{-24: [32, 1, 1], -20: [32, 1, 1], -18: [32, 1, 1], -13: [40, 1, 1], -12: [40, 1, 1], -11: [40, 1, 1], -10: [72, 1, 1], -9: [72, 1, 1], -8: [72, 1, 1], -7: [90, 1, 1], -6: [90, 1, 1], -5: [92, 1, 1], -4: [92, 1, 1], -3: [113, 1, 1], -2: [113, 1, 1], -1: [113, 1, 1], 0: [113, 1, 1], 1: [127, 1, 1], 2: [127, 1, 1], 3: [145, 1, 1], 4: [145, 1, 1], 5: [145, 1, 1], 6: [150, 1, 1], 7: [150, 1, 1], 8: [156, 1, 1], 9: [156, 1, 1], 10: [159, 1, 2], 11: [159, 1, 2], 12: [159, 1, 2], 13: [186, 1, 2], 14: [186, 1, 2], 15: [186, 1, 2], 16: [186, 1, 2], 17: [195, 1, 2], 18: [195, 1, 2], 19: [195, 1, 2], 20: [195, 1, 2], 21: [195, 1, 2], 22: [204, 1, 2], 23: [204, 1, 2], 24: [204, 1, 2], 25: [204, 1, 2], 26: [204, 1, 2], 27: [206, 1, 3], 28: [206, 1, 3], 29: [212, 1, 3], 30: [212, 1, 3], 31: [250, 1, 3], 32: [250, 1, 3], 33: [250, 1, 3], 34: [262, 1, 3], 35: [262, 1, 3], 36: [262, 1, 3], 37: [262, 1, 3], 38: [262, 1, 3], 39: [262, 1, 3], 40: [262, 1, 3], 41: [343, 1, 3], 42: [343, 1, 3], 43: [375, 1, 4], 44: [375, 1, 4], 45: [413, 1, 4], 46: [413, 1, 4], 47: [413, 1, 4], 48: [471, 4, 4], 49: [471, 4, 4], 50: [471, 4, 4], 51: [471, 4, 4], 52: [471, 4, 4], 53: [471, 4, 4], 54: [471, 4, 4], 55: [563, 7, 6], 56: [563, 7, 6], 57: [822, 33, 10], 58: [822, 33, 10], 59: [822, 33, 10], 60: [822, 33, 10], 61: [822, 33, 10], 62: [873, 34, 10], 63: [873, 34, 10], 64: [873, 34, 10], 65: [873, 34, 10], 66: [980, 39, 14], 67: [980, 39, 14], 68: [980, 39, 14], 69: [1001, 41, 18], 70: [1001, 41, 18], 71: [1001, 41, 18], 72: [1001, 41, 18], 73: [1001, 41, 18], 74: [1001, 41, 18], 75: [1001, 41, 18], 76: [1001, 41, 18], 77: [1001, 41, 18]}\n"
          ],
          "name": "stdout"
        }
      ]
    },
    {
      "cell_type": "code",
      "metadata": {
        "colab": {
          "base_uri": "https://localhost:8080/"
        },
        "id": "rsLFBj-eoyGw",
        "outputId": "445baf57-2b22-4c88-d5e7-8738d880598e"
      },
      "source": [
        "cases_t = {}\n",
        "\n",
        "for index, row in cases_per_state['California'].iterrows():\n",
        "  cur_date = row['Date']\n",
        "  cur_date = datetime.strptime(cur_date, '%m/%d/%y').date()\n",
        "  diff = cur_date - start_date\n",
        "  cases_t[diff.days] = row['Total_Cases']\n",
        "\n",
        "print(cases_t)"
      ],
      "execution_count": null,
      "outputs": [
        {
          "output_type": "stream",
          "text": [
            "{-31: 2365024, -30: 2415246, -29: 2452262, -28: 2490518, -27: 2529480, -26: 2567843, -25: 2609088, -24: 2653925, -23: 2704483, -22: 2744008, -21: 2784716, -20: 2832085, -19: 2870104, -18: 2910044, -17: 2948054, -16: 2983149, -15: 3014428, -14: 3043005, -13: 3078551, -12: 3097632, -11: 3122705, -10: 3147207, -9: 3168028, -8: 3187475, -7: 3213222, -6: 3235045, -5: 3251292, -4: 3273905, -3: 3293531, -2: 3310949, -1: 3324264, 0: 3342647, 1: 3355781, 2: 3368281, 3: 3382932, 4: 3399745, 5: 3408241, 6: 3417982, 7: 3432088, 8: 3442672, 9: 3451176, 10: 3461753, 11: 3471311, 12: 3480228, 13: 3485841, 14: 3491392, 15: 3499871, 16: 3506402, 17: 3512396, 18: 3521225, 19: 3527338, 20: 3531846, 21: 3536946, 22: 3543340, 23: 3549090, 24: 3554629, 25: 3559682, 26: 3564094, 27: 3567582, 28: 3573549, 29: 3577966, 30: 3582320, 31: 3587567, 32: 3592560, 33: 3596760, 34: 3599311, 35: 3602445, 36: 3607891, 37: 3611295, 38: 3614852, 39: 3618976, 40: 3620890, 41: 3623063, 42: 3626027, 43: 3628300, 44: 3631572, 45: 3635179, 46: 3638212, 47: 3640524, 48: 3641876, 49: 3645303, 50: 3647808, 51: 3650638, 52: 3653168, 53: 3656610, 54: 3658714, 55: 3660713, 56: 3663913, 57: 3666266, 58: 3668745, 59: 3671349, 60: 3675191, 61: 3676183, 62: 3676873, 63: 3682861, 64: 3685045, 65: 3687493, 66: 3690031, 67: 3693674, 68: 3696980, 69: 3700471, 70: 3704070, 71: 3706629, 72: 3708716, 73: 3711723, 74: 3714587, 75: 3716579, 76: 3718210, 77: 3720901, 78: 3723446, 79: 3725088, 80: 3727913, 81: 3729116, 82: 3731145, 83: 3731770, 84: 3734562, 85: 3736745, 86: 3738327, 87: 3740038, 88: 3742115, 89: 3743681, 90: 3744937}\n"
          ],
          "name": "stdout"
        }
      ]
    },
    {
      "cell_type": "code",
      "metadata": {
        "colab": {
          "base_uri": "https://localhost:8080/"
        },
        "id": "L9qJU2Gxp20c",
        "outputId": "826e1a51-30f7-419d-bc94-35f7fafabf26"
      },
      "source": [
        "case_c_t = []\n",
        "\n",
        "for v in var_t:\n",
        "  if v < 0:\n",
        "    continue\n",
        "  cases = cases_t[v]\n",
        "  case_c_t.append([v] + var_t[v] + [cases - sum(var_t[v])])\n",
        "\n",
        "print(case_c_t)"
      ],
      "execution_count": null,
      "outputs": [
        {
          "output_type": "stream",
          "text": [
            "[[0, 113, 1, 1, 3342532], [1, 127, 1, 1, 3355652], [2, 127, 1, 1, 3368152], [3, 145, 1, 1, 3382785], [4, 145, 1, 1, 3399598], [5, 145, 1, 1, 3408094], [6, 150, 1, 1, 3417830], [7, 150, 1, 1, 3431936], [8, 156, 1, 1, 3442514], [9, 156, 1, 1, 3451018], [10, 159, 1, 2, 3461591], [11, 159, 1, 2, 3471149], [12, 159, 1, 2, 3480066], [13, 186, 1, 2, 3485652], [14, 186, 1, 2, 3491203], [15, 186, 1, 2, 3499682], [16, 186, 1, 2, 3506213], [17, 195, 1, 2, 3512198], [18, 195, 1, 2, 3521027], [19, 195, 1, 2, 3527140], [20, 195, 1, 2, 3531648], [21, 195, 1, 2, 3536748], [22, 204, 1, 2, 3543133], [23, 204, 1, 2, 3548883], [24, 204, 1, 2, 3554422], [25, 204, 1, 2, 3559475], [26, 204, 1, 2, 3563887], [27, 206, 1, 3, 3567372], [28, 206, 1, 3, 3573339], [29, 212, 1, 3, 3577750], [30, 212, 1, 3, 3582104], [31, 250, 1, 3, 3587313], [32, 250, 1, 3, 3592306], [33, 250, 1, 3, 3596506], [34, 262, 1, 3, 3599045], [35, 262, 1, 3, 3602179], [36, 262, 1, 3, 3607625], [37, 262, 1, 3, 3611029], [38, 262, 1, 3, 3614586], [39, 262, 1, 3, 3618710], [40, 262, 1, 3, 3620624], [41, 343, 1, 3, 3622716], [42, 343, 1, 3, 3625680], [43, 375, 1, 4, 3627920], [44, 375, 1, 4, 3631192], [45, 413, 1, 4, 3634761], [46, 413, 1, 4, 3637794], [47, 413, 1, 4, 3640106], [48, 471, 4, 4, 3641397], [49, 471, 4, 4, 3644824], [50, 471, 4, 4, 3647329], [51, 471, 4, 4, 3650159], [52, 471, 4, 4, 3652689], [53, 471, 4, 4, 3656131], [54, 471, 4, 4, 3658235], [55, 563, 7, 6, 3660137], [56, 563, 7, 6, 3663337], [57, 822, 33, 10, 3665401], [58, 822, 33, 10, 3667880], [59, 822, 33, 10, 3670484], [60, 822, 33, 10, 3674326], [61, 822, 33, 10, 3675318], [62, 873, 34, 10, 3675956], [63, 873, 34, 10, 3681944], [64, 873, 34, 10, 3684128], [65, 873, 34, 10, 3686576], [66, 980, 39, 14, 3688998], [67, 980, 39, 14, 3692641], [68, 980, 39, 14, 3695947], [69, 1001, 41, 18, 3699411], [70, 1001, 41, 18, 3703010], [71, 1001, 41, 18, 3705569], [72, 1001, 41, 18, 3707656], [73, 1001, 41, 18, 3710663], [74, 1001, 41, 18, 3713527], [75, 1001, 41, 18, 3715519], [76, 1001, 41, 18, 3717150], [77, 1001, 41, 18, 3719841]]\n"
          ],
          "name": "stdout"
        }
      ]
    },
    {
      "cell_type": "markdown",
      "metadata": {
        "id": "UtXuWGqCq93G"
      },
      "source": [
        "## Curve Fit Vaccinations"
      ]
    },
    {
      "cell_type": "markdown",
      "metadata": {
        "id": "A2h9OPtNLWJK"
      },
      "source": [
        "Here we fit the cumulative vaccination curve to a logistic curve that allows\n",
        "us to estimate the transfer in between susceptible and vaccinated nodes without needing an extra parameter."
      ]
    },
    {
      "cell_type": "code",
      "metadata": {
        "colab": {
          "base_uri": "https://localhost:8080/",
          "height": 302
        },
        "id": "JCi28sfDq89z",
        "outputId": "74aa162b-2d31-42bb-fd72-95192bde2dd8"
      },
      "source": [
        "x = list(filter(lambda x: x >= 0, [v for v in vac_t]))\n",
        "print(x)\n",
        "y = [vac_t[v] / 1e7 for v in x]\n",
        "plt.plot(x, y)\n",
        "plt.show()"
      ],
      "execution_count": null,
      "outputs": [
        {
          "output_type": "stream",
          "text": [
            "[0, 1, 2, 3, 4, 5, 6, 7, 8, 9, 10, 11, 12, 13, 15, 16, 17, 18, 19, 20, 21, 22, 23, 24, 25, 26, 27, 28, 29, 30, 31, 32, 33, 34, 35, 36, 37, 38, 39, 40, 41, 42, 43, 44, 45, 46, 47, 48, 49, 50, 51, 52, 53, 54, 55, 56, 57, 58, 59, 60, 61, 62, 63, 64, 65, 66, 67, 68, 69, 70, 71, 72, 73, 74, 75, 76, 77, 78, 79, 80, 81, 82, 83, 84, 85, 86, 87, 88, 89, 90, 91]\n"
          ],
          "name": "stdout"
        },
        {
          "output_type": "display_data",
          "data": {
            "image/png": "[encoded data removed]",
            "text/plain": [
              "<Figure size 432x288 with 1 Axes>"
            ]
          },
          "metadata": {
            "tags": [],
            "needs_background": "light"
          }
        }
      ]
    },
    {
      "cell_type": "code",
      "metadata": {
        "colab": {
          "base_uri": "https://localhost:8080/",
          "height": 347
        },
        "id": "blL_RyCMr_pN",
        "outputId": "0d2fb38a-b2b7-47ac-8260-679b53aa5c5a"
      },
      "source": [
        "from scipy.optimize import curve_fit\n",
        "\n",
        "n = 3.951\n",
        "\n",
        "def logifunc(x, x0, k, off):\n",
        "  return n / (1 + np.exp(-k*(x-x0))) + off\n",
        "\n",
        "fit = curve_fit(logifunc, x, y, p0=[10, 10, 1.2e7])\n",
        "print(fit[0])\n",
        "\n",
        "xs = np.linspace(0, 160, 400)\n",
        "ys = [logifunc(x, fit[0][0], fit[0][1], fit[0][2]) for x in xs]\n",
        "plt.plot(xs, ys)\n",
        "plt.plot(x, y)\n",
        "plt.legend(['Logistic Curve', 'Actual Curve'])\n",
        "plt.ylabel('Vaccinations in Tens of Millions')\n",
        "plt.xlabel('Days')\n",
        "plt.show()\n",
        "\n",
        "vac_fit = fit[0]\n",
        "logifunc(0, vac_fit[0], vac_fit[1], vac_fit[2])"
      ],
      "execution_count": null,
      "outputs": [
        {
          "output_type": "stream",
          "text": [
            "/usr/local/lib/python3.7/dist-packages/ipykernel_launcher.py:6: RuntimeWarning: overflow encountered in exp\n",
            "  \n"
          ],
          "name": "stderr"
        },
        {
          "output_type": "stream",
          "text": [
            "[6.52602116e+01 4.14397844e-02 1.68664061e-01]\n"
          ],
          "name": "stdout"
        },
        {
          "output_type": "display_data",
          "data": {
            "image/png": "[encoded data removed]",
            "text/plain": [
              "<Figure size 432x288 with 1 Axes>"
            ]
          },
          "metadata": {
            "tags": [],
            "needs_background": "light"
          }
        },
        {
          "output_type": "execute_result",
          "data": {
            "text/plain": [
              "0.41645512373515703"
            ]
          },
          "metadata": {
            "tags": []
          },
          "execution_count": 15
        }
      ]
    },
    {
      "cell_type": "code",
      "metadata": {
        "colab": {
          "base_uri": "https://localhost:8080/"
        },
        "id": "9z1b7AoZIfKk",
        "outputId": "9fc9258f-6e1b-48a2-da83-07374568fc95"
      },
      "source": [
        "def vaccine_curve(t):\n",
        "  return 1e7 * logifunc(t, vac_fit[0], vac_fit[1], vac_fit[2])\n",
        "\n",
        "def num_vac_slope(t, delta=1):\n",
        "  return (vaccine_curve(t + delta) - vaccine_curve(t)) / (delta)\n",
        "\n",
        "print(num_vac_slope(0))"
      ],
      "execution_count": null,
      "outputs": [
        {
          "output_type": "stream",
          "text": [
            "98006.08248357382\n"
          ],
          "name": "stdout"
        }
      ]
    },
    {
      "cell_type": "code",
      "metadata": {
        "id": "aammq4eyLq0Q"
      },
      "source": [
        "from scipy.integrate import odeint"
      ],
      "execution_count": null,
      "outputs": []
    },
    {
      "cell_type": "markdown",
      "metadata": {
        "id": "9emtLD31vaBu"
      },
      "source": [
        "## Initial Conditons"
      ]
    },
    {
      "cell_type": "markdown",
      "metadata": {
        "id": "qQZksLifLnbO"
      },
      "source": [
        "Set initial conditions for the differential equations"
      ]
    },
    {
      "cell_type": "code",
      "metadata": {
        "colab": {
          "base_uri": "https://localhost:8080/"
        },
        "id": "v_Q-481OiQWo",
        "outputId": "4a53fc6e-02b7-459d-d8c0-2983984da2b2"
      },
      "source": [
        "N = 3.951e7\n",
        "\n",
        "# Difference with total cases \"num\" days before to get number of infected\n",
        "num = 10\n",
        "closest_var_value_before = var_t.get(-num, var_t[min(var_t.keys(), key=lambda k: abs(k-num))])\n",
        "closest_var_value_cur = var_t.get(0, var_t[min(var_t.keys(), key=lambda k: abs(k))])\n",
        "cur_vars = []\n",
        "for i in range(len(closest_var_value_cur)):\n",
        "  cur_vars.append(closest_var_value_cur[i] - closest_var_value_before[i])\n",
        "\n",
        "# At least one case needs to be out there or else model will never predict any\n",
        "IB17_0 = max(cur_vars[0], 1)\n",
        "IP_0 = max(cur_vars[1], 1)\n",
        "IB135_0 = max(cur_vars[2], 1)\n",
        "print(\"Variants\")\n",
        "print(IB17_0, IP_0, IB135_0)\n",
        "\n",
        "# Recovered from each variant must then be the rest\n",
        "print(\"Recovered Variants\")\n",
        "RB17_0 = closest_var_value_before[0]\n",
        "RP_0 = closest_var_value_before[1]\n",
        "RB135_0 = closest_var_value_before[2]\n",
        "print(RB17_0, RP_0, RB135_0)\n",
        "\n",
        "# Get generic variants by subtracting out special variants from total cases\n",
        "IN_0 = cases_t[0] - cases_t[-num]\n",
        "IN_0 -= IB17_0 + IP_0 + IB135_0\n",
        "print(\"Generic\")\n",
        "print(IN_0)\n",
        "\n",
        "# Recovered must then be all cases from 7 days ago (assuming 7 days to recover)\n",
        "# Subtract variants recoveries\n",
        "RN_0 = cases_t[-num] - RB17_0 - RP_0 - RB135_0\n",
        "print(\"Recovered\")\n",
        "print(RN_0)\n",
        "\n",
        "# Get number of people already vaccinated\n",
        "V_0 = vac_t[0]\n",
        "print(\"Vaccinated\")\n",
        "print(V_0)\n",
        "\n",
        "# Susceptible is then the remaining of the population\n",
        "S_0 = N - V_0 - RN_0 - RB17_0 - RP_0 - RB135_0 - IN_0 - IB17_0 - IP_0 - IB135_0\n",
        "print(\"Susceptible\")\n",
        "print(S_0)"
      ],
      "execution_count": null,
      "outputs": [
        {
          "output_type": "stream",
          "text": [
            "Variants\n",
            "41 1 1\n",
            "Recovered Variants\n",
            "72 1 1\n",
            "Generic\n",
            "195397\n",
            "Recovered\n",
            "3147133\n",
            "Vaccinated\n",
            "3453284.0\n",
            "Susceptible\n",
            "32714069.0\n"
          ],
          "name": "stdout"
        }
      ]
    },
    {
      "cell_type": "markdown",
      "metadata": {
        "id": "_vHpRHNSMO98"
      },
      "source": [
        "## Sanity Check"
      ]
    },
    {
      "cell_type": "code",
      "metadata": {
        "id": "NapXmrZNMNpp"
      },
      "source": [
        "# Define the derivatives for the differential equation\n",
        "def deriv(y, t, b, g):\n",
        "  S, I, R = y\n",
        "  dSdt = -(b * I * S / N)\n",
        "  dINdt = (b * I * S / N) - g * I\n",
        "  dRNdt = g * I\n",
        "  return dSdt, dINdt, dRNdt"
      ],
      "execution_count": null,
      "outputs": []
    },
    {
      "cell_type": "code",
      "metadata": {
        "colab": {
          "base_uri": "https://localhost:8080/"
        },
        "id": "Wag-bo0bM2vp",
        "outputId": "b92a8f20-d698-4a24-f659-f3b2dc4be5a8"
      },
      "source": [
        "# Function to predict the cumulative number of Covid cases\n",
        "def predict_curve(t, b, g):\n",
        "  ret = odeint(deriv, y0, t, args=(b, g))\n",
        "  S, I, R = ret.T\n",
        "  return I + R\n",
        "\n",
        "# Set initial conditions\n",
        "y0 = S_0, IN_0, RN_0\n",
        "\n",
        "# Get expected x and y values (day and number of cases)\n",
        "expected_x = list(filter(lambda x: x >= 0, [v for v in var_t]))\n",
        "expected_v_y = [sum(var_t[v]) for v in expected_x]\n",
        "expected_n_y = [cases_t[v] for v in expected_x]\n",
        "\n",
        "# Find the curve that best fits the expected_x and expected_n_y\n",
        "fit = curve_fit(predict_curve, expected_x, expected_n_y, bounds=(0, 1))\n",
        "print(fit[0])\n",
        "\n",
        "# Get and plot results\n",
        "ret = odeint(deriv, y0, expected_x, args=tuple(fit[0]))\n",
        "S, I, R = ret.T\n",
        "\n",
        "plt.plot(expected_x, I + R)\n",
        "plt.plot(expected_x, expected_n_y)\n",
        "plt.show()"
      ],
      "execution_count": null,
      "outputs": [
        {
          "output_type": "stream",
          "text": [
            "[0.07705771 0.09472291]\n"
          ],
          "name": "stdout"
        },
        {
          "output_type": "display_data",
          "data": {
            "image/png": "[encoded data removed]",
            "text/plain": [
              "<Figure size 432x288 with 1 Axes>"
            ]
          },
          "metadata": {
            "tags": [],
            "needs_background": "light"
          }
        }
      ]
    },
    {
      "cell_type": "markdown",
      "metadata": {
        "id": "H5kMZ_sHyEY4"
      },
      "source": [
        "# SIR General Variants (2 I's)"
      ]
    },
    {
      "cell_type": "markdown",
      "metadata": {
        "id": "iyfOyuYIGZR3"
      },
      "source": [
        "1.   S (Susceptible)\n",
        "2.   V (Vaccinated)\n",
        "3.   IN (Infected, Normal)\n",
        "4.   IV (Infected, Variant)\n",
        "5.   RN (Recovered, Normal)\n",
        "6.   RV (Recovered, Variant)\n",
        "\n",
        "\n",
        "\n"
      ]
    },
    {
      "cell_type": "markdown",
      "metadata": {
        "id": "gdZkD02aG3zW"
      },
      "source": [
        "Let V_f be the fitted curve for vaccination. The differential equations are:\n",
        "\n",
        "1.   dS/dt = -dV_f(t)/dt - b1 * IN * S / N - b2 * IV * S / N\n",
        "2.   dV/dt = dV_f(t)/dt - m1 * IN * V / N - m2 * IV * V / N\n",
        "3.   dIN/dt = b1 * IN * S / N + m1 * IN * V / N - g * IN\n",
        "4.   dIV/dt = b2 * IN * S / N + m2 * IN * V / N - g * IV\n",
        "5.   dRN/dt = g * IN\n",
        "6.   dRV/dt = g * IV\n",
        "\n",
        "Assuming b's and g's are the same for IV and IN to R. Manually set g."
      ]
    },
    {
      "cell_type": "code",
      "metadata": {
        "id": "54DTtsCJC2d9",
        "colab": {
          "base_uri": "https://localhost:8080/"
        },
        "outputId": "37a2f93a-2a83-4716-af4b-6eab91dbe8e9"
      },
      "source": [
        "IV_0 = IB17_0 + IP_0 + IB135_0\n",
        "print(IV_0)\n",
        "\n",
        "RV_0 = RB17_0 + RP_0 + RB135_0\n",
        "print(RV_0)"
      ],
      "execution_count": null,
      "outputs": [
        {
          "output_type": "stream",
          "text": [
            "43\n",
            "74\n"
          ],
          "name": "stdout"
        }
      ]
    },
    {
      "cell_type": "code",
      "metadata": {
        "id": "6LJoXEiWF6Ik"
      },
      "source": [
        "# Define gamma as the expected number of days until recovery\n",
        "g = 1/num\n",
        "\n",
        "# Define differential equations\n",
        "def deriv(y, t, b1, b2, m1, m2):\n",
        "  S, V, IN, IV, RN, RV = y\n",
        "  dSdt = -num_vac_slope(t) - (b1 * IN * S / N) - (b2 * IV * S / N)\n",
        "  dVdt = num_vac_slope(t) - (m1 * IN * V / N) - (m2 * IV * V / N)\n",
        "  dINdt = (b1 * IN * S / N) + (m1 * IN * V / N) - g * IN\n",
        "  dIVdt = (b2 * IV * S / N) + (m2 * IV * V / N) - g * IV\n",
        "  dRNdt = g * IN\n",
        "  dRVdt = g * IV\n",
        "  return dSdt, dVdt, dINdt, dIVdt, dRNdt, dRVdt"
      ],
      "execution_count": null,
      "outputs": []
    },
    {
      "cell_type": "code",
      "metadata": {
        "id": "8xlf2xXXLR1M",
        "colab": {
          "base_uri": "https://localhost:8080/",
          "height": 524
        },
        "outputId": "fd7c9839-6be9-4604-c666-8de8ade9f328"
      },
      "source": [
        "# Test\n",
        "\n",
        "ts = np.linspace(0, 100, 100)\n",
        "\n",
        "y0 = S_0, V_0, IN_0, IV_0, RN_0, RV_0\n",
        "\n",
        "b1 = 0.3\n",
        "b2 = 0.3\n",
        "m1 = 0.1\n",
        "m2 = 0.2\n",
        "\n",
        "ret = odeint(deriv, y0, ts, args=(b1, b2, m1, m2))\n",
        "S, V, IN, IV, RN, RV = ret.T\n",
        "plt.plot(IV + RV)\n",
        "plt.show()\n",
        "\n",
        "plt.plot(IN + RN)\n",
        "plt.show()"
      ],
      "execution_count": null,
      "outputs": [
        {
          "output_type": "display_data",
          "data": {
            "image/png": "[encoded data removed]",
            "text/plain": [
              "<Figure size 432x288 with 1 Axes>"
            ]
          },
          "metadata": {
            "tags": [],
            "needs_background": "light"
          }
        },
        {
          "output_type": "display_data",
          "data": {
            "image/png": "[encoded data removed]",
            "text/plain": [
              "<Figure size 432x288 with 1 Axes>"
            ]
          },
          "metadata": {
            "tags": [],
            "needs_background": "light"
          }
        }
      ]
    },
    {
      "cell_type": "code",
      "metadata": {
        "id": "sdY4m2DONyUc",
        "colab": {
          "base_uri": "https://localhost:8080/",
          "height": 541
        },
        "outputId": "f9178523-7162-4bea-f570-4db2fbbeae85"
      },
      "source": [
        "# Predict curve (can predict either variant or normal curve)\n",
        "def predict_var_t_curve(t, b1, b2, m1, m2):\n",
        "  ret = odeint(deriv, y0, t, args=(b1, b2, m1, m2))\n",
        "  S, V, IN, IV, RN, RV = ret.T\n",
        "  return IN + RN\n",
        "\n",
        "# Get actual data points\n",
        "expected_x = list(filter(lambda x: x >= 0, [v for v in var_t]))\n",
        "expected_v_y = [sum(var_t[v]) for v in expected_x]\n",
        "expected_n_y = [cases_t[v] for v in expected_x]\n",
        "\n",
        "\n",
        "# Find best parameters that match either variant or normal curve\n",
        "fit = curve_fit(predict_var_t_curve, expected_x, expected_n_y, bounds=(0, 1))\n",
        "print(fit[0])\n",
        "\n",
        "# Get and plot result\n",
        "ret = odeint(deriv, y0, expected_x, args=tuple(fit[0]))\n",
        "S, V, IN, IV, RN, RV = ret.T\n",
        "plt.plot(expected_x, IV + RV)\n",
        "plt.plot(expected_x, expected_v_y)\n",
        "plt.show()\n",
        "\n",
        "plt.plot(expected_x, IN + RN)\n",
        "plt.plot(expected_x, expected_n_y)\n",
        "plt.show()"
      ],
      "execution_count": null,
      "outputs": [
        {
          "output_type": "stream",
          "text": [
            "[0.06795159 0.14024578 0.09594703 0.04855853]\n"
          ],
          "name": "stdout"
        },
        {
          "output_type": "display_data",
          "data": {
            "image/png": "[encoded data removed]",
            "text/plain": [
              "<Figure size 432x288 with 1 Axes>"
            ]
          },
          "metadata": {
            "tags": [],
            "needs_background": "light"
          }
        },
        {
          "output_type": "display_data",
          "data": {
            "image/png": "[encoded data removed]",
            "text/plain": [
              "<Figure size 432x288 with 1 Axes>"
            ]
          },
          "metadata": {
            "tags": [],
            "needs_background": "light"
          }
        }
      ]
    },
    {
      "cell_type": "code",
      "metadata": {
        "id": "9r1lqa_G4ZFT",
        "colab": {
          "base_uri": "https://localhost:8080/",
          "height": 524
        },
        "outputId": "37241fcf-b0e6-462d-b4e8-03d58a3519a3"
      },
      "source": [
        "# Test\n",
        "\n",
        "ret = odeint(deriv, y0, expected_x, args=tuple([0.06799324, 0.140, 0.09521198, 0.11]))\n",
        "S, V, IN, IV, RN, RV = ret.T\n",
        "plt.plot(expected_x, IV + RV)\n",
        "plt.plot(expected_x, expected_v_y)\n",
        "plt.show()\n",
        "\n",
        "plt.plot(expected_x, IN + RN)\n",
        "plt.plot(expected_x, expected_n_y)\n",
        "plt.show()"
      ],
      "execution_count": null,
      "outputs": [
        {
          "output_type": "display_data",
          "data": {
            "image/png": "[encoded data removed]",
            "text/plain": [
              "<Figure size 432x288 with 1 Axes>"
            ]
          },
          "metadata": {
            "tags": [],
            "needs_background": "light"
          }
        },
        {
          "output_type": "display_data",
          "data": {
            "image/png": "[encoded data removed]",
            "text/plain": [
              "<Figure size 432x288 with 1 Axes>"
            ]
          },
          "metadata": {
            "tags": [],
            "needs_background": "light"
          }
        }
      ]
    },
    {
      "cell_type": "markdown",
      "metadata": {
        "id": "jVTMyh4MDIDP"
      },
      "source": [
        "# SIR General Variants (Fixed Transmission)"
      ]
    },
    {
      "cell_type": "code",
      "metadata": {
        "id": "9VF_aexGDPIZ"
      },
      "source": [
        "# Define gamma as 1/(expected days to recover)\n",
        "g = 1/num\n",
        "\n",
        "# How much more infective the variants are\n",
        "t_factor = 1.3\n",
        "# Use roughly the same normal infection parameter as the result from above\n",
        "b = 0.07\n",
        "\n",
        "def deriv(y, t, m1, m2):\n",
        "  S, V, IN, IV, RN, RV = y\n",
        "  dSdt = -num_vac_slope(t) - (b * IN * S / N) - (t_factor * b * IV * S / N)\n",
        "  dVdt = num_vac_slope(t) - (m1 * IN * V / N) - (m2 * IV * V / N)\n",
        "  dINdt = (b * IN * S / N) + (m1 * IN * V / N) - g * IN\n",
        "  dIVdt = (t_factor * b * IV * S / N) + (m2 * IV * V / N) - g * IV\n",
        "  dRNdt = g * IN\n",
        "  dRVdt = g * IV\n",
        "  return dSdt, dVdt, dINdt, dIVdt, dRNdt, dRVdt"
      ],
      "execution_count": null,
      "outputs": []
    },
    {
      "cell_type": "code",
      "metadata": {
        "id": "WmijWW9GDh1i"
      },
      "source": [
        "def predict_var_t_curve(t, m1, m2):\n",
        "  ret = odeint(deriv, y0, t, args=(m1, m2))\n",
        "  S, V, IN, IV, RN, RV = ret.T\n",
        "  return IV + RV\n",
        "\n",
        "expected_x = list(filter(lambda x: x >= 0, [v for v in var_t]))\n",
        "expected_v_y = [sum(var_t[v]) for v in expected_x]\n",
        "\n",
        "expected_n_y = [cases_t[v] for v in expected_x]\n",
        "\n",
        "fit = curve_fit(predict_var_t_curve, expected_x, expected_v_y)\n",
        "print(fit[0])\n",
        "\n",
        "ret = odeint(deriv, y0, expected_x, args=tuple(fit[0]))\n",
        "S, V, IN, IV, RN, RV = ret.T\n",
        "plt.plot(expected_x, IV + RV)\n",
        "plt.plot(expected_x, expected_v_y)\n",
        "plt.show()\n",
        "\n",
        "plt.plot(expected_x, IN + RN)\n",
        "plt.plot(expected_x, expected_n_y)\n",
        "plt.show()"
      ],
      "execution_count": null,
      "outputs": []
    },
    {
      "cell_type": "markdown",
      "metadata": {
        "id": "nEsOY0BbFzce"
      },
      "source": [
        "# SIR General Variants With Custom Error Function"
      ]
    },
    {
      "cell_type": "code",
      "metadata": {
        "id": "7IcowIGiHpDw"
      },
      "source": [
        "g = 1/num\n",
        "\n",
        "# How much more infective variants are\n",
        "t_factor = 1.3\n",
        "\n",
        "# Use roughly the same normal infection parameter as the result from above\n",
        "b = 0.07\n",
        "\n",
        "def deriv(y, t, m1, m2):\n",
        "  S, V, IN, IV, RN, RV = y\n",
        "  dSdt = -num_vac_slope(t) - (b * IN * S / N) - (t_factor * b * IV * S / N)\n",
        "  dVdt = num_vac_slope(t) - (m1 * IN * V / N) - (m2 * IV * V / N)\n",
        "  dINdt = (b * IN * S / N) + (m1 * IN * V / N) - g * IN\n",
        "  dIVdt = (t_factor * b * IV * S / N) + (m2 * IV * V / N) - g * IV\n",
        "  dRNdt = g * IN\n",
        "  dRVdt = g * IV\n",
        "  return dSdt, dVdt, dINdt, dIVdt, dRNdt, dRVdt"
      ],
      "execution_count": null,
      "outputs": []
    },
    {
      "cell_type": "code",
      "metadata": {
        "id": "hlbvn-C4F7Wz",
        "colab": {
          "base_uri": "https://localhost:8080/"
        },
        "outputId": "3d360c0b-a249-4bd6-fbef-9853f36d2349"
      },
      "source": [
        "expected_x = list(filter(lambda x: x >= 0, [v for v in var_t]))\n",
        "expected_v_y = [sum(var_t[v]) for v in expected_x]\n",
        "expected_n_y = [cases_t[v] for v in expected_x]\n",
        "\n",
        "# Training data\n",
        "train_size = 0.8\n",
        "train_x = expected_x[: int(np.floor(len(expected_x) * train_size))]\n",
        "train_v_y = expected_v_y[: int(np.floor(len(expected_x) * train_size))]\n",
        "train_n_y = expected_n_y[: int(np.floor(len(expected_x) * train_size))]\n",
        "\n",
        "y0 = S_0, V_0, IN_0, IV_0, RN_0, RV_0\n",
        "\n",
        "# Custom error function\n",
        "# Minimize squared difference between the curves\n",
        "def error(vs):\n",
        "  m1, m2 = vs\n",
        "  ret = odeint(deriv, y0, train_x, args=(m1, m2))\n",
        "  S, V, IN, IV, RN, RV = ret.T\n",
        "  vars = IV + RV\n",
        "  norms = IN + RN\n",
        "  frac_diff_v = ((vars - train_v_y) / train_v_y) ** 2\n",
        "  frac_diff_n = ((norms - train_n_y) / train_n_y) ** 2\n",
        "  return sum(frac_diff_v + frac_diff_n)\n",
        "\n",
        "print(error([0.51737301, 0.35133384]))\n",
        "print(error([0.1, 0.27167919]))"
      ],
      "execution_count": null,
      "outputs": [
        {
          "output_type": "stream",
          "text": [
            "51.238429927693986\n",
            "0.9861389427681091\n"
          ],
          "name": "stdout"
        }
      ]
    },
    {
      "cell_type": "code",
      "metadata": {
        "id": "wSWGnQgqKcPH",
        "colab": {
          "base_uri": "https://localhost:8080/",
          "height": 569
        },
        "outputId": "386a2e80-d409-46e1-9213-f0f0925a5647"
      },
      "source": [
        "from scipy.optimize import minimize\n",
        "\n",
        "# Find the parametrs that minimize overal squared error\n",
        "res = minimize(error, [0.1, 0.2], bounds=[(0, 1), (0, 1)])\n",
        "\n",
        "ret = odeint(deriv, y0, expected_x, args=tuple(res.x))\n",
        "print(res.x)\n",
        "S, V, IN, IV, RN, RV = ret.T\n",
        "plt.plot(expected_x, IV + RV)\n",
        "plt.plot(expected_x, expected_v_y)\n",
        "plt.xlabel(\"Days\")\n",
        "plt.ylabel(\"Reported Variant Cases\")\n",
        "plt.legend((\"Predicted\", \"Actual\"))\n",
        "plt.show()\n",
        "\n",
        "plt.plot(expected_x, IN + RN)\n",
        "plt.plot(expected_x, expected_n_y)\n",
        "plt.xlabel(\"Days\")\n",
        "plt.ylabel(\"Total Cases\")\n",
        "plt.legend((\"Predicted\", \"Actual\"))\n",
        "plt.show()"
      ],
      "execution_count": null,
      "outputs": [
        {
          "output_type": "stream",
          "text": [
            "[0.07756646 0.26475141]\n"
          ],
          "name": "stdout"
        },
        {
          "output_type": "display_data",
          "data": {
            "image/png": "[encoded data removed]",
            "text/plain": [
              "<Figure size 432x288 with 1 Axes>"
            ]
          },
          "metadata": {
            "tags": [],
            "needs_background": "light"
          }
        },
        {
          "output_type": "display_data",
          "data": {
            "image/png": "[encoded data removed]",
            "text/plain": [
              "<Figure size 432x288 with 1 Axes>"
            ]
          },
          "metadata": {
            "tags": [],
            "needs_background": "light"
          }
        }
      ]
    }
  ]
}