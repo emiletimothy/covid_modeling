{
 "cells": [
  {
   "cell_type": "code",
   "execution_count": 374,
   "metadata": {},
   "outputs": [],
   "source": [
    "import pandas as pd\n",
    "import json\n",
    "import pycountry # Will probably require pip install pycountry\n",
    "import datetime\n",
    "import dateutil.parser as dparser\n",
    "import collections"
   ]
  },
  {
   "cell_type": "code",
   "execution_count": null,
   "metadata": {},
   "outputs": [],
   "source": [
    "# Getting a list of countries\n",
    "def get_countries():\n",
    "    lst = []\n",
    "    for x in pycountry.countries:\n",
    "        lst.append(x.name)\n",
    "    return lst\n",
    "countries = get_countries()\n",
    "countries"
   ]
  },
  {
   "cell_type": "code",
   "execution_count": 163,
   "metadata": {},
   "outputs": [],
   "source": [
    "# Opening JSON file and loading the data\n",
    "# into the variable data\n",
    "json_path = 'weekly_surveillance_stats.json'\n",
    "with open(json_path) as json_file:\n",
    "    data = json.load(json_file)"
   ]
  },
  {
   "cell_type": "markdown",
   "metadata": {},
   "source": [
    "PREPROCESSING"
   ]
  },
  {
   "cell_type": "code",
   "execution_count": 412,
   "metadata": {},
   "outputs": [],
   "source": [
    "'''\n",
    "Changes list of dictionaries to just a singular \n",
    "dictionary with following format\n",
    "{\n",
    "    VARIANT : COUNT\n",
    "    B.1 : 2,\n",
    "    B.1.7 : 5\n",
    "}\n",
    "'''\n",
    "def convert_var_dict(lst_counts_variants):\n",
    "    \n",
    "    variant_dict = {}\n",
    "    for curr_dic in lst_counts_variants:\n",
    "        variant_dict[curr_dic['value']] = curr_dic['count']\n",
    "    return variant_dict\n",
    "\n",
    "'''\n",
    "create_entry makes an entry for the sorted country table with\n",
    "WEEK break down and then further breakdown into variant strain and count\n",
    "\n",
    "Entry format example below\n",
    "{\n",
    "    WEEK_STAMP : VARIANT_DATA\n",
    "    \"01-2020\" : varient_dict,\n",
    "    \"02-2020\" : varient_dict,\n",
    "    \"03-2020\" : varient_dict,\n",
    "}\n",
    "    \n",
    "'''\n",
    "\n",
    "def create_entry(date, lst_counts_variants):\n",
    "    var_dict = convert_var_dict(lst_counts_variants)\n",
    "    entry = {\n",
    "            date : var_dict\n",
    "        }\n",
    "    return entry\n",
    "\n",
    "# Add new week date and variant info to entry \n",
    "def add_entry(entry, date, lst_counts_variants):\n",
    "    var_dict = convert_var_dict(lst_counts_variants)\n",
    "    entry[date] = var_dict\n",
    "    return entry        \n",
    "\n",
    "\n",
    "# Add new week date and variant info to entry \n",
    "def add_entry_cummulative(entry, prev_date, curr_date, lst_cnts_vars, country):\n",
    "    try:\n",
    "        cummalitive_dict = entry[prev_date]\n",
    "    except KeyError as e:\n",
    "        cummalitive_dict = {}\n",
    "        \n",
    "    var_dict = convert_var_dict(lst_cnts_vars)\n",
    "\n",
    "    # Add two dictionaries together\n",
    "    dict1_cntr = collections.Counter(cummalitive_dict)\n",
    "    dict2_cntr = collections.Counter(var_dict)\n",
    "    new_dict = dict1_cntr + dict2_cntr\n",
    "    entry[curr_date] = dict(new_dict) \n",
    "    return entry   \n"
   ]
  },
  {
   "cell_type": "code",
   "execution_count": 413,
   "metadata": {},
   "outputs": [],
   "source": [
    "'''\n",
    "Converts data to be indexed by country\n",
    "\n",
    "Example:\n",
    "\n",
    "{\n",
    "    COUNTRY: {DATE : {VARIANT : COUNT}}\n",
    "    Iceland : \n",
    "        {\n",
    "            01-2020 :\n",
    "                {\n",
    "                    b.1 : 3\n",
    "                    b.1.7 : 4\n",
    "                }\n",
    "            02-2020 : \n",
    "                {\n",
    "                    b.1 : 3\n",
    "                }\n",
    "        },\n",
    "    Spain : ...,\n",
    "    ...\n",
    "}\n",
    "'''\n",
    "def convert_to_country_idx(data):\n",
    "     # Setting up range parameters for Data processing\n",
    "    date_obj = dparser.parse(data['created']).date() # Getting the date that the data set was created (This is a parameter in json)\n",
    "    curr_week = date_obj.isocalendar()[1] # Determining the week it was created to accuractely parse through data\n",
    "    data_range = {\n",
    "        2020 : range(10, 53), # Data ranges from weeks 10 to 52 (End of year) in 2020\n",
    "        2021 : range(0, curr_week) # Avaible data ranges from start of year to 1 week before current week\n",
    "    }\n",
    "\n",
    "    country_sorted_data = {}\n",
    "    # Looping through all the data by year, then by week\n",
    "    for year in data_range.keys():\n",
    "        for week in data_range[year]:\n",
    "            # Access the country data for that week\n",
    "            date = (\"%02d\" % week) + \"-\" + str(year)\n",
    "            df = pd.DataFrame.from_dict(data['stats'][date], orient=\"index\", columns = ['submissions_per_lineage', 'submissions'])   \n",
    "            '''\n",
    "            Run this in sepereate cell for an example of what df looks like\n",
    "            df = pd.DataFrame.from_dict(data['stats']['12-2020'], orient=\"index\", columns = ['submissions_per_lineage', 'submissions'])\n",
    "            df\n",
    "            '''\n",
    "            # Convert country data to new format\n",
    "            for country, submissions in df.iterrows():\n",
    "                var_data = submissions[\"submissions_per_lineage\"]\n",
    "                if country in country_sorted_data:\n",
    "                    country_sorted_data[country] = add_entry(country_sorted_data[country], date, var_data)\n",
    "                else:\n",
    "                    entry = create_entry(date, var_data)\n",
    "                    country_sorted_data[country] = entry\n",
    "    return country_sorted_data"
   ]
  },
  {
   "cell_type": "code",
   "execution_count": 414,
   "metadata": {},
   "outputs": [],
   "source": [
    "def convert_to_country_idx_cummalitive(data):\n",
    "     # Setting up range parameters for Data processing\n",
    "    date_obj = dparser.parse(data['created']).date() # Getting the date that the data set was created (This is a parameter in json)\n",
    "    curr_week = date_obj.isocalendar()[1] # Determining the week it was created to accuractely parse through data\n",
    "    data_range = {\n",
    "        2020 : range(10, 53), # Data ranges from weeks 10 to 52 (End of year) in 2020\n",
    "        2021 : range(0, curr_week) # Avaible data ranges from start of year to 1 week before current week\n",
    "    }\n",
    "\n",
    "    country_sorted_data = {}\n",
    "    # Looping through all the data by year, then by week\n",
    "    for year in data_range.keys():\n",
    "        prev_date = ''\n",
    "        for week in data_range[year]:\n",
    "            # Access the country data for that week\n",
    "            date = (\"%02d\" % week) + \"-\" + str(year)\n",
    "            df = pd.DataFrame.from_dict(data['stats'][date], orient=\"index\", columns = ['submissions_per_lineage', 'submissions'])  \n",
    "            # Convert country data to new format\n",
    "            for country, submissions in df.iterrows():\n",
    "                var_data = submissions[\"submissions_per_lineage\"]\n",
    "                if country in country_sorted_data:\n",
    "                    country_sorted_data[country] = add_entry_cummulative(country_sorted_data[country], prev_date, date, var_data, country)\n",
    "                else:\n",
    "                    entry = create_entry(date, var_data)\n",
    "                    country_sorted_data[country] = entry\n",
    "            prev_date = date\n",
    "    return country_sorted_data"
   ]
  },
  {
   "cell_type": "code",
   "execution_count": 415,
   "metadata": {},
   "outputs": [],
   "source": [
    "final = convert_to_country_idx(data)"
   ]
  },
  {
   "cell_type": "code",
   "execution_count": 416,
   "metadata": {},
   "outputs": [],
   "source": [
    "final2 = convert_to_country_idx_cummalitive(data)"
   ]
  },
  {
   "cell_type": "code",
   "execution_count": 419,
   "metadata": {},
   "outputs": [],
   "source": [
    "with open('gisaid_variant_data.json', 'w') as f:\n",
    "    json.dump(final, f)\n",
    "    \n",
    "with open('cummulative_ggisaid_variant_data.json', 'w') as f:\n",
    "    json.dump(final2, f)"
   ]
  },
  {
   "cell_type": "code",
   "execution_count": null,
   "metadata": {},
   "outputs": [],
   "source": []
  }
 ],
 "metadata": {
  "kernelspec": {
   "display_name": "Python 3",
   "language": "python",
   "name": "python3"
  },
  "language_info": {
   "codemirror_mode": {
    "name": "ipython",
    "version": 3
   },
   "file_extension": ".py",
   "mimetype": "text/x-python",
   "name": "python",
   "nbconvert_exporter": "python",
   "pygments_lexer": "ipython3",
   "version": "3.8.3"
  }
 },
 "nbformat": 4,
 "nbformat_minor": 4
}
